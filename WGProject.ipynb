{
 "cells": [
  {
   "cell_type": "markdown",
   "metadata": {
    "heading_collapsed": true
   },
   "source": [
    "# Data loading"
   ]
  },
  {
   "cell_type": "code",
   "execution_count": 1,
   "metadata": {
    "ExecuteTime": {
     "end_time": "2020-04-23T10:26:23.096786Z",
     "start_time": "2020-04-23T10:26:17.862638Z"
    },
    "colab": {
     "base_uri": "https://localhost:8080/",
     "height": 71
    },
    "colab_type": "code",
    "hidden": true,
    "id": "nWyYek0FCTXH",
    "outputId": "86de1a4e-fd02-41ae-86d4-13e7ab3d9939"
   },
   "outputs": [],
   "source": [
    "import numpy as np\n",
    "import pandas as pd\n",
    "import matplotlib.pyplot as plt\n",
    "import seaborn as sns\n",
    "\n",
    "from scipy import stats\n",
    "\n",
    "from sklearn.preprocessing import LabelEncoder\n",
    "from sklearn.preprocessing import StandardScaler\n",
    "from sklearn.model_selection import KFold\n",
    "from sklearn.decomposition import PCA\n",
    "\n",
    "import tensorflow as tf\n",
    "from tensorflow import keras\n",
    "from tensorflow.keras import layers"
   ]
  },
  {
   "cell_type": "code",
   "execution_count": 2,
   "metadata": {
    "ExecuteTime": {
     "end_time": "2020-04-23T10:26:28.525043Z",
     "start_time": "2020-04-23T10:26:23.155391Z"
    },
    "colab": {},
    "colab_type": "code",
    "hidden": true,
    "id": "Ox0njMUsCVlm"
   },
   "outputs": [],
   "source": [
    "catalog = pd.read_csv('data/data_catalogue.csv')\n",
    "data = pd.read_csv('data/data_arena_members.csv')"
   ]
  },
  {
   "cell_type": "code",
   "execution_count": 3,
   "metadata": {
    "ExecuteTime": {
     "end_time": "2020-04-23T10:26:31.701546Z",
     "start_time": "2020-04-23T10:26:31.668636Z"
    },
    "hidden": true
   },
   "outputs": [],
   "source": [
    "def plot_hist2d(x,\n",
    "                y,\n",
    "                title,\n",
    "                xlabel,\n",
    "                ylabel,\n",
    "                ax,\n",
    "                bins=(50,50),\n",
    "                cmap=plt.cm.BuPu):\n",
    "    ax.hist2d(x, y, bins=bins, cmap=cmap)\n",
    "    ax.set_title(title)\n",
    "    ax.set_xlabel(xlabel)\n",
    "    ax.set_ylabel(ylabel)\n",
    "    \n",
    "def price_ditributions(catalog,\n",
    "                       price='creds'):\n",
    "    if not price in ['creds', 'gold']:\n",
    "        raise ValueError('Can display only creds and gold distibutions!')\n",
    "    fig, axs = plt.subplots(nrows=5, ncols=2, figsize=(16,30))\n",
    "    for i, ax in enumerate(axs.flat):\n",
    "        ax.set_title(f'Level {i + 1}')\n",
    "        sns.distplot(catalog[catalog['item_level']==i+1]['item_price_credit' if price=='creds' else 'item_price_gold'].values,\n",
    "                     kde=i!=0 and i!=9, bins=15, ax=ax)\n",
    "    plt.show()\n",
    "    \n",
    "def get_regression_line(x,\n",
    "                        y,\n",
    "                        degree):\n",
    "    params = np.polyfit(x, y, degree)\n",
    "    poly = np.poly1d(params)\n",
    "    x_grid = np.linspace(min(x), max(x), 100)\n",
    "    y_grid = poly(x_grid)\n",
    "    return x_grid, y_grid\n",
    "\n",
    "def build_model():\n",
    "    model = keras.Sequential([\n",
    "        layers.Dense(128, activation='relu', input_shape=[len(features)]),\n",
    "        layers.Dense(64, activation='relu'),\n",
    "        layers.Dense(32, activation='relu'),\n",
    "        layers.Dropout(0.1),\n",
    "        layers.Dense(1)\n",
    "    ])\n",
    "\n",
    "    optimizer = tf.keras.optimizers.RMSprop(0.001)\n",
    "    loss = tf.keras.losses.MSE\n",
    "\n",
    "    model.compile(loss=loss,\n",
    "                  optimizer=optimizer)\n",
    "    return model\n",
    "\n",
    "def plot_history(models):\n",
    "    k = len(models)\n",
    "    \n",
    "    fig, axs = plt.subplots(nrows=(k+1)//2, ncols=2, figsize=(16,30))\n",
    "    \n",
    "    for i, ax in enumerate(axs.flat):\n",
    "        if i >= k:\n",
    "            break\n",
    "        \n",
    "        history = models[i][1]\n",
    "        hist = pd.DataFrame(history.history)\n",
    "        hist['epoch'] = history.epoch\n",
    "    \n",
    "        ax.set_title(f'Model {i+1}')\n",
    "        ax.set_xlabel('Epoch')\n",
    "        ax.set_ylabel('Loss')\n",
    "        \n",
    "        ax.plot(hist['epoch'], hist['loss'], label='Train loss')\n",
    "        ax.plot(hist['epoch'], hist['val_loss'], label='Val loss')\n",
    "        \n",
    "        ax.set_ylim([0,1])\n",
    "        ax.legend()\n",
    "\n",
    "    plt.show()\n",
    "    \n",
    "def get_mean_mse(models):\n",
    "    total_loss = 0\n",
    "    for model in models:\n",
    "        total_loss += model[2]\n",
    "    return total_loss / len(models)\n",
    "\n",
    "def get_best_model(models):\n",
    "    min_loss, ind = float('inf'), -1\n",
    "    for i, model in enumerate(models):\n",
    "        if model[2] < min_loss:\n",
    "            min_loss = model[2]\n",
    "            ind = i\n",
    "    return models[ind][0]"
   ]
  },
  {
   "cell_type": "markdown",
   "metadata": {
    "colab": {},
    "colab_type": "code",
    "heading_collapsed": true,
    "id": "eA__2XSuCY49"
   },
   "source": [
    "# Cleaning catalog"
   ]
  },
  {
   "cell_type": "code",
   "execution_count": 4,
   "metadata": {
    "ExecuteTime": {
     "end_time": "2020-04-23T10:26:34.770340Z",
     "start_time": "2020-04-23T10:26:34.714489Z"
    },
    "hidden": true
   },
   "outputs": [
    {
     "name": "stdout",
     "output_type": "stream",
     "text": [
      "[CLEANING BY CREW_SIZE: 2 <= CREW_SIZE <= 6]: removed 7 rows.\n",
      "[CLEANING BY 1 LEVEL: ITEM_PRICE_CREDIT = ITEM_PRICE_GOLD = 0]: removed 9 rows.\n",
      "[CLEANING BY PRICE: ITEM_PRICE_CREDIT > 100 OR ITEM_PRICE_GOLD > 100]: removed 98 rows.\n",
      "[CUSTOM CLEANING BY PRICE 2 LEVEL: 2000 < ITEM_PRICE_CREDIT < 20000]: removed 20 rows.\n",
      "[CUSTOM CLEANING BY PRICE 5 LEVEL: ITEM_PRICE_CREDIT < 500000]: removed 1 rows.\n",
      "\n",
      "Totally removed 135 rows.\n"
     ]
    }
   ],
   "source": [
    "removed_tanks = pd.DataFrame()\n",
    "\n",
    "masks = [\n",
    "    ('cleaning by crew_size: 2 <= crew_size <= 6', \\\n",
    "    (catalog['crew_size'] >= 2) & (catalog['crew_size'] <= 6)),\n",
    "    \n",
    "    ('cleaning by 1 level: item_price_credit = item_price_gold = 0', \\\n",
    "    (catalog['item_level'] != 1) | \\\n",
    "    ((catalog['item_price_credit'] == 0) & (catalog['item_price_gold'] == 0))),\n",
    "    \n",
    "    ('cleaning by price: item_price_credit > 100 or item_price_gold > 100', \\\n",
    "    (catalog['item_level'] == 1) | \\\n",
    "    (((catalog['item_price_credit'] > 100) & (catalog['item_price_gold'] == 0)) | \\\n",
    "    ((catalog['item_price_credit'] == 0) & (catalog['item_price_gold'] > 100)))),\n",
    "    \n",
    "    ('custom cleaning by price 2 level: 2000 < item_price_credit < 20000', \\\n",
    "    (catalog['item_level'] != 2) | (catalog['item_price_gold'] != 0) | \\\n",
    "    (catalog['item_price_credit'] > 2000) & (catalog['item_price_credit'] < 20000)),\n",
    "    \n",
    "    ('custom cleaning by price 5 level: item_price_credit < 500000', \\\n",
    "    (catalog['item_level'] != 5) | \\\n",
    "    (catalog['item_price_gold'] != 0) | (catalog['item_price_credit'] < 500000))\n",
    "]\n",
    "\n",
    "for mask in masks:\n",
    "    N = len(catalog)\n",
    "    \n",
    "    removed_tanks = pd.concat([removed_tanks, catalog.loc[~mask[1]]])\n",
    "    catalog = catalog.loc[mask[1]]\n",
    "\n",
    "    print(f'[{mask[0].upper()}]: removed {N - len(catalog)} rows.')\n",
    "    \n",
    "catalog.index = np.arange(len(catalog))\n",
    "removed_tanks.index = np.arange(len(removed_tanks))\n",
    "\n",
    "print(f'\\nTotally removed {len(removed_tanks)} rows.')"
   ]
  },
  {
   "cell_type": "code",
   "execution_count": 5,
   "metadata": {
    "ExecuteTime": {
     "end_time": "2020-04-23T10:26:38.190918Z",
     "start_time": "2020-04-23T10:26:38.163954Z"
    },
    "hidden": true
   },
   "outputs": [
    {
     "data": {
      "text/html": [
       "<div>\n",
       "<style scoped>\n",
       "    .dataframe tbody tr th:only-of-type {\n",
       "        vertical-align: middle;\n",
       "    }\n",
       "\n",
       "    .dataframe tbody tr th {\n",
       "        vertical-align: top;\n",
       "    }\n",
       "\n",
       "    .dataframe thead th {\n",
       "        text-align: right;\n",
       "    }\n",
       "</style>\n",
       "<table border=\"1\" class=\"dataframe\">\n",
       "  <thead>\n",
       "    <tr style=\"text-align: right;\">\n",
       "      <th></th>\n",
       "      <th>item_cd</th>\n",
       "      <th>item_class</th>\n",
       "      <th>item_price_credit</th>\n",
       "      <th>item_price_gold</th>\n",
       "      <th>item_level</th>\n",
       "      <th>crew_size</th>\n",
       "    </tr>\n",
       "  </thead>\n",
       "  <tbody>\n",
       "    <tr>\n",
       "      <th>0</th>\n",
       "      <td>46145</td>\n",
       "      <td>lightTank</td>\n",
       "      <td>0</td>\n",
       "      <td>0</td>\n",
       "      <td>10</td>\n",
       "      <td>1</td>\n",
       "    </tr>\n",
       "    <tr>\n",
       "      <th>1</th>\n",
       "      <td>46353</td>\n",
       "      <td>heavyTank</td>\n",
       "      <td>0</td>\n",
       "      <td>0</td>\n",
       "      <td>10</td>\n",
       "      <td>1</td>\n",
       "    </tr>\n",
       "    <tr>\n",
       "      <th>2</th>\n",
       "      <td>57857</td>\n",
       "      <td>mediumTank</td>\n",
       "      <td>0</td>\n",
       "      <td>1</td>\n",
       "      <td>1</td>\n",
       "      <td>1</td>\n",
       "    </tr>\n",
       "    <tr>\n",
       "      <th>3</th>\n",
       "      <td>59921</td>\n",
       "      <td>SPG</td>\n",
       "      <td>0</td>\n",
       "      <td>0</td>\n",
       "      <td>1</td>\n",
       "      <td>0</td>\n",
       "    </tr>\n",
       "    <tr>\n",
       "      <th>4</th>\n",
       "      <td>65025</td>\n",
       "      <td>lightTank</td>\n",
       "      <td>0</td>\n",
       "      <td>0</td>\n",
       "      <td>1</td>\n",
       "      <td>1</td>\n",
       "    </tr>\n",
       "    <tr>\n",
       "      <th>...</th>\n",
       "      <td>...</td>\n",
       "      <td>...</td>\n",
       "      <td>...</td>\n",
       "      <td>...</td>\n",
       "      <td>...</td>\n",
       "      <td>...</td>\n",
       "    </tr>\n",
       "    <tr>\n",
       "      <th>130</th>\n",
       "      <td>42753</td>\n",
       "      <td>mediumTank</td>\n",
       "      <td>915000</td>\n",
       "      <td>0</td>\n",
       "      <td>2</td>\n",
       "      <td>5</td>\n",
       "    </tr>\n",
       "    <tr>\n",
       "      <th>131</th>\n",
       "      <td>42769</td>\n",
       "      <td>lightTank</td>\n",
       "      <td>500</td>\n",
       "      <td>0</td>\n",
       "      <td>2</td>\n",
       "      <td>3</td>\n",
       "    </tr>\n",
       "    <tr>\n",
       "      <th>132</th>\n",
       "      <td>43009</td>\n",
       "      <td>lightTank</td>\n",
       "      <td>38500</td>\n",
       "      <td>0</td>\n",
       "      <td>2</td>\n",
       "      <td>3</td>\n",
       "    </tr>\n",
       "    <tr>\n",
       "      <th>133</th>\n",
       "      <td>43265</td>\n",
       "      <td>lightTank</td>\n",
       "      <td>39300</td>\n",
       "      <td>0</td>\n",
       "      <td>2</td>\n",
       "      <td>2</td>\n",
       "    </tr>\n",
       "    <tr>\n",
       "      <th>134</th>\n",
       "      <td>9729</td>\n",
       "      <td>lightTank</td>\n",
       "      <td>725000</td>\n",
       "      <td>0</td>\n",
       "      <td>5</td>\n",
       "      <td>4</td>\n",
       "    </tr>\n",
       "  </tbody>\n",
       "</table>\n",
       "<p>135 rows × 6 columns</p>\n",
       "</div>"
      ],
      "text/plain": [
       "     item_cd  item_class  item_price_credit  item_price_gold  item_level  \\\n",
       "0      46145   lightTank                  0                0          10   \n",
       "1      46353   heavyTank                  0                0          10   \n",
       "2      57857  mediumTank                  0                1           1   \n",
       "3      59921         SPG                  0                0           1   \n",
       "4      65025   lightTank                  0                0           1   \n",
       "..       ...         ...                ...              ...         ...   \n",
       "130    42753  mediumTank             915000                0           2   \n",
       "131    42769   lightTank                500                0           2   \n",
       "132    43009   lightTank              38500                0           2   \n",
       "133    43265   lightTank              39300                0           2   \n",
       "134     9729   lightTank             725000                0           5   \n",
       "\n",
       "     crew_size  \n",
       "0            1  \n",
       "1            1  \n",
       "2            1  \n",
       "3            0  \n",
       "4            1  \n",
       "..         ...  \n",
       "130          5  \n",
       "131          3  \n",
       "132          3  \n",
       "133          2  \n",
       "134          4  \n",
       "\n",
       "[135 rows x 6 columns]"
      ]
     },
     "execution_count": 5,
     "metadata": {},
     "output_type": "execute_result"
    }
   ],
   "source": [
    "removed_tanks"
   ]
  },
  {
   "cell_type": "code",
   "execution_count": 6,
   "metadata": {
    "ExecuteTime": {
     "end_time": "2020-04-23T10:26:38.218846Z",
     "start_time": "2020-04-23T10:26:38.193910Z"
    },
    "hidden": true
   },
   "outputs": [
    {
     "data": {
      "text/html": [
       "<div>\n",
       "<style scoped>\n",
       "    .dataframe tbody tr th:only-of-type {\n",
       "        vertical-align: middle;\n",
       "    }\n",
       "\n",
       "    .dataframe tbody tr th {\n",
       "        vertical-align: top;\n",
       "    }\n",
       "\n",
       "    .dataframe thead th {\n",
       "        text-align: right;\n",
       "    }\n",
       "</style>\n",
       "<table border=\"1\" class=\"dataframe\">\n",
       "  <thead>\n",
       "    <tr style=\"text-align: right;\">\n",
       "      <th></th>\n",
       "      <th>item_cd</th>\n",
       "      <th>item_class</th>\n",
       "      <th>item_price_credit</th>\n",
       "      <th>item_price_gold</th>\n",
       "      <th>item_level</th>\n",
       "      <th>crew_size</th>\n",
       "    </tr>\n",
       "  </thead>\n",
       "  <tbody>\n",
       "    <tr>\n",
       "      <th>0</th>\n",
       "      <td>1</td>\n",
       "      <td>4</td>\n",
       "      <td>356700</td>\n",
       "      <td>0</td>\n",
       "      <td>5</td>\n",
       "      <td>4</td>\n",
       "    </tr>\n",
       "    <tr>\n",
       "      <th>1</th>\n",
       "      <td>17</td>\n",
       "      <td>4</td>\n",
       "      <td>373000</td>\n",
       "      <td>0</td>\n",
       "      <td>5</td>\n",
       "      <td>5</td>\n",
       "    </tr>\n",
       "    <tr>\n",
       "      <th>2</th>\n",
       "      <td>33</td>\n",
       "      <td>2</td>\n",
       "      <td>0</td>\n",
       "      <td>1500</td>\n",
       "      <td>5</td>\n",
       "      <td>5</td>\n",
       "    </tr>\n",
       "    <tr>\n",
       "      <th>3</th>\n",
       "      <td>49</td>\n",
       "      <td>4</td>\n",
       "      <td>0</td>\n",
       "      <td>7500</td>\n",
       "      <td>8</td>\n",
       "      <td>4</td>\n",
       "    </tr>\n",
       "    <tr>\n",
       "      <th>4</th>\n",
       "      <td>81</td>\n",
       "      <td>4</td>\n",
       "      <td>0</td>\n",
       "      <td>0</td>\n",
       "      <td>1</td>\n",
       "      <td>5</td>\n",
       "    </tr>\n",
       "    <tr>\n",
       "      <th>...</th>\n",
       "      <td>...</td>\n",
       "      <td>...</td>\n",
       "      <td>...</td>\n",
       "      <td>...</td>\n",
       "      <td>...</td>\n",
       "      <td>...</td>\n",
       "    </tr>\n",
       "    <tr>\n",
       "      <th>748</th>\n",
       "      <td>64817</td>\n",
       "      <td>3</td>\n",
       "      <td>0</td>\n",
       "      <td>3500</td>\n",
       "      <td>6</td>\n",
       "      <td>5</td>\n",
       "    </tr>\n",
       "    <tr>\n",
       "      <th>749</th>\n",
       "      <td>65041</td>\n",
       "      <td>1</td>\n",
       "      <td>0</td>\n",
       "      <td>0</td>\n",
       "      <td>1</td>\n",
       "      <td>6</td>\n",
       "    </tr>\n",
       "    <tr>\n",
       "      <th>750</th>\n",
       "      <td>65073</td>\n",
       "      <td>2</td>\n",
       "      <td>0</td>\n",
       "      <td>12250</td>\n",
       "      <td>8</td>\n",
       "      <td>4</td>\n",
       "    </tr>\n",
       "    <tr>\n",
       "      <th>751</th>\n",
       "      <td>65297</td>\n",
       "      <td>2</td>\n",
       "      <td>0</td>\n",
       "      <td>12500</td>\n",
       "      <td>8</td>\n",
       "      <td>5</td>\n",
       "    </tr>\n",
       "    <tr>\n",
       "      <th>752</th>\n",
       "      <td>65345</td>\n",
       "      <td>2</td>\n",
       "      <td>0</td>\n",
       "      <td>11700</td>\n",
       "      <td>8</td>\n",
       "      <td>5</td>\n",
       "    </tr>\n",
       "  </tbody>\n",
       "</table>\n",
       "<p>753 rows × 6 columns</p>\n",
       "</div>"
      ],
      "text/plain": [
       "     item_cd  item_class  item_price_credit  item_price_gold  item_level  \\\n",
       "0          1           4             356700                0           5   \n",
       "1         17           4             373000                0           5   \n",
       "2         33           2                  0             1500           5   \n",
       "3         49           4                  0             7500           8   \n",
       "4         81           4                  0                0           1   \n",
       "..       ...         ...                ...              ...         ...   \n",
       "748    64817           3                  0             3500           6   \n",
       "749    65041           1                  0                0           1   \n",
       "750    65073           2                  0            12250           8   \n",
       "751    65297           2                  0            12500           8   \n",
       "752    65345           2                  0            11700           8   \n",
       "\n",
       "     crew_size  \n",
       "0            4  \n",
       "1            5  \n",
       "2            5  \n",
       "3            4  \n",
       "4            5  \n",
       "..         ...  \n",
       "748          5  \n",
       "749          6  \n",
       "750          4  \n",
       "751          5  \n",
       "752          5  \n",
       "\n",
       "[753 rows x 6 columns]"
      ]
     },
     "execution_count": 6,
     "metadata": {},
     "output_type": "execute_result"
    }
   ],
   "source": [
    "classEncoder = LabelEncoder()\n",
    "\n",
    "catalog['item_class'] = classEncoder.fit_transform(catalog['item_class'])\n",
    "catalog"
   ]
  },
  {
   "cell_type": "code",
   "execution_count": 7,
   "metadata": {
    "ExecuteTime": {
     "end_time": "2020-04-23T10:26:38.646758Z",
     "start_time": "2020-04-23T10:26:38.221837Z"
    },
    "colab": {},
    "colab_type": "code",
    "hidden": true,
    "id": "fW1NXPydCVoC"
   },
   "outputs": [
    {
     "data": {
      "image/png": "[encoded data removed]",
      "text/plain": [
       "<Figure size 1152x360 with 2 Axes>"
      ]
     },
     "metadata": {
      "needs_background": "light"
     },
     "output_type": "display_data"
    }
   ],
   "source": [
    "creds_catalog = catalog[catalog['item_price_gold'] == 0]\n",
    "gold_catalog = catalog[catalog['item_price_credit'] == 0]\n",
    "\n",
    "fig, axs = plt.subplots(nrows=1, ncols=2, figsize=(16,5))\n",
    "\n",
    "degree = 3\n",
    "prices = creds_catalog[['item_level', 'item_price_credit']].values\n",
    "\n",
    "plot_hist2d(x=creds_catalog['item_level'],\n",
    "            y=creds_catalog['item_price_credit'],\n",
    "            title='Price credits distribution by level',\n",
    "            xlabel='Level',\n",
    "            ylabel='Price credits',\n",
    "            ax=axs[0])\n",
    "axs[0].plot(*get_regression_line(prices[:,0], prices[:,1], degree), '-r')\n",
    "\n",
    "degree = 3\n",
    "prices = gold_catalog[['item_level', 'item_price_gold']].values\n",
    "\n",
    "plot_hist2d(x=gold_catalog['item_level'],\n",
    "            y=gold_catalog['item_price_gold'],\n",
    "            title='Price gold distribution by level',\n",
    "            xlabel='Level',\n",
    "            ylabel='Price gold',\n",
    "            ax=axs[1])\n",
    "axs[1].plot(*get_regression_line(prices[:,0], prices[:,1], degree), '-r')\n",
    "\n",
    "plt.show()"
   ]
  },
  {
   "cell_type": "code",
   "execution_count": 8,
   "metadata": {
    "ExecuteTime": {
     "end_time": "2020-04-23T10:26:40.786668Z",
     "start_time": "2020-04-23T10:26:38.648752Z"
    },
    "hidden": true
   },
   "outputs": [
    {
     "data": {
      "image/png": "[encoded data removed]",
      "text/plain": [
       "<Figure size 1152x2160 with 10 Axes>"
      ]
     },
     "metadata": {
      "needs_background": "light"
     },
     "output_type": "display_data"
    }
   ],
   "source": [
    "price_ditributions(creds_catalog, price='creds')"
   ]
  },
  {
   "cell_type": "code",
   "execution_count": 9,
   "metadata": {
    "ExecuteTime": {
     "end_time": "2020-04-23T10:26:42.760779Z",
     "start_time": "2020-04-23T10:26:40.788668Z"
    },
    "hidden": true
   },
   "outputs": [
    {
     "data": {
      "image/png": "[encoded data removed]",
      "text/plain": [
       "<Figure size 1152x2160 with 10 Axes>"
      ]
     },
     "metadata": {
      "needs_background": "light"
     },
     "output_type": "display_data"
    }
   ],
   "source": [
    "price_ditributions(gold_catalog, price='gold')"
   ]
  },
  {
   "cell_type": "code",
   "execution_count": 10,
   "metadata": {
    "ExecuteTime": {
     "end_time": "2020-04-23T10:26:42.768760Z",
     "start_time": "2020-04-23T10:26:42.762737Z"
    },
    "colab": {},
    "colab_type": "code",
    "hidden": true,
    "id": "hg3TYV4uCY7_"
   },
   "outputs": [
    {
     "data": {
      "text/plain": [
       "(753, 6)"
      ]
     },
     "execution_count": 10,
     "metadata": {},
     "output_type": "execute_result"
    }
   ],
   "source": [
    "catalog.shape"
   ]
  },
  {
   "cell_type": "code",
   "execution_count": 11,
   "metadata": {
    "ExecuteTime": {
     "end_time": "2020-04-23T10:26:42.786675Z",
     "start_time": "2020-04-23T10:26:42.770716Z"
    },
    "hidden": true
   },
   "outputs": [
    {
     "name": "stdout",
     "output_type": "stream",
     "text": [
      "<class 'pandas.core.frame.DataFrame'>\n",
      "Int64Index: 753 entries, 0 to 752\n",
      "Data columns (total 6 columns):\n",
      " #   Column             Non-Null Count  Dtype\n",
      "---  ------             --------------  -----\n",
      " 0   item_cd            753 non-null    int64\n",
      " 1   item_class         753 non-null    int32\n",
      " 2   item_price_credit  753 non-null    int64\n",
      " 3   item_price_gold    753 non-null    int64\n",
      " 4   item_level         753 non-null    int64\n",
      " 5   crew_size          753 non-null    int64\n",
      "dtypes: int32(1), int64(5)\n",
      "memory usage: 38.2 KB\n"
     ]
    }
   ],
   "source": [
    "catalog.info()"
   ]
  },
  {
   "cell_type": "code",
   "execution_count": 12,
   "metadata": {
    "ExecuteTime": {
     "end_time": "2020-04-23T10:26:42.922612Z",
     "start_time": "2020-04-23T10:26:42.789666Z"
    },
    "hidden": true
   },
   "outputs": [
    {
     "data": {
      "text/html": [
       "<div>\n",
       "<style scoped>\n",
       "    .dataframe tbody tr th:only-of-type {\n",
       "        vertical-align: middle;\n",
       "    }\n",
       "\n",
       "    .dataframe tbody tr th {\n",
       "        vertical-align: top;\n",
       "    }\n",
       "\n",
       "    .dataframe thead th {\n",
       "        text-align: right;\n",
       "    }\n",
       "</style>\n",
       "<table border=\"1\" class=\"dataframe\">\n",
       "  <thead>\n",
       "    <tr style=\"text-align: right;\">\n",
       "      <th></th>\n",
       "      <th>item_cd</th>\n",
       "      <th>item_class</th>\n",
       "      <th>item_price_credit</th>\n",
       "      <th>item_price_gold</th>\n",
       "      <th>item_level</th>\n",
       "      <th>crew_size</th>\n",
       "    </tr>\n",
       "  </thead>\n",
       "  <tbody>\n",
       "    <tr>\n",
       "      <th>count</th>\n",
       "      <td>753.000000</td>\n",
       "      <td>753.000000</td>\n",
       "      <td>7.530000e+02</td>\n",
       "      <td>753.000000</td>\n",
       "      <td>753.000000</td>\n",
       "      <td>753.000000</td>\n",
       "    </tr>\n",
       "    <tr>\n",
       "      <th>mean</th>\n",
       "      <td>23770.243028</td>\n",
       "      <td>2.386454</td>\n",
       "      <td>1.168060e+06</td>\n",
       "      <td>2238.698539</td>\n",
       "      <td>6.175299</td>\n",
       "      <td>4.290837</td>\n",
       "    </tr>\n",
       "    <tr>\n",
       "      <th>std</th>\n",
       "      <td>22300.034277</td>\n",
       "      <td>1.459808</td>\n",
       "      <td>1.844741e+06</td>\n",
       "      <td>4594.101058</td>\n",
       "      <td>2.525103</td>\n",
       "      <td>0.964328</td>\n",
       "    </tr>\n",
       "    <tr>\n",
       "      <th>min</th>\n",
       "      <td>1.000000</td>\n",
       "      <td>0.000000</td>\n",
       "      <td>0.000000e+00</td>\n",
       "      <td>0.000000</td>\n",
       "      <td>1.000000</td>\n",
       "      <td>2.000000</td>\n",
       "    </tr>\n",
       "    <tr>\n",
       "      <th>25%</th>\n",
       "      <td>4993.000000</td>\n",
       "      <td>1.000000</td>\n",
       "      <td>0.000000e+00</td>\n",
       "      <td>0.000000</td>\n",
       "      <td>4.000000</td>\n",
       "      <td>4.000000</td>\n",
       "    </tr>\n",
       "    <tr>\n",
       "      <th>50%</th>\n",
       "      <td>14625.000000</td>\n",
       "      <td>3.000000</td>\n",
       "      <td>1.400000e+05</td>\n",
       "      <td>0.000000</td>\n",
       "      <td>6.000000</td>\n",
       "      <td>4.000000</td>\n",
       "    </tr>\n",
       "    <tr>\n",
       "      <th>75%</th>\n",
       "      <td>49937.000000</td>\n",
       "      <td>4.000000</td>\n",
       "      <td>1.400000e+06</td>\n",
       "      <td>1500.000000</td>\n",
       "      <td>8.000000</td>\n",
       "      <td>5.000000</td>\n",
       "    </tr>\n",
       "    <tr>\n",
       "      <th>max</th>\n",
       "      <td>65345.000000</td>\n",
       "      <td>4.000000</td>\n",
       "      <td>6.100000e+06</td>\n",
       "      <td>30000.000000</td>\n",
       "      <td>10.000000</td>\n",
       "      <td>6.000000</td>\n",
       "    </tr>\n",
       "  </tbody>\n",
       "</table>\n",
       "</div>"
      ],
      "text/plain": [
       "            item_cd  item_class  item_price_credit  item_price_gold  \\\n",
       "count    753.000000  753.000000       7.530000e+02       753.000000   \n",
       "mean   23770.243028    2.386454       1.168060e+06      2238.698539   \n",
       "std    22300.034277    1.459808       1.844741e+06      4594.101058   \n",
       "min        1.000000    0.000000       0.000000e+00         0.000000   \n",
       "25%     4993.000000    1.000000       0.000000e+00         0.000000   \n",
       "50%    14625.000000    3.000000       1.400000e+05         0.000000   \n",
       "75%    49937.000000    4.000000       1.400000e+06      1500.000000   \n",
       "max    65345.000000    4.000000       6.100000e+06     30000.000000   \n",
       "\n",
       "       item_level   crew_size  \n",
       "count  753.000000  753.000000  \n",
       "mean     6.175299    4.290837  \n",
       "std      2.525103    0.964328  \n",
       "min      1.000000    2.000000  \n",
       "25%      4.000000    4.000000  \n",
       "50%      6.000000    4.000000  \n",
       "75%      8.000000    5.000000  \n",
       "max     10.000000    6.000000  "
      ]
     },
     "execution_count": 12,
     "metadata": {},
     "output_type": "execute_result"
    }
   ],
   "source": [
    "catalog.describe()"
   ]
  },
  {
   "cell_type": "code",
   "execution_count": 13,
   "metadata": {
    "ExecuteTime": {
     "end_time": "2020-04-23T10:26:42.938569Z",
     "start_time": "2020-04-23T10:26:42.925604Z"
    },
    "hidden": true
   },
   "outputs": [
    {
     "data": {
      "text/plain": [
       "0"
      ]
     },
     "execution_count": 13,
     "metadata": {},
     "output_type": "execute_result"
    }
   ],
   "source": [
    "# --> no duplicates\n",
    "catalog.duplicated().sum()"
   ]
  },
  {
   "cell_type": "code",
   "execution_count": 14,
   "metadata": {
    "ExecuteTime": {
     "end_time": "2020-04-23T10:26:42.951534Z",
     "start_time": "2020-04-23T10:26:42.940563Z"
    },
    "hidden": true
   },
   "outputs": [
    {
     "data": {
      "text/plain": [
       "item_cd              0\n",
       "item_class           0\n",
       "item_price_credit    0\n",
       "item_price_gold      0\n",
       "item_level           0\n",
       "crew_size            0\n",
       "dtype: int64"
      ]
     },
     "execution_count": 14,
     "metadata": {},
     "output_type": "execute_result"
    }
   ],
   "source": [
    "# --> no missing values\n",
    "catalog.isnull().sum()"
   ]
  },
  {
   "cell_type": "markdown",
   "metadata": {
    "heading_collapsed": true
   },
   "source": [
    "#  Looking on removed tanks"
   ]
  },
  {
   "cell_type": "code",
   "execution_count": 15,
   "metadata": {
    "ExecuteTime": {
     "end_time": "2020-04-23T10:26:43.206381Z",
     "start_time": "2020-04-23T10:26:42.954057Z"
    },
    "hidden": true
   },
   "outputs": [
    {
     "name": "stdout",
     "output_type": "stream",
     "text": [
      "{6225, 13889, 9297, 65281}\n"
     ]
    }
   ],
   "source": [
    "s1 = set(removed_tanks['item_cd'])\n",
    "s2 = set(data['vehicle_type_cd'])\n",
    "\n",
    "removed_ids = s1.intersection(s2)\n",
    "\n",
    "print(removed_ids)"
   ]
  },
  {
   "cell_type": "code",
   "execution_count": 16,
   "metadata": {
    "ExecuteTime": {
     "end_time": "2020-04-23T10:26:43.226327Z",
     "start_time": "2020-04-23T10:26:43.208376Z"
    },
    "hidden": true
   },
   "outputs": [
    {
     "data": {
      "text/html": [
       "<div>\n",
       "<style scoped>\n",
       "    .dataframe tbody tr th:only-of-type {\n",
       "        vertical-align: middle;\n",
       "    }\n",
       "\n",
       "    .dataframe tbody tr th {\n",
       "        vertical-align: top;\n",
       "    }\n",
       "\n",
       "    .dataframe thead th {\n",
       "        text-align: right;\n",
       "    }\n",
       "</style>\n",
       "<table border=\"1\" class=\"dataframe\">\n",
       "  <thead>\n",
       "    <tr style=\"text-align: right;\">\n",
       "      <th></th>\n",
       "      <th>item_cd</th>\n",
       "      <th>item_class</th>\n",
       "      <th>item_price_credit</th>\n",
       "      <th>item_price_gold</th>\n",
       "      <th>item_level</th>\n",
       "      <th>crew_size</th>\n",
       "    </tr>\n",
       "  </thead>\n",
       "  <tbody>\n",
       "    <tr>\n",
       "      <th>18</th>\n",
       "      <td>9297</td>\n",
       "      <td>AT-SPG</td>\n",
       "      <td>0</td>\n",
       "      <td>5</td>\n",
       "      <td>10</td>\n",
       "      <td>5</td>\n",
       "    </tr>\n",
       "  </tbody>\n",
       "</table>\n",
       "</div>"
      ],
      "text/plain": [
       "    item_cd item_class  item_price_credit  item_price_gold  item_level  \\\n",
       "18     9297     AT-SPG                  0                5          10   \n",
       "\n",
       "    crew_size  \n",
       "18          5  "
      ]
     },
     "execution_count": 16,
     "metadata": {},
     "output_type": "execute_result"
    }
   ],
   "source": [
    "removed_tanks[removed_tanks['item_cd'] == 9297]"
   ]
  },
  {
   "cell_type": "code",
   "execution_count": 17,
   "metadata": {
    "ExecuteTime": {
     "end_time": "2020-04-23T10:26:43.274198Z",
     "start_time": "2020-04-23T10:26:43.229327Z"
    },
    "hidden": true
   },
   "outputs": [
    {
     "data": {
      "text/html": [
       "<div>\n",
       "<style scoped>\n",
       "    .dataframe tbody tr th:only-of-type {\n",
       "        vertical-align: middle;\n",
       "    }\n",
       "\n",
       "    .dataframe tbody tr th {\n",
       "        vertical-align: top;\n",
       "    }\n",
       "\n",
       "    .dataframe thead th {\n",
       "        text-align: right;\n",
       "    }\n",
       "</style>\n",
       "<table border=\"1\" class=\"dataframe\">\n",
       "  <thead>\n",
       "    <tr style=\"text-align: right;\">\n",
       "      <th></th>\n",
       "      <th>dt</th>\n",
       "      <th>arena_id</th>\n",
       "      <th>account_db_id</th>\n",
       "      <th>team_id</th>\n",
       "      <th>clan_db_id</th>\n",
       "      <th>prebattle_id</th>\n",
       "      <th>is_prebattle_creator</th>\n",
       "      <th>vehicle_type_cd</th>\n",
       "      <th>life_time_sec</th>\n",
       "      <th>shots</th>\n",
       "      <th>...</th>\n",
       "      <th>mileage_meter</th>\n",
       "      <th>remained_hp</th>\n",
       "      <th>original_credits</th>\n",
       "      <th>original_xp</th>\n",
       "      <th>premium_xp_factor</th>\n",
       "      <th>daily_xp_factor</th>\n",
       "      <th>battle_num</th>\n",
       "      <th>damage_blocked_by_armor</th>\n",
       "      <th>booster_bonus_credits</th>\n",
       "      <th>booster_bonus_xp</th>\n",
       "    </tr>\n",
       "  </thead>\n",
       "  <tbody>\n",
       "    <tr>\n",
       "      <th>259</th>\n",
       "      <td>2018-10-27</td>\n",
       "      <td>4yNy1TNaa7yd71T4c</td>\n",
       "      <td>cdcyd44Ta</td>\n",
       "      <td>2</td>\n",
       "      <td>500019571</td>\n",
       "      <td>0</td>\n",
       "      <td>0</td>\n",
       "      <td>9297</td>\n",
       "      <td>365</td>\n",
       "      <td>5</td>\n",
       "      <td>...</td>\n",
       "      <td>1226</td>\n",
       "      <td>0</td>\n",
       "      <td>22046</td>\n",
       "      <td>384</td>\n",
       "      <td>15</td>\n",
       "      <td>10</td>\n",
       "      <td>34065</td>\n",
       "      <td>1270</td>\n",
       "      <td>0</td>\n",
       "      <td>0</td>\n",
       "    </tr>\n",
       "    <tr>\n",
       "      <th>3252</th>\n",
       "      <td>2018-10-17</td>\n",
       "      <td>424y7TyaNcyyT4cTy</td>\n",
       "      <td>cyNy71y2c</td>\n",
       "      <td>2</td>\n",
       "      <td>500135958</td>\n",
       "      <td>0</td>\n",
       "      <td>0</td>\n",
       "      <td>9297</td>\n",
       "      <td>415</td>\n",
       "      <td>5</td>\n",
       "      <td>...</td>\n",
       "      <td>1117</td>\n",
       "      <td>0</td>\n",
       "      <td>34650</td>\n",
       "      <td>622</td>\n",
       "      <td>15</td>\n",
       "      <td>10</td>\n",
       "      <td>41198</td>\n",
       "      <td>1400</td>\n",
       "      <td>0</td>\n",
       "      <td>201</td>\n",
       "    </tr>\n",
       "    <tr>\n",
       "      <th>3269</th>\n",
       "      <td>2018-10-17</td>\n",
       "      <td>424y7TyaNcyyT4cTy</td>\n",
       "      <td>c2yyN4a22</td>\n",
       "      <td>1</td>\n",
       "      <td>500040230</td>\n",
       "      <td>0</td>\n",
       "      <td>0</td>\n",
       "      <td>9297</td>\n",
       "      <td>477</td>\n",
       "      <td>9</td>\n",
       "      <td>...</td>\n",
       "      <td>1339</td>\n",
       "      <td>1330</td>\n",
       "      <td>104877</td>\n",
       "      <td>4430</td>\n",
       "      <td>15</td>\n",
       "      <td>20</td>\n",
       "      <td>22696</td>\n",
       "      <td>1140</td>\n",
       "      <td>34959</td>\n",
       "      <td>869</td>\n",
       "    </tr>\n",
       "    <tr>\n",
       "      <th>3498</th>\n",
       "      <td>2018-10-17</td>\n",
       "      <td>424y12T24Ny22TTTa</td>\n",
       "      <td>cyyT1T4cN</td>\n",
       "      <td>1</td>\n",
       "      <td>500159862</td>\n",
       "      <td>0</td>\n",
       "      <td>0</td>\n",
       "      <td>9297</td>\n",
       "      <td>656</td>\n",
       "      <td>8</td>\n",
       "      <td>...</td>\n",
       "      <td>2342</td>\n",
       "      <td>874</td>\n",
       "      <td>52922</td>\n",
       "      <td>1646</td>\n",
       "      <td>15</td>\n",
       "      <td>10</td>\n",
       "      <td>51289</td>\n",
       "      <td>0</td>\n",
       "      <td>0</td>\n",
       "      <td>0</td>\n",
       "    </tr>\n",
       "    <tr>\n",
       "      <th>3653</th>\n",
       "      <td>2018-10-17</td>\n",
       "      <td>424y7yd21cddc7cdd</td>\n",
       "      <td>c2yTNddca</td>\n",
       "      <td>2</td>\n",
       "      <td>500069934</td>\n",
       "      <td>0</td>\n",
       "      <td>0</td>\n",
       "      <td>9297</td>\n",
       "      <td>323</td>\n",
       "      <td>3</td>\n",
       "      <td>...</td>\n",
       "      <td>1267</td>\n",
       "      <td>2000</td>\n",
       "      <td>18123</td>\n",
       "      <td>1488</td>\n",
       "      <td>15</td>\n",
       "      <td>20</td>\n",
       "      <td>38614</td>\n",
       "      <td>390</td>\n",
       "      <td>0</td>\n",
       "      <td>0</td>\n",
       "    </tr>\n",
       "    <tr>\n",
       "      <th>...</th>\n",
       "      <td>...</td>\n",
       "      <td>...</td>\n",
       "      <td>...</td>\n",
       "      <td>...</td>\n",
       "      <td>...</td>\n",
       "      <td>...</td>\n",
       "      <td>...</td>\n",
       "      <td>...</td>\n",
       "      <td>...</td>\n",
       "      <td>...</td>\n",
       "      <td>...</td>\n",
       "      <td>...</td>\n",
       "      <td>...</td>\n",
       "      <td>...</td>\n",
       "      <td>...</td>\n",
       "      <td>...</td>\n",
       "      <td>...</td>\n",
       "      <td>...</td>\n",
       "      <td>...</td>\n",
       "      <td>...</td>\n",
       "      <td>...</td>\n",
       "    </tr>\n",
       "    <tr>\n",
       "      <th>1377598</th>\n",
       "      <td>2018-10-17</td>\n",
       "      <td>21cN2N1TydaT1dc27</td>\n",
       "      <td>cdyc7TddN</td>\n",
       "      <td>1</td>\n",
       "      <td>500012667</td>\n",
       "      <td>0</td>\n",
       "      <td>0</td>\n",
       "      <td>9297</td>\n",
       "      <td>356</td>\n",
       "      <td>6</td>\n",
       "      <td>...</td>\n",
       "      <td>1181</td>\n",
       "      <td>1237</td>\n",
       "      <td>38034</td>\n",
       "      <td>2189</td>\n",
       "      <td>15</td>\n",
       "      <td>20</td>\n",
       "      <td>66027</td>\n",
       "      <td>390</td>\n",
       "      <td>0</td>\n",
       "      <td>0</td>\n",
       "    </tr>\n",
       "    <tr>\n",
       "      <th>1383488</th>\n",
       "      <td>2018-10-17</td>\n",
       "      <td>24Ndc74a7NcyTTTNN</td>\n",
       "      <td>ca2adcNd2</td>\n",
       "      <td>2</td>\n",
       "      <td>500004709</td>\n",
       "      <td>0</td>\n",
       "      <td>0</td>\n",
       "      <td>9297</td>\n",
       "      <td>281</td>\n",
       "      <td>3</td>\n",
       "      <td>...</td>\n",
       "      <td>528</td>\n",
       "      <td>0</td>\n",
       "      <td>25070</td>\n",
       "      <td>412</td>\n",
       "      <td>15</td>\n",
       "      <td>10</td>\n",
       "      <td>33198</td>\n",
       "      <td>240</td>\n",
       "      <td>8357</td>\n",
       "      <td>0</td>\n",
       "    </tr>\n",
       "    <tr>\n",
       "      <th>1386077</th>\n",
       "      <td>2018-10-26</td>\n",
       "      <td>12ac27ycN147ad7</td>\n",
       "      <td>cdaa1TTdy</td>\n",
       "      <td>2</td>\n",
       "      <td>0</td>\n",
       "      <td>0</td>\n",
       "      <td>0</td>\n",
       "      <td>9297</td>\n",
       "      <td>433</td>\n",
       "      <td>1</td>\n",
       "      <td>...</td>\n",
       "      <td>1512</td>\n",
       "      <td>370</td>\n",
       "      <td>11817</td>\n",
       "      <td>2368</td>\n",
       "      <td>15</td>\n",
       "      <td>40</td>\n",
       "      <td>45529</td>\n",
       "      <td>400</td>\n",
       "      <td>0</td>\n",
       "      <td>469</td>\n",
       "    </tr>\n",
       "    <tr>\n",
       "      <th>1394142</th>\n",
       "      <td>2018-10-17</td>\n",
       "      <td>a2adaNdTcTTNd1Naa</td>\n",
       "      <td>cdacaT4Tc</td>\n",
       "      <td>2</td>\n",
       "      <td>500156864</td>\n",
       "      <td>0</td>\n",
       "      <td>0</td>\n",
       "      <td>9297</td>\n",
       "      <td>290</td>\n",
       "      <td>4</td>\n",
       "      <td>...</td>\n",
       "      <td>797</td>\n",
       "      <td>1713</td>\n",
       "      <td>24936</td>\n",
       "      <td>891</td>\n",
       "      <td>15</td>\n",
       "      <td>10</td>\n",
       "      <td>29711</td>\n",
       "      <td>0</td>\n",
       "      <td>0</td>\n",
       "      <td>0</td>\n",
       "    </tr>\n",
       "    <tr>\n",
       "      <th>1400271</th>\n",
       "      <td>2018-10-17</td>\n",
       "      <td>4d272a2d7aT41y7Nc</td>\n",
       "      <td>cyy1c4T7d</td>\n",
       "      <td>2</td>\n",
       "      <td>500150826</td>\n",
       "      <td>0</td>\n",
       "      <td>0</td>\n",
       "      <td>9297</td>\n",
       "      <td>144</td>\n",
       "      <td>1</td>\n",
       "      <td>...</td>\n",
       "      <td>818</td>\n",
       "      <td>0</td>\n",
       "      <td>15137</td>\n",
       "      <td>213</td>\n",
       "      <td>15</td>\n",
       "      <td>10</td>\n",
       "      <td>34186</td>\n",
       "      <td>0</td>\n",
       "      <td>0</td>\n",
       "      <td>0</td>\n",
       "    </tr>\n",
       "  </tbody>\n",
       "</table>\n",
       "<p>350 rows × 34 columns</p>\n",
       "</div>"
      ],
      "text/plain": [
       "                 dt           arena_id account_db_id  team_id  clan_db_id  \\\n",
       "259      2018-10-27  4yNy1TNaa7yd71T4c     cdcyd44Ta        2   500019571   \n",
       "3252     2018-10-17  424y7TyaNcyyT4cTy     cyNy71y2c        2   500135958   \n",
       "3269     2018-10-17  424y7TyaNcyyT4cTy     c2yyN4a22        1   500040230   \n",
       "3498     2018-10-17  424y12T24Ny22TTTa     cyyT1T4cN        1   500159862   \n",
       "3653     2018-10-17  424y7yd21cddc7cdd     c2yTNddca        2   500069934   \n",
       "...             ...                ...           ...      ...         ...   \n",
       "1377598  2018-10-17  21cN2N1TydaT1dc27     cdyc7TddN        1   500012667   \n",
       "1383488  2018-10-17  24Ndc74a7NcyTTTNN     ca2adcNd2        2   500004709   \n",
       "1386077  2018-10-26    12ac27ycN147ad7     cdaa1TTdy        2           0   \n",
       "1394142  2018-10-17  a2adaNdTcTTNd1Naa     cdacaT4Tc        2   500156864   \n",
       "1400271  2018-10-17  4d272a2d7aT41y7Nc     cyy1c4T7d        2   500150826   \n",
       "\n",
       "         prebattle_id  is_prebattle_creator  vehicle_type_cd  life_time_sec  \\\n",
       "259                 0                     0             9297            365   \n",
       "3252                0                     0             9297            415   \n",
       "3269                0                     0             9297            477   \n",
       "3498                0                     0             9297            656   \n",
       "3653                0                     0             9297            323   \n",
       "...               ...                   ...              ...            ...   \n",
       "1377598             0                     0             9297            356   \n",
       "1383488             0                     0             9297            281   \n",
       "1386077             0                     0             9297            433   \n",
       "1394142             0                     0             9297            290   \n",
       "1400271             0                     0             9297            144   \n",
       "\n",
       "         shots  ...  mileage_meter  remained_hp  original_credits  \\\n",
       "259          5  ...           1226            0             22046   \n",
       "3252         5  ...           1117            0             34650   \n",
       "3269         9  ...           1339         1330            104877   \n",
       "3498         8  ...           2342          874             52922   \n",
       "3653         3  ...           1267         2000             18123   \n",
       "...        ...  ...            ...          ...               ...   \n",
       "1377598      6  ...           1181         1237             38034   \n",
       "1383488      3  ...            528            0             25070   \n",
       "1386077      1  ...           1512          370             11817   \n",
       "1394142      4  ...            797         1713             24936   \n",
       "1400271      1  ...            818            0             15137   \n",
       "\n",
       "         original_xp  premium_xp_factor  daily_xp_factor  battle_num  \\\n",
       "259              384                 15               10       34065   \n",
       "3252             622                 15               10       41198   \n",
       "3269            4430                 15               20       22696   \n",
       "3498            1646                 15               10       51289   \n",
       "3653            1488                 15               20       38614   \n",
       "...              ...                ...              ...         ...   \n",
       "1377598         2189                 15               20       66027   \n",
       "1383488          412                 15               10       33198   \n",
       "1386077         2368                 15               40       45529   \n",
       "1394142          891                 15               10       29711   \n",
       "1400271          213                 15               10       34186   \n",
       "\n",
       "         damage_blocked_by_armor  booster_bonus_credits  booster_bonus_xp  \n",
       "259                         1270                      0                 0  \n",
       "3252                        1400                      0               201  \n",
       "3269                        1140                  34959               869  \n",
       "3498                           0                      0                 0  \n",
       "3653                         390                      0                 0  \n",
       "...                          ...                    ...               ...  \n",
       "1377598                      390                      0                 0  \n",
       "1383488                      240                   8357                 0  \n",
       "1386077                      400                      0               469  \n",
       "1394142                        0                      0                 0  \n",
       "1400271                        0                      0                 0  \n",
       "\n",
       "[350 rows x 34 columns]"
      ]
     },
     "execution_count": 17,
     "metadata": {},
     "output_type": "execute_result"
    }
   ],
   "source": [
    "data[data['vehicle_type_cd'] == 9297]"
   ]
  },
  {
   "cell_type": "markdown",
   "metadata": {
    "heading_collapsed": true
   },
   "source": [
    "# Visualizing catalog"
   ]
  },
  {
   "cell_type": "code",
   "execution_count": 18,
   "metadata": {
    "ExecuteTime": {
     "end_time": "2020-04-23T10:26:43.285205Z",
     "start_time": "2020-04-23T10:26:43.277190Z"
    },
    "hidden": true
   },
   "outputs": [],
   "source": [
    "for feature in ['item_cd']:\n",
    "    catalog[feature] = pd.Categorical(catalog[feature])"
   ]
  },
  {
   "cell_type": "code",
   "execution_count": 19,
   "metadata": {
    "ExecuteTime": {
     "end_time": "2020-04-23T10:26:43.429780Z",
     "start_time": "2020-04-23T10:26:43.288160Z"
    },
    "hidden": true
   },
   "outputs": [
    {
     "data": {
      "image/png": "[encoded data removed]",
      "text/plain": [
       "<Figure size 432x288 with 1 Axes>"
      ]
     },
     "metadata": {
      "needs_background": "light"
     },
     "output_type": "display_data"
    }
   ],
   "source": [
    "sns.countplot(catalog['item_class']);"
   ]
  },
  {
   "cell_type": "code",
   "execution_count": 20,
   "metadata": {
    "ExecuteTime": {
     "end_time": "2020-04-23T10:26:43.607342Z",
     "start_time": "2020-04-23T10:26:43.432773Z"
    },
    "hidden": true
   },
   "outputs": [
    {
     "data": {
      "image/png": "[encoded data removed]",
      "text/plain": [
       "<Figure size 432x288 with 1 Axes>"
      ]
     },
     "metadata": {
      "needs_background": "light"
     },
     "output_type": "display_data"
    }
   ],
   "source": [
    "sns.countplot(catalog['item_level']);"
   ]
  },
  {
   "cell_type": "code",
   "execution_count": 21,
   "metadata": {
    "ExecuteTime": {
     "end_time": "2020-04-23T10:26:43.749926Z",
     "start_time": "2020-04-23T10:26:43.610299Z"
    },
    "hidden": true
   },
   "outputs": [
    {
     "data": {
      "image/png": "[encoded data removed]",
      "text/plain": [
       "<Figure size 432x288 with 1 Axes>"
      ]
     },
     "metadata": {
      "needs_background": "light"
     },
     "output_type": "display_data"
    }
   ],
   "source": [
    "sns.countplot(catalog['crew_size']);"
   ]
  },
  {
   "cell_type": "markdown",
   "metadata": {
    "heading_collapsed": true
   },
   "source": [
    "# Cleaning data"
   ]
  },
  {
   "cell_type": "code",
   "execution_count": 22,
   "metadata": {
    "ExecuteTime": {
     "end_time": "2020-04-23T10:26:43.779846Z",
     "start_time": "2020-04-23T10:26:43.751922Z"
    },
    "hidden": true
   },
   "outputs": [
    {
     "data": {
      "text/html": [
       "<div>\n",
       "<style scoped>\n",
       "    .dataframe tbody tr th:only-of-type {\n",
       "        vertical-align: middle;\n",
       "    }\n",
       "\n",
       "    .dataframe tbody tr th {\n",
       "        vertical-align: top;\n",
       "    }\n",
       "\n",
       "    .dataframe thead th {\n",
       "        text-align: right;\n",
       "    }\n",
       "</style>\n",
       "<table border=\"1\" class=\"dataframe\">\n",
       "  <thead>\n",
       "    <tr style=\"text-align: right;\">\n",
       "      <th></th>\n",
       "      <th>dt</th>\n",
       "      <th>arena_id</th>\n",
       "      <th>account_db_id</th>\n",
       "      <th>team_id</th>\n",
       "      <th>clan_db_id</th>\n",
       "      <th>prebattle_id</th>\n",
       "      <th>is_prebattle_creator</th>\n",
       "      <th>vehicle_type_cd</th>\n",
       "      <th>life_time_sec</th>\n",
       "      <th>shots</th>\n",
       "      <th>...</th>\n",
       "      <th>mileage_meter</th>\n",
       "      <th>remained_hp</th>\n",
       "      <th>original_credits</th>\n",
       "      <th>original_xp</th>\n",
       "      <th>premium_xp_factor</th>\n",
       "      <th>daily_xp_factor</th>\n",
       "      <th>battle_num</th>\n",
       "      <th>damage_blocked_by_armor</th>\n",
       "      <th>booster_bonus_credits</th>\n",
       "      <th>booster_bonus_xp</th>\n",
       "    </tr>\n",
       "  </thead>\n",
       "  <tbody>\n",
       "    <tr>\n",
       "      <th>0</th>\n",
       "      <td>2018-10-27</td>\n",
       "      <td>4yNy14y4yN12d42dT</td>\n",
       "      <td>c42c4aydT</td>\n",
       "      <td>2</td>\n",
       "      <td>0</td>\n",
       "      <td>0</td>\n",
       "      <td>0</td>\n",
       "      <td>2849</td>\n",
       "      <td>132</td>\n",
       "      <td>3</td>\n",
       "      <td>...</td>\n",
       "      <td>459</td>\n",
       "      <td>-3</td>\n",
       "      <td>27279</td>\n",
       "      <td>1084</td>\n",
       "      <td>15</td>\n",
       "      <td>20</td>\n",
       "      <td>11956</td>\n",
       "      <td>0</td>\n",
       "      <td>0</td>\n",
       "      <td>0</td>\n",
       "    </tr>\n",
       "    <tr>\n",
       "      <th>1</th>\n",
       "      <td>2018-10-27</td>\n",
       "      <td>4yNy14y4yN12d42dT</td>\n",
       "      <td>c2TaaayN4</td>\n",
       "      <td>1</td>\n",
       "      <td>500033550</td>\n",
       "      <td>0</td>\n",
       "      <td>0</td>\n",
       "      <td>63553</td>\n",
       "      <td>195</td>\n",
       "      <td>6</td>\n",
       "      <td>...</td>\n",
       "      <td>708</td>\n",
       "      <td>0</td>\n",
       "      <td>6282</td>\n",
       "      <td>68</td>\n",
       "      <td>15</td>\n",
       "      <td>10</td>\n",
       "      <td>9832</td>\n",
       "      <td>0</td>\n",
       "      <td>0</td>\n",
       "      <td>0</td>\n",
       "    </tr>\n",
       "    <tr>\n",
       "      <th>2</th>\n",
       "      <td>2018-10-27</td>\n",
       "      <td>4yNy14y4yN12d42dT</td>\n",
       "      <td>cyyd47dc4</td>\n",
       "      <td>2</td>\n",
       "      <td>500051107</td>\n",
       "      <td>67896661</td>\n",
       "      <td>0</td>\n",
       "      <td>17665</td>\n",
       "      <td>224</td>\n",
       "      <td>11</td>\n",
       "      <td>...</td>\n",
       "      <td>656</td>\n",
       "      <td>0</td>\n",
       "      <td>36102</td>\n",
       "      <td>3560</td>\n",
       "      <td>15</td>\n",
       "      <td>20</td>\n",
       "      <td>39190</td>\n",
       "      <td>0</td>\n",
       "      <td>0</td>\n",
       "      <td>1130</td>\n",
       "    </tr>\n",
       "    <tr>\n",
       "      <th>3</th>\n",
       "      <td>2018-10-27</td>\n",
       "      <td>4yNy14y4yN12d42dT</td>\n",
       "      <td>c2cdc441y</td>\n",
       "      <td>2</td>\n",
       "      <td>0</td>\n",
       "      <td>0</td>\n",
       "      <td>0</td>\n",
       "      <td>11537</td>\n",
       "      <td>381</td>\n",
       "      <td>8</td>\n",
       "      <td>...</td>\n",
       "      <td>1912</td>\n",
       "      <td>387</td>\n",
       "      <td>16317</td>\n",
       "      <td>1678</td>\n",
       "      <td>15</td>\n",
       "      <td>20</td>\n",
       "      <td>7217</td>\n",
       "      <td>0</td>\n",
       "      <td>0</td>\n",
       "      <td>0</td>\n",
       "    </tr>\n",
       "    <tr>\n",
       "      <th>4</th>\n",
       "      <td>2018-10-27</td>\n",
       "      <td>4yNy14y4yN12d42dT</td>\n",
       "      <td>cdT7cTT21</td>\n",
       "      <td>1</td>\n",
       "      <td>0</td>\n",
       "      <td>0</td>\n",
       "      <td>0</td>\n",
       "      <td>7937</td>\n",
       "      <td>198</td>\n",
       "      <td>5</td>\n",
       "      <td>...</td>\n",
       "      <td>507</td>\n",
       "      <td>0</td>\n",
       "      <td>11620</td>\n",
       "      <td>232</td>\n",
       "      <td>15</td>\n",
       "      <td>10</td>\n",
       "      <td>9532</td>\n",
       "      <td>0</td>\n",
       "      <td>0</td>\n",
       "      <td>0</td>\n",
       "    </tr>\n",
       "  </tbody>\n",
       "</table>\n",
       "<p>5 rows × 34 columns</p>\n",
       "</div>"
      ],
      "text/plain": [
       "           dt           arena_id account_db_id  team_id  clan_db_id  \\\n",
       "0  2018-10-27  4yNy14y4yN12d42dT     c42c4aydT        2           0   \n",
       "1  2018-10-27  4yNy14y4yN12d42dT     c2TaaayN4        1   500033550   \n",
       "2  2018-10-27  4yNy14y4yN12d42dT     cyyd47dc4        2   500051107   \n",
       "3  2018-10-27  4yNy14y4yN12d42dT     c2cdc441y        2           0   \n",
       "4  2018-10-27  4yNy14y4yN12d42dT     cdT7cTT21        1           0   \n",
       "\n",
       "   prebattle_id  is_prebattle_creator  vehicle_type_cd  life_time_sec  shots  \\\n",
       "0             0                     0             2849            132      3   \n",
       "1             0                     0            63553            195      6   \n",
       "2      67896661                     0            17665            224     11   \n",
       "3             0                     0            11537            381      8   \n",
       "4             0                     0             7937            198      5   \n",
       "\n",
       "   ...  mileage_meter  remained_hp  original_credits  original_xp  \\\n",
       "0  ...            459           -3             27279         1084   \n",
       "1  ...            708            0              6282           68   \n",
       "2  ...            656            0             36102         3560   \n",
       "3  ...           1912          387             16317         1678   \n",
       "4  ...            507            0             11620          232   \n",
       "\n",
       "   premium_xp_factor  daily_xp_factor  battle_num  damage_blocked_by_armor  \\\n",
       "0                 15               20       11956                        0   \n",
       "1                 15               10        9832                        0   \n",
       "2                 15               20       39190                        0   \n",
       "3                 15               20        7217                        0   \n",
       "4                 15               10        9532                        0   \n",
       "\n",
       "   booster_bonus_credits  booster_bonus_xp  \n",
       "0                      0                 0  \n",
       "1                      0                 0  \n",
       "2                      0              1130  \n",
       "3                      0                 0  \n",
       "4                      0                 0  \n",
       "\n",
       "[5 rows x 34 columns]"
      ]
     },
     "execution_count": 22,
     "metadata": {},
     "output_type": "execute_result"
    }
   ],
   "source": [
    "data.head()"
   ]
  },
  {
   "cell_type": "code",
   "execution_count": 23,
   "metadata": {
    "ExecuteTime": {
     "end_time": "2020-04-23T10:26:44.201721Z",
     "start_time": "2020-04-23T10:26:43.782838Z"
    },
    "hidden": true
   },
   "outputs": [],
   "source": [
    "mask = ~data['vehicle_type_cd'].isin(removed_ids)\n",
    "\n",
    "removed_data = data.loc[~mask]\n",
    "data = data.loc[mask]\n",
    "\n",
    "data.index = np.arange(len(data))\n",
    "removed_data.index = np.arange(len(removed_data))"
   ]
  },
  {
   "cell_type": "code",
   "execution_count": 24,
   "metadata": {
    "ExecuteTime": {
     "end_time": "2020-04-23T10:26:47.304716Z",
     "start_time": "2020-04-23T10:26:44.203719Z"
    },
    "hidden": true
   },
   "outputs": [
    {
     "data": {
      "text/plain": [
       "0"
      ]
     },
     "execution_count": 24,
     "metadata": {},
     "output_type": "execute_result"
    }
   ],
   "source": [
    "# --> no duplicates\n",
    "data.duplicated().sum()"
   ]
  },
  {
   "cell_type": "code",
   "execution_count": 25,
   "metadata": {
    "ExecuteTime": {
     "end_time": "2020-04-23T10:26:47.673291Z",
     "start_time": "2020-04-23T10:26:47.306708Z"
    },
    "hidden": true
   },
   "outputs": [
    {
     "data": {
      "text/plain": [
       "dt                          0\n",
       "arena_id                    0\n",
       "account_db_id               0\n",
       "team_id                     0\n",
       "clan_db_id                  0\n",
       "prebattle_id                0\n",
       "is_prebattle_creator        0\n",
       "vehicle_type_cd             0\n",
       "life_time_sec               0\n",
       "shots                       0\n",
       "hits                        0\n",
       "he_hits                     0\n",
       "pierced                     0\n",
       "damage_dealt                0\n",
       "damage_assisted_radio       0\n",
       "damage_assisted_stun        0\n",
       "damage_assisted_track       0\n",
       "damage_received             0\n",
       "shots_received              0\n",
       "no_damage_shots_received    0\n",
       "pierced_received            0\n",
       "spotted                     0\n",
       "damaged                     0\n",
       "kills_made                  0\n",
       "mileage_meter               0\n",
       "remained_hp                 0\n",
       "original_credits            0\n",
       "original_xp                 0\n",
       "premium_xp_factor           0\n",
       "daily_xp_factor             0\n",
       "battle_num                  0\n",
       "damage_blocked_by_armor     0\n",
       "booster_bonus_credits       0\n",
       "booster_bonus_xp            0\n",
       "dtype: int64"
      ]
     },
     "execution_count": 25,
     "metadata": {},
     "output_type": "execute_result"
    }
   ],
   "source": [
    "#  --> no null values\n",
    "data.isnull().sum()"
   ]
  },
  {
   "cell_type": "code",
   "execution_count": 26,
   "metadata": {
    "ExecuteTime": {
     "end_time": "2020-04-23T10:26:50.335927Z",
     "start_time": "2020-04-23T10:26:47.676280Z"
    },
    "hidden": true
   },
   "outputs": [
    {
     "data": {
      "text/html": [
       "<div>\n",
       "<style scoped>\n",
       "    .dataframe tbody tr th:only-of-type {\n",
       "        vertical-align: middle;\n",
       "    }\n",
       "\n",
       "    .dataframe tbody tr th {\n",
       "        vertical-align: top;\n",
       "    }\n",
       "\n",
       "    .dataframe thead th {\n",
       "        text-align: right;\n",
       "    }\n",
       "</style>\n",
       "<table border=\"1\" class=\"dataframe\">\n",
       "  <thead>\n",
       "    <tr style=\"text-align: right;\">\n",
       "      <th></th>\n",
       "      <th>team_id</th>\n",
       "      <th>clan_db_id</th>\n",
       "      <th>prebattle_id</th>\n",
       "      <th>is_prebattle_creator</th>\n",
       "      <th>vehicle_type_cd</th>\n",
       "      <th>life_time_sec</th>\n",
       "      <th>shots</th>\n",
       "      <th>hits</th>\n",
       "      <th>he_hits</th>\n",
       "      <th>pierced</th>\n",
       "      <th>...</th>\n",
       "      <th>mileage_meter</th>\n",
       "      <th>remained_hp</th>\n",
       "      <th>original_credits</th>\n",
       "      <th>original_xp</th>\n",
       "      <th>premium_xp_factor</th>\n",
       "      <th>daily_xp_factor</th>\n",
       "      <th>battle_num</th>\n",
       "      <th>damage_blocked_by_armor</th>\n",
       "      <th>booster_bonus_credits</th>\n",
       "      <th>booster_bonus_xp</th>\n",
       "    </tr>\n",
       "  </thead>\n",
       "  <tbody>\n",
       "    <tr>\n",
       "      <th>count</th>\n",
       "      <td>1.402958e+06</td>\n",
       "      <td>1.402958e+06</td>\n",
       "      <td>1.402958e+06</td>\n",
       "      <td>1.402958e+06</td>\n",
       "      <td>1.402958e+06</td>\n",
       "      <td>1.402958e+06</td>\n",
       "      <td>1.402958e+06</td>\n",
       "      <td>1.402958e+06</td>\n",
       "      <td>1.402958e+06</td>\n",
       "      <td>1.402958e+06</td>\n",
       "      <td>...</td>\n",
       "      <td>1.402958e+06</td>\n",
       "      <td>1.402958e+06</td>\n",
       "      <td>1.402958e+06</td>\n",
       "      <td>1.402958e+06</td>\n",
       "      <td>1.402958e+06</td>\n",
       "      <td>1.402958e+06</td>\n",
       "      <td>1.402958e+06</td>\n",
       "      <td>1.402958e+06</td>\n",
       "      <td>1.402958e+06</td>\n",
       "      <td>1.402958e+06</td>\n",
       "    </tr>\n",
       "    <tr>\n",
       "      <th>mean</th>\n",
       "      <td>1.500015e+00</td>\n",
       "      <td>2.843357e+08</td>\n",
       "      <td>7.294752e+06</td>\n",
       "      <td>7.079043e-02</td>\n",
       "      <td>2.386333e+04</td>\n",
       "      <td>2.976125e+02</td>\n",
       "      <td>7.738088e+00</td>\n",
       "      <td>5.339142e+00</td>\n",
       "      <td>3.320121e-01</td>\n",
       "      <td>3.643013e+00</td>\n",
       "      <td>...</td>\n",
       "      <td>1.172246e+03</td>\n",
       "      <td>1.897758e+02</td>\n",
       "      <td>3.101764e+04</td>\n",
       "      <td>1.051120e+03</td>\n",
       "      <td>1.499911e+01</td>\n",
       "      <td>1.358995e+01</td>\n",
       "      <td>2.330440e+04</td>\n",
       "      <td>4.412997e+02</td>\n",
       "      <td>2.002091e+03</td>\n",
       "      <td>1.087956e+02</td>\n",
       "    </tr>\n",
       "    <tr>\n",
       "      <th>std</th>\n",
       "      <td>5.000002e-01</td>\n",
       "      <td>2.476789e+08</td>\n",
       "      <td>2.682752e+07</td>\n",
       "      <td>2.564745e-01</td>\n",
       "      <td>2.240353e+04</td>\n",
       "      <td>1.348247e+02</td>\n",
       "      <td>5.083874e+00</td>\n",
       "      <td>4.033766e+00</td>\n",
       "      <td>1.314188e+00</td>\n",
       "      <td>3.004952e+00</td>\n",
       "      <td>...</td>\n",
       "      <td>7.146780e+02</td>\n",
       "      <td>3.943647e+02</td>\n",
       "      <td>2.388215e+04</td>\n",
       "      <td>1.048548e+03</td>\n",
       "      <td>1.153706e-01</td>\n",
       "      <td>7.431287e+00</td>\n",
       "      <td>1.681411e+04</td>\n",
       "      <td>7.220207e+02</td>\n",
       "      <td>7.046242e+03</td>\n",
       "      <td>2.797172e+02</td>\n",
       "    </tr>\n",
       "    <tr>\n",
       "      <th>min</th>\n",
       "      <td>1.000000e+00</td>\n",
       "      <td>0.000000e+00</td>\n",
       "      <td>0.000000e+00</td>\n",
       "      <td>0.000000e+00</td>\n",
       "      <td>4.900000e+01</td>\n",
       "      <td>8.000000e+00</td>\n",
       "      <td>0.000000e+00</td>\n",
       "      <td>0.000000e+00</td>\n",
       "      <td>0.000000e+00</td>\n",
       "      <td>0.000000e+00</td>\n",
       "      <td>...</td>\n",
       "      <td>0.000000e+00</td>\n",
       "      <td>-1.300000e+01</td>\n",
       "      <td>-1.037000e+03</td>\n",
       "      <td>0.000000e+00</td>\n",
       "      <td>0.000000e+00</td>\n",
       "      <td>0.000000e+00</td>\n",
       "      <td>2.501000e+03</td>\n",
       "      <td>0.000000e+00</td>\n",
       "      <td>0.000000e+00</td>\n",
       "      <td>0.000000e+00</td>\n",
       "    </tr>\n",
       "    <tr>\n",
       "      <th>25%</th>\n",
       "      <td>1.000000e+00</td>\n",
       "      <td>0.000000e+00</td>\n",
       "      <td>0.000000e+00</td>\n",
       "      <td>0.000000e+00</td>\n",
       "      <td>5.377000e+03</td>\n",
       "      <td>2.010000e+02</td>\n",
       "      <td>4.000000e+00</td>\n",
       "      <td>2.000000e+00</td>\n",
       "      <td>0.000000e+00</td>\n",
       "      <td>1.000000e+00</td>\n",
       "      <td>...</td>\n",
       "      <td>6.920000e+02</td>\n",
       "      <td>0.000000e+00</td>\n",
       "      <td>1.472100e+04</td>\n",
       "      <td>3.300000e+02</td>\n",
       "      <td>1.500000e+01</td>\n",
       "      <td>1.000000e+01</td>\n",
       "      <td>1.052100e+04</td>\n",
       "      <td>0.000000e+00</td>\n",
       "      <td>0.000000e+00</td>\n",
       "      <td>0.000000e+00</td>\n",
       "    </tr>\n",
       "    <tr>\n",
       "      <th>50%</th>\n",
       "      <td>2.000000e+00</td>\n",
       "      <td>5.000197e+08</td>\n",
       "      <td>0.000000e+00</td>\n",
       "      <td>0.000000e+00</td>\n",
       "      <td>1.334500e+04</td>\n",
       "      <td>2.870000e+02</td>\n",
       "      <td>7.000000e+00</td>\n",
       "      <td>5.000000e+00</td>\n",
       "      <td>0.000000e+00</td>\n",
       "      <td>3.000000e+00</td>\n",
       "      <td>...</td>\n",
       "      <td>1.027000e+03</td>\n",
       "      <td>0.000000e+00</td>\n",
       "      <td>2.421600e+04</td>\n",
       "      <td>6.900000e+02</td>\n",
       "      <td>1.500000e+01</td>\n",
       "      <td>1.000000e+01</td>\n",
       "      <td>1.931200e+04</td>\n",
       "      <td>0.000000e+00</td>\n",
       "      <td>0.000000e+00</td>\n",
       "      <td>0.000000e+00</td>\n",
       "    </tr>\n",
       "    <tr>\n",
       "      <th>75%</th>\n",
       "      <td>2.000000e+00</td>\n",
       "      <td>5.000720e+08</td>\n",
       "      <td>0.000000e+00</td>\n",
       "      <td>0.000000e+00</td>\n",
       "      <td>5.019300e+04</td>\n",
       "      <td>3.740000e+02</td>\n",
       "      <td>1.000000e+01</td>\n",
       "      <td>7.000000e+00</td>\n",
       "      <td>0.000000e+00</td>\n",
       "      <td>5.000000e+00</td>\n",
       "      <td>...</td>\n",
       "      <td>1.507000e+03</td>\n",
       "      <td>1.180000e+02</td>\n",
       "      <td>3.972800e+04</td>\n",
       "      <td>1.418000e+03</td>\n",
       "      <td>1.500000e+01</td>\n",
       "      <td>2.000000e+01</td>\n",
       "      <td>3.192300e+04</td>\n",
       "      <td>6.400000e+02</td>\n",
       "      <td>0.000000e+00</td>\n",
       "      <td>0.000000e+00</td>\n",
       "    </tr>\n",
       "    <tr>\n",
       "      <th>max</th>\n",
       "      <td>2.000000e+00</td>\n",
       "      <td>5.001649e+08</td>\n",
       "      <td>2.687535e+08</td>\n",
       "      <td>1.000000e+00</td>\n",
       "      <td>6.507300e+04</td>\n",
       "      <td>9.000000e+02</td>\n",
       "      <td>6.300000e+01</td>\n",
       "      <td>5.100000e+01</td>\n",
       "      <td>2.700000e+01</td>\n",
       "      <td>4.000000e+01</td>\n",
       "      <td>...</td>\n",
       "      <td>1.491800e+04</td>\n",
       "      <td>3.000000e+03</td>\n",
       "      <td>3.055860e+05</td>\n",
       "      <td>1.341000e+04</td>\n",
       "      <td>1.500000e+01</td>\n",
       "      <td>4.000000e+01</td>\n",
       "      <td>2.210440e+05</td>\n",
       "      <td>1.665000e+04</td>\n",
       "      <td>1.577200e+05</td>\n",
       "      <td>3.274000e+03</td>\n",
       "    </tr>\n",
       "  </tbody>\n",
       "</table>\n",
       "<p>8 rows × 31 columns</p>\n",
       "</div>"
      ],
      "text/plain": [
       "            team_id    clan_db_id  prebattle_id  is_prebattle_creator  \\\n",
       "count  1.402958e+06  1.402958e+06  1.402958e+06          1.402958e+06   \n",
       "mean   1.500015e+00  2.843357e+08  7.294752e+06          7.079043e-02   \n",
       "std    5.000002e-01  2.476789e+08  2.682752e+07          2.564745e-01   \n",
       "min    1.000000e+00  0.000000e+00  0.000000e+00          0.000000e+00   \n",
       "25%    1.000000e+00  0.000000e+00  0.000000e+00          0.000000e+00   \n",
       "50%    2.000000e+00  5.000197e+08  0.000000e+00          0.000000e+00   \n",
       "75%    2.000000e+00  5.000720e+08  0.000000e+00          0.000000e+00   \n",
       "max    2.000000e+00  5.001649e+08  2.687535e+08          1.000000e+00   \n",
       "\n",
       "       vehicle_type_cd  life_time_sec         shots          hits  \\\n",
       "count     1.402958e+06   1.402958e+06  1.402958e+06  1.402958e+06   \n",
       "mean      2.386333e+04   2.976125e+02  7.738088e+00  5.339142e+00   \n",
       "std       2.240353e+04   1.348247e+02  5.083874e+00  4.033766e+00   \n",
       "min       4.900000e+01   8.000000e+00  0.000000e+00  0.000000e+00   \n",
       "25%       5.377000e+03   2.010000e+02  4.000000e+00  2.000000e+00   \n",
       "50%       1.334500e+04   2.870000e+02  7.000000e+00  5.000000e+00   \n",
       "75%       5.019300e+04   3.740000e+02  1.000000e+01  7.000000e+00   \n",
       "max       6.507300e+04   9.000000e+02  6.300000e+01  5.100000e+01   \n",
       "\n",
       "            he_hits       pierced  ...  mileage_meter   remained_hp  \\\n",
       "count  1.402958e+06  1.402958e+06  ...   1.402958e+06  1.402958e+06   \n",
       "mean   3.320121e-01  3.643013e+00  ...   1.172246e+03  1.897758e+02   \n",
       "std    1.314188e+00  3.004952e+00  ...   7.146780e+02  3.943647e+02   \n",
       "min    0.000000e+00  0.000000e+00  ...   0.000000e+00 -1.300000e+01   \n",
       "25%    0.000000e+00  1.000000e+00  ...   6.920000e+02  0.000000e+00   \n",
       "50%    0.000000e+00  3.000000e+00  ...   1.027000e+03  0.000000e+00   \n",
       "75%    0.000000e+00  5.000000e+00  ...   1.507000e+03  1.180000e+02   \n",
       "max    2.700000e+01  4.000000e+01  ...   1.491800e+04  3.000000e+03   \n",
       "\n",
       "       original_credits   original_xp  premium_xp_factor  daily_xp_factor  \\\n",
       "count      1.402958e+06  1.402958e+06       1.402958e+06     1.402958e+06   \n",
       "mean       3.101764e+04  1.051120e+03       1.499911e+01     1.358995e+01   \n",
       "std        2.388215e+04  1.048548e+03       1.153706e-01     7.431287e+00   \n",
       "min       -1.037000e+03  0.000000e+00       0.000000e+00     0.000000e+00   \n",
       "25%        1.472100e+04  3.300000e+02       1.500000e+01     1.000000e+01   \n",
       "50%        2.421600e+04  6.900000e+02       1.500000e+01     1.000000e+01   \n",
       "75%        3.972800e+04  1.418000e+03       1.500000e+01     2.000000e+01   \n",
       "max        3.055860e+05  1.341000e+04       1.500000e+01     4.000000e+01   \n",
       "\n",
       "         battle_num  damage_blocked_by_armor  booster_bonus_credits  \\\n",
       "count  1.402958e+06             1.402958e+06           1.402958e+06   \n",
       "mean   2.330440e+04             4.412997e+02           2.002091e+03   \n",
       "std    1.681411e+04             7.220207e+02           7.046242e+03   \n",
       "min    2.501000e+03             0.000000e+00           0.000000e+00   \n",
       "25%    1.052100e+04             0.000000e+00           0.000000e+00   \n",
       "50%    1.931200e+04             0.000000e+00           0.000000e+00   \n",
       "75%    3.192300e+04             6.400000e+02           0.000000e+00   \n",
       "max    2.210440e+05             1.665000e+04           1.577200e+05   \n",
       "\n",
       "       booster_bonus_xp  \n",
       "count      1.402958e+06  \n",
       "mean       1.087956e+02  \n",
       "std        2.797172e+02  \n",
       "min        0.000000e+00  \n",
       "25%        0.000000e+00  \n",
       "50%        0.000000e+00  \n",
       "75%        0.000000e+00  \n",
       "max        3.274000e+03  \n",
       "\n",
       "[8 rows x 31 columns]"
      ]
     },
     "execution_count": 26,
     "metadata": {},
     "output_type": "execute_result"
    }
   ],
   "source": [
    "data.describe()"
   ]
  },
  {
   "cell_type": "code",
   "execution_count": 27,
   "metadata": {
    "ExecuteTime": {
     "end_time": "2020-04-23T10:26:50.736443Z",
     "start_time": "2020-04-23T10:26:50.337919Z"
    },
    "hidden": true
   },
   "outputs": [
    {
     "name": "stdout",
     "output_type": "stream",
     "text": [
      "<class 'pandas.core.frame.DataFrame'>\n",
      "Int64Index: 1402958 entries, 0 to 1402957\n",
      "Data columns (total 34 columns):\n",
      " #   Column                    Non-Null Count    Dtype \n",
      "---  ------                    --------------    ----- \n",
      " 0   dt                        1402958 non-null  object\n",
      " 1   arena_id                  1402958 non-null  object\n",
      " 2   account_db_id             1402958 non-null  object\n",
      " 3   team_id                   1402958 non-null  int64 \n",
      " 4   clan_db_id                1402958 non-null  int64 \n",
      " 5   prebattle_id              1402958 non-null  int64 \n",
      " 6   is_prebattle_creator      1402958 non-null  int64 \n",
      " 7   vehicle_type_cd           1402958 non-null  int64 \n",
      " 8   life_time_sec             1402958 non-null  int64 \n",
      " 9   shots                     1402958 non-null  int64 \n",
      " 10  hits                      1402958 non-null  int64 \n",
      " 11  he_hits                   1402958 non-null  int64 \n",
      " 12  pierced                   1402958 non-null  int64 \n",
      " 13  damage_dealt              1402958 non-null  int64 \n",
      " 14  damage_assisted_radio     1402958 non-null  int64 \n",
      " 15  damage_assisted_stun      1402958 non-null  int64 \n",
      " 16  damage_assisted_track     1402958 non-null  int64 \n",
      " 17  damage_received           1402958 non-null  int64 \n",
      " 18  shots_received            1402958 non-null  int64 \n",
      " 19  no_damage_shots_received  1402958 non-null  int64 \n",
      " 20  pierced_received          1402958 non-null  int64 \n",
      " 21  spotted                   1402958 non-null  int64 \n",
      " 22  damaged                   1402958 non-null  int64 \n",
      " 23  kills_made                1402958 non-null  int64 \n",
      " 24  mileage_meter             1402958 non-null  int64 \n",
      " 25  remained_hp               1402958 non-null  int64 \n",
      " 26  original_credits          1402958 non-null  int64 \n",
      " 27  original_xp               1402958 non-null  int64 \n",
      " 28  premium_xp_factor         1402958 non-null  int64 \n",
      " 29  daily_xp_factor           1402958 non-null  int64 \n",
      " 30  battle_num                1402958 non-null  int64 \n",
      " 31  damage_blocked_by_armor   1402958 non-null  int64 \n",
      " 32  booster_bonus_credits     1402958 non-null  int64 \n",
      " 33  booster_bonus_xp          1402958 non-null  int64 \n",
      "dtypes: int64(31), object(3)\n",
      "memory usage: 374.6+ MB\n"
     ]
    }
   ],
   "source": [
    "data.info()"
   ]
  },
  {
   "cell_type": "markdown",
   "metadata": {
    "heading_collapsed": true
   },
   "source": [
    "# Visualizing data"
   ]
  },
  {
   "cell_type": "code",
   "execution_count": 28,
   "metadata": {
    "ExecuteTime": {
     "end_time": "2020-04-23T10:26:53.568746Z",
     "start_time": "2020-04-23T10:26:50.738402Z"
    },
    "hidden": true
   },
   "outputs": [],
   "source": [
    "for feature in ['account_db_id', 'clan_db_id', \n",
    "               'prebattle_id', 'is_prebattle_creator', 'vehicle_type_cd']:\n",
    "    data[feature] = pd.Categorical(data[feature])\n",
    "    \n",
    "data['dt'] = pd.to_datetime(data['dt'])"
   ]
  },
  {
   "cell_type": "markdown",
   "metadata": {
    "hidden": true
   },
   "source": [
    "## dt\n",
    "\n",
    "All battles took place in October 2018 (between October 1 and October 31)"
   ]
  },
  {
   "cell_type": "code",
   "execution_count": 29,
   "metadata": {
    "ExecuteTime": {
     "end_time": "2020-04-23T10:26:53.630620Z",
     "start_time": "2020-04-23T10:26:53.570740Z"
    },
    "hidden": true
   },
   "outputs": [
    {
     "data": {
      "text/plain": [
       "count                 1402958\n",
       "unique                     31\n",
       "top       2018-10-10 00:00:00\n",
       "freq                    90939\n",
       "first     2018-10-01 00:00:00\n",
       "last      2018-10-31 00:00:00\n",
       "Name: dt, dtype: object"
      ]
     },
     "execution_count": 29,
     "metadata": {},
     "output_type": "execute_result"
    }
   ],
   "source": [
    "data['dt'].describe()"
   ]
  },
  {
   "cell_type": "markdown",
   "metadata": {
    "hidden": true
   },
   "source": [
    "## arena_id\n",
    "\n",
    "47.363 unique battles were held.\n",
    "\n",
    "There were 30 players in most battles (30 -> 20 -> 14). \n",
    "However, in some battles, a number of players was either odd (19, 13) or \n",
    "strangely small (2, 4). Are those battles connected to special events?"
   ]
  },
  {
   "cell_type": "code",
   "execution_count": 30,
   "metadata": {
    "ExecuteTime": {
     "end_time": "2020-04-23T10:26:53.788184Z",
     "start_time": "2020-04-23T10:26:53.632577Z"
    },
    "hidden": true
   },
   "outputs": [
    {
     "data": {
      "text/plain": [
       "4d2a7N741T224TyT      30\n",
       "ydT44a7yaT714aN       30\n",
       "272aa2cNc1TyN2Tca     30\n",
       "c2TTyy77c42N21N       30\n",
       "y27dT4a4N1aN2TdaTc    30\n",
       "                      ..\n",
       "424y1a22T2d7T11a7      4\n",
       "71a1daddT4yN4c7        4\n",
       "Ty72acc1444a4d1        3\n",
       "Ty7cc77dTNNd7N4        3\n",
       "4d2721ay1a7c11Nya      2\n",
       "Name: arena_id, Length: 47363, dtype: int64"
      ]
     },
     "execution_count": 30,
     "metadata": {},
     "output_type": "execute_result"
    }
   ],
   "source": [
    "battles = data['arena_id'].value_counts()\n",
    "battles"
   ]
  },
  {
   "cell_type": "code",
   "execution_count": 31,
   "metadata": {
    "ExecuteTime": {
     "end_time": "2020-04-23T10:30:38.018294Z",
     "start_time": "2020-04-23T10:30:38.005293Z"
    },
    "hidden": true
   },
   "outputs": [
    {
     "data": {
      "text/plain": [
       "30    45479\n",
       "20     1033\n",
       "14      417\n",
       "29      373\n",
       "28       26\n",
       "19        8\n",
       "27        5\n",
       "13        5\n",
       "12        4\n",
       "18        3\n",
       "3         2\n",
       "4         2\n",
       "6         1\n",
       "17        1\n",
       "7         1\n",
       "21        1\n",
       "24        1\n",
       "2         1\n",
       "Name: arena_id, dtype: int64"
      ]
     },
     "execution_count": 31,
     "metadata": {},
     "output_type": "execute_result"
    }
   ],
   "source": [
    "battles.to_frame()['arena_id'].value_counts()"
   ]
  },
  {
   "cell_type": "markdown",
   "metadata": {
    "hidden": true
   },
   "source": [
    "## account_db_id\n",
    "\n",
    "367.746 unique players took part in battles."
   ]
  },
  {
   "cell_type": "code",
   "execution_count": 32,
   "metadata": {
    "ExecuteTime": {
     "end_time": "2020-04-23T10:30:47.461202Z",
     "start_time": "2020-04-23T10:30:46.325240Z"
    },
    "hidden": true
   },
   "outputs": [
    {
     "data": {
      "text/plain": [
       "c2aTcT4y4    214\n",
       "cdNcaNN77    201\n",
       "c277NNN2y    140\n",
       "cadaaNc77    121\n",
       "c4NacTcc4     98\n",
       "            ... \n",
       "cdN1a12cT      1\n",
       "cdN1Ty4y2      1\n",
       "cdN1Ty212      1\n",
       "cdN1Tdc1y      1\n",
       "c2111224a      1\n",
       "Name: account_db_id, Length: 367685, dtype: int64"
      ]
     },
     "execution_count": 32,
     "metadata": {},
     "output_type": "execute_result"
    }
   ],
   "source": [
    "data['account_db_id'].value_counts()"
   ]
  },
  {
   "cell_type": "markdown",
   "metadata": {
    "hidden": true
   },
   "source": [
    "## team_id\n",
    "\n",
    "Either 1 or 2"
   ]
  },
  {
   "cell_type": "code",
   "execution_count": 33,
   "metadata": {
    "ExecuteTime": {
     "end_time": "2020-04-23T10:30:56.095597Z",
     "start_time": "2020-04-23T10:30:56.061652Z"
    },
    "hidden": true
   },
   "outputs": [
    {
     "data": {
      "text/plain": [
       "2    701500\n",
       "1    701458\n",
       "Name: team_id, dtype: int64"
      ]
     },
     "execution_count": 33,
     "metadata": {},
     "output_type": "execute_result"
    }
   ],
   "source": [
    "data['team_id'].value_counts()"
   ]
  },
  {
   "cell_type": "markdown",
   "metadata": {
    "hidden": true
   },
   "source": [
    "## prebattle_id, is_prebattle_creator\n",
    "\n",
    "~83% of players were not a part of any platoon"
   ]
  },
  {
   "cell_type": "code",
   "execution_count": 34,
   "metadata": {
    "ExecuteTime": {
     "end_time": "2020-04-23T10:31:04.828974Z",
     "start_time": "2020-04-23T10:31:04.503844Z"
    },
    "hidden": true
   },
   "outputs": [
    {
     "data": {
      "text/plain": [
       "0.8267403585852178"
      ]
     },
     "execution_count": 34,
     "metadata": {},
     "output_type": "execute_result"
    }
   ],
   "source": [
    "data[data['prebattle_id'] == 0].shape[0] / data.shape[0]"
   ]
  },
  {
   "cell_type": "code",
   "execution_count": 35,
   "metadata": {
    "ExecuteTime": {
     "end_time": "2020-04-23T10:31:13.583801Z",
     "start_time": "2020-04-23T10:31:13.560860Z"
    },
    "hidden": true
   },
   "outputs": [
    {
     "data": {
      "text/plain": [
       "0    1303642\n",
       "1      99316\n",
       "Name: is_prebattle_creator, dtype: int64"
      ]
     },
     "execution_count": 35,
     "metadata": {},
     "output_type": "execute_result"
    }
   ],
   "source": [
    "data['is_prebattle_creator'].value_counts()"
   ]
  },
  {
   "cell_type": "markdown",
   "metadata": {
    "hidden": true
   },
   "source": [
    "## vehicle_type_cd\n",
    "\n",
    "All tanks used in the battles are real (there is a corresponding entry in \"catalog\")"
   ]
  },
  {
   "cell_type": "code",
   "execution_count": 36,
   "metadata": {
    "ExecuteTime": {
     "end_time": "2020-04-23T10:31:23.017312Z",
     "start_time": "2020-04-23T10:31:22.985833Z"
    },
    "hidden": true
   },
   "outputs": [
    {
     "data": {
      "text/plain": [
       "count     1402958\n",
       "unique        347\n",
       "top         50193\n",
       "freq        77041\n",
       "Name: vehicle_type_cd, dtype: int64"
      ]
     },
     "execution_count": 36,
     "metadata": {},
     "output_type": "execute_result"
    }
   ],
   "source": [
    "data['vehicle_type_cd'].describe()"
   ]
  },
  {
   "cell_type": "code",
   "execution_count": 37,
   "metadata": {
    "ExecuteTime": {
     "end_time": "2020-04-23T10:31:31.998420Z",
     "start_time": "2020-04-23T10:31:31.965465Z"
    },
    "hidden": true
   },
   "outputs": [
    {
     "data": {
      "text/plain": [
       "347"
      ]
     },
     "execution_count": 37,
     "metadata": {},
     "output_type": "execute_result"
    }
   ],
   "source": [
    "data['vehicle_type_cd'].unique().isin(catalog['item_cd']).sum()"
   ]
  },
  {
   "cell_type": "markdown",
   "metadata": {
    "hidden": true
   },
   "source": [
    "## Different battle characteristics\n",
    "\n",
    "Need to be normalized to lifetime in a battle / mileage meter"
   ]
  },
  {
   "cell_type": "code",
   "execution_count": 38,
   "metadata": {
    "ExecuteTime": {
     "end_time": "2020-04-23T10:31:40.600268Z",
     "start_time": "2020-04-23T10:31:40.593278Z"
    },
    "hidden": true
   },
   "outputs": [],
   "source": [
    "target_params = ['shots', 'hits', 'he_hits', 'pierced']\n",
    "damage_params = ['damage_dealt', 'damage_assisted_track', 'damage_assisted_radio', \n",
    "               'damage_assisted_stun']\n",
    "income_params = ['damage_received', 'shots_received', 'no_damage_shots_received',\n",
    "                'pierced_received']"
   ]
  },
  {
   "cell_type": "code",
   "execution_count": 39,
   "metadata": {
    "ExecuteTime": {
     "end_time": "2020-04-23T10:31:50.145090Z",
     "start_time": "2020-04-23T10:31:49.301113Z"
    },
    "hidden": true
   },
   "outputs": [
    {
     "data": {
      "image/png": "[encoded data removed]",
      "text/plain": [
       "<Figure size 1080x432 with 1 Axes>"
      ]
     },
     "metadata": {
      "needs_background": "light"
     },
     "output_type": "display_data"
    }
   ],
   "source": [
    "data[target_params].boxplot(figsize=(15, 6));"
   ]
  },
  {
   "cell_type": "code",
   "execution_count": 40,
   "metadata": {
    "ExecuteTime": {
     "end_time": "2020-04-23T10:31:59.426647Z",
     "start_time": "2020-04-23T10:31:59.243140Z"
    },
    "hidden": true
   },
   "outputs": [
    {
     "data": {
      "text/html": [
       "<div>\n",
       "<style scoped>\n",
       "    .dataframe tbody tr th:only-of-type {\n",
       "        vertical-align: middle;\n",
       "    }\n",
       "\n",
       "    .dataframe tbody tr th {\n",
       "        vertical-align: top;\n",
       "    }\n",
       "\n",
       "    .dataframe thead th {\n",
       "        text-align: right;\n",
       "    }\n",
       "</style>\n",
       "<table border=\"1\" class=\"dataframe\">\n",
       "  <thead>\n",
       "    <tr style=\"text-align: right;\">\n",
       "      <th></th>\n",
       "      <th>shots</th>\n",
       "      <th>hits</th>\n",
       "      <th>he_hits</th>\n",
       "      <th>pierced</th>\n",
       "    </tr>\n",
       "  </thead>\n",
       "  <tbody>\n",
       "    <tr>\n",
       "      <th>shots</th>\n",
       "      <td>1.000000</td>\n",
       "      <td>0.889603</td>\n",
       "      <td>0.042677</td>\n",
       "      <td>0.793255</td>\n",
       "    </tr>\n",
       "    <tr>\n",
       "      <th>hits</th>\n",
       "      <td>0.889603</td>\n",
       "      <td>1.000000</td>\n",
       "      <td>-0.164152</td>\n",
       "      <td>0.882728</td>\n",
       "    </tr>\n",
       "    <tr>\n",
       "      <th>he_hits</th>\n",
       "      <td>0.042677</td>\n",
       "      <td>-0.164152</td>\n",
       "      <td>1.000000</td>\n",
       "      <td>-0.090797</td>\n",
       "    </tr>\n",
       "    <tr>\n",
       "      <th>pierced</th>\n",
       "      <td>0.793255</td>\n",
       "      <td>0.882728</td>\n",
       "      <td>-0.090797</td>\n",
       "      <td>1.000000</td>\n",
       "    </tr>\n",
       "  </tbody>\n",
       "</table>\n",
       "</div>"
      ],
      "text/plain": [
       "            shots      hits   he_hits   pierced\n",
       "shots    1.000000  0.889603  0.042677  0.793255\n",
       "hits     0.889603  1.000000 -0.164152  0.882728\n",
       "he_hits  0.042677 -0.164152  1.000000 -0.090797\n",
       "pierced  0.793255  0.882728 -0.090797  1.000000"
      ]
     },
     "execution_count": 40,
     "metadata": {},
     "output_type": "execute_result"
    }
   ],
   "source": [
    "data[target_params].corr()"
   ]
  },
  {
   "cell_type": "code",
   "execution_count": 41,
   "metadata": {
    "ExecuteTime": {
     "end_time": "2020-04-23T10:32:08.964749Z",
     "start_time": "2020-04-23T10:32:07.930995Z"
    },
    "hidden": true
   },
   "outputs": [
    {
     "data": {
      "image/png": "[encoded data removed]",
      "text/plain": [
       "<Figure size 1080x432 with 1 Axes>"
      ]
     },
     "metadata": {
      "needs_background": "light"
     },
     "output_type": "display_data"
    }
   ],
   "source": [
    "data[damage_params].boxplot(figsize=(15, 6));"
   ]
  },
  {
   "cell_type": "code",
   "execution_count": 42,
   "metadata": {
    "ExecuteTime": {
     "end_time": "2020-04-23T10:32:17.685820Z",
     "start_time": "2020-04-23T10:32:17.499319Z"
    },
    "hidden": true
   },
   "outputs": [
    {
     "data": {
      "text/html": [
       "<div>\n",
       "<style scoped>\n",
       "    .dataframe tbody tr th:only-of-type {\n",
       "        vertical-align: middle;\n",
       "    }\n",
       "\n",
       "    .dataframe tbody tr th {\n",
       "        vertical-align: top;\n",
       "    }\n",
       "\n",
       "    .dataframe thead th {\n",
       "        text-align: right;\n",
       "    }\n",
       "</style>\n",
       "<table border=\"1\" class=\"dataframe\">\n",
       "  <thead>\n",
       "    <tr style=\"text-align: right;\">\n",
       "      <th></th>\n",
       "      <th>damage_dealt</th>\n",
       "      <th>damage_assisted_track</th>\n",
       "      <th>damage_assisted_radio</th>\n",
       "      <th>damage_assisted_stun</th>\n",
       "    </tr>\n",
       "  </thead>\n",
       "  <tbody>\n",
       "    <tr>\n",
       "      <th>damage_dealt</th>\n",
       "      <td>1.000000</td>\n",
       "      <td>0.162962</td>\n",
       "      <td>0.083276</td>\n",
       "      <td>0.052412</td>\n",
       "    </tr>\n",
       "    <tr>\n",
       "      <th>damage_assisted_track</th>\n",
       "      <td>0.162962</td>\n",
       "      <td>1.000000</td>\n",
       "      <td>0.032367</td>\n",
       "      <td>-0.020921</td>\n",
       "    </tr>\n",
       "    <tr>\n",
       "      <th>damage_assisted_radio</th>\n",
       "      <td>0.083276</td>\n",
       "      <td>0.032367</td>\n",
       "      <td>1.000000</td>\n",
       "      <td>-0.112713</td>\n",
       "    </tr>\n",
       "    <tr>\n",
       "      <th>damage_assisted_stun</th>\n",
       "      <td>0.052412</td>\n",
       "      <td>-0.020921</td>\n",
       "      <td>-0.112713</td>\n",
       "      <td>1.000000</td>\n",
       "    </tr>\n",
       "  </tbody>\n",
       "</table>\n",
       "</div>"
      ],
      "text/plain": [
       "                       damage_dealt  damage_assisted_track  \\\n",
       "damage_dealt               1.000000               0.162962   \n",
       "damage_assisted_track      0.162962               1.000000   \n",
       "damage_assisted_radio      0.083276               0.032367   \n",
       "damage_assisted_stun       0.052412              -0.020921   \n",
       "\n",
       "                       damage_assisted_radio  damage_assisted_stun  \n",
       "damage_dealt                        0.083276              0.052412  \n",
       "damage_assisted_track               0.032367             -0.020921  \n",
       "damage_assisted_radio               1.000000             -0.112713  \n",
       "damage_assisted_stun               -0.112713              1.000000  "
      ]
     },
     "execution_count": 42,
     "metadata": {},
     "output_type": "execute_result"
    }
   ],
   "source": [
    "data[damage_params].corr()"
   ]
  },
  {
   "cell_type": "code",
   "execution_count": 43,
   "metadata": {
    "ExecuteTime": {
     "end_time": "2020-04-23T10:32:27.074182Z",
     "start_time": "2020-04-23T10:32:26.624876Z"
    },
    "hidden": true
   },
   "outputs": [
    {
     "data": {
      "text/html": [
       "<div>\n",
       "<style scoped>\n",
       "    .dataframe tbody tr th:only-of-type {\n",
       "        vertical-align: middle;\n",
       "    }\n",
       "\n",
       "    .dataframe tbody tr th {\n",
       "        vertical-align: top;\n",
       "    }\n",
       "\n",
       "    .dataframe thead th {\n",
       "        text-align: right;\n",
       "    }\n",
       "</style>\n",
       "<table border=\"1\" class=\"dataframe\">\n",
       "  <thead>\n",
       "    <tr style=\"text-align: right;\">\n",
       "      <th></th>\n",
       "      <th>damage_received</th>\n",
       "      <th>shots_received</th>\n",
       "      <th>no_damage_shots_received</th>\n",
       "      <th>pierced_received</th>\n",
       "    </tr>\n",
       "  </thead>\n",
       "  <tbody>\n",
       "    <tr>\n",
       "      <th>count</th>\n",
       "      <td>1.402958e+06</td>\n",
       "      <td>1.402958e+06</td>\n",
       "      <td>1.402958e+06</td>\n",
       "      <td>1.402958e+06</td>\n",
       "    </tr>\n",
       "    <tr>\n",
       "      <th>mean</th>\n",
       "      <td>1.162548e+03</td>\n",
       "      <td>5.298307e+00</td>\n",
       "      <td>1.668547e+00</td>\n",
       "      <td>3.629759e+00</td>\n",
       "    </tr>\n",
       "    <tr>\n",
       "      <th>std</th>\n",
       "      <td>5.268389e+02</td>\n",
       "      <td>3.593638e+00</td>\n",
       "      <td>2.452998e+00</td>\n",
       "      <td>1.881117e+00</td>\n",
       "    </tr>\n",
       "    <tr>\n",
       "      <th>min</th>\n",
       "      <td>0.000000e+00</td>\n",
       "      <td>0.000000e+00</td>\n",
       "      <td>0.000000e+00</td>\n",
       "      <td>0.000000e+00</td>\n",
       "    </tr>\n",
       "    <tr>\n",
       "      <th>25%</th>\n",
       "      <td>9.000000e+02</td>\n",
       "      <td>3.000000e+00</td>\n",
       "      <td>0.000000e+00</td>\n",
       "      <td>2.000000e+00</td>\n",
       "    </tr>\n",
       "    <tr>\n",
       "      <th>50%</th>\n",
       "      <td>1.300000e+03</td>\n",
       "      <td>5.000000e+00</td>\n",
       "      <td>1.000000e+00</td>\n",
       "      <td>4.000000e+00</td>\n",
       "    </tr>\n",
       "    <tr>\n",
       "      <th>75%</th>\n",
       "      <td>1.500000e+03</td>\n",
       "      <td>7.000000e+00</td>\n",
       "      <td>2.000000e+00</td>\n",
       "      <td>5.000000e+00</td>\n",
       "    </tr>\n",
       "    <tr>\n",
       "      <th>max</th>\n",
       "      <td>3.000000e+03</td>\n",
       "      <td>6.700000e+01</td>\n",
       "      <td>6.200000e+01</td>\n",
       "      <td>2.000000e+01</td>\n",
       "    </tr>\n",
       "  </tbody>\n",
       "</table>\n",
       "</div>"
      ],
      "text/plain": [
       "       damage_received  shots_received  no_damage_shots_received  \\\n",
       "count     1.402958e+06    1.402958e+06              1.402958e+06   \n",
       "mean      1.162548e+03    5.298307e+00              1.668547e+00   \n",
       "std       5.268389e+02    3.593638e+00              2.452998e+00   \n",
       "min       0.000000e+00    0.000000e+00              0.000000e+00   \n",
       "25%       9.000000e+02    3.000000e+00              0.000000e+00   \n",
       "50%       1.300000e+03    5.000000e+00              1.000000e+00   \n",
       "75%       1.500000e+03    7.000000e+00              2.000000e+00   \n",
       "max       3.000000e+03    6.700000e+01              6.200000e+01   \n",
       "\n",
       "       pierced_received  \n",
       "count      1.402958e+06  \n",
       "mean       3.629759e+00  \n",
       "std        1.881117e+00  \n",
       "min        0.000000e+00  \n",
       "25%        2.000000e+00  \n",
       "50%        4.000000e+00  \n",
       "75%        5.000000e+00  \n",
       "max        2.000000e+01  "
      ]
     },
     "execution_count": 43,
     "metadata": {},
     "output_type": "execute_result"
    }
   ],
   "source": [
    "data[income_params].describe()"
   ]
  },
  {
   "cell_type": "code",
   "execution_count": 44,
   "metadata": {
    "ExecuteTime": {
     "end_time": "2020-04-23T10:32:36.559889Z",
     "start_time": "2020-04-23T10:32:35.839270Z"
    },
    "hidden": true
   },
   "outputs": [
    {
     "data": {
      "image/png": "[encoded data removed]",
      "text/plain": [
       "<Figure size 720x432 with 1 Axes>"
      ]
     },
     "metadata": {
      "needs_background": "light"
     },
     "output_type": "display_data"
    }
   ],
   "source": [
    "data[income_params].boxplot(figsize=(10, 6));"
   ]
  },
  {
   "cell_type": "markdown",
   "metadata": {
    "hidden": true
   },
   "source": [
    "## life_time_sec"
   ]
  },
  {
   "cell_type": "code",
   "execution_count": 45,
   "metadata": {
    "ExecuteTime": {
     "end_time": "2020-04-23T10:32:55.946495Z",
     "start_time": "2020-04-23T10:32:45.097959Z"
    },
    "hidden": true
   },
   "outputs": [
    {
     "data": {
      "image/png": "[encoded data removed]",
      "text/plain": [
       "<Figure size 432x288 with 1 Axes>"
      ]
     },
     "metadata": {
      "needs_background": "light"
     },
     "output_type": "display_data"
    }
   ],
   "source": [
    "sns.distplot(data['life_time_sec']);"
   ]
  },
  {
   "cell_type": "markdown",
   "metadata": {},
   "source": [
    "# Create new features (normalized to time/etc) "
   ]
  },
  {
   "cell_type": "code",
   "execution_count": 46,
   "metadata": {
    "ExecuteTime": {
     "end_time": "2020-04-23T10:33:04.439939Z",
     "start_time": "2020-04-23T10:33:04.407988Z"
    }
   },
   "outputs": [
    {
     "data": {
      "text/html": [
       "<div>\n",
       "<style scoped>\n",
       "    .dataframe tbody tr th:only-of-type {\n",
       "        vertical-align: middle;\n",
       "    }\n",
       "\n",
       "    .dataframe tbody tr th {\n",
       "        vertical-align: top;\n",
       "    }\n",
       "\n",
       "    .dataframe thead th {\n",
       "        text-align: right;\n",
       "    }\n",
       "</style>\n",
       "<table border=\"1\" class=\"dataframe\">\n",
       "  <thead>\n",
       "    <tr style=\"text-align: right;\">\n",
       "      <th></th>\n",
       "      <th>dt</th>\n",
       "      <th>arena_id</th>\n",
       "      <th>account_db_id</th>\n",
       "      <th>team_id</th>\n",
       "      <th>clan_db_id</th>\n",
       "      <th>prebattle_id</th>\n",
       "      <th>is_prebattle_creator</th>\n",
       "      <th>vehicle_type_cd</th>\n",
       "      <th>life_time_sec</th>\n",
       "      <th>shots</th>\n",
       "      <th>...</th>\n",
       "      <th>mileage_meter</th>\n",
       "      <th>remained_hp</th>\n",
       "      <th>original_credits</th>\n",
       "      <th>original_xp</th>\n",
       "      <th>premium_xp_factor</th>\n",
       "      <th>daily_xp_factor</th>\n",
       "      <th>battle_num</th>\n",
       "      <th>damage_blocked_by_armor</th>\n",
       "      <th>booster_bonus_credits</th>\n",
       "      <th>booster_bonus_xp</th>\n",
       "    </tr>\n",
       "  </thead>\n",
       "  <tbody>\n",
       "    <tr>\n",
       "      <th>0</th>\n",
       "      <td>2018-10-27</td>\n",
       "      <td>4yNy14y4yN12d42dT</td>\n",
       "      <td>c42c4aydT</td>\n",
       "      <td>2</td>\n",
       "      <td>0</td>\n",
       "      <td>0</td>\n",
       "      <td>0</td>\n",
       "      <td>2849</td>\n",
       "      <td>132</td>\n",
       "      <td>3</td>\n",
       "      <td>...</td>\n",
       "      <td>459</td>\n",
       "      <td>-3</td>\n",
       "      <td>27279</td>\n",
       "      <td>1084</td>\n",
       "      <td>15</td>\n",
       "      <td>20</td>\n",
       "      <td>11956</td>\n",
       "      <td>0</td>\n",
       "      <td>0</td>\n",
       "      <td>0</td>\n",
       "    </tr>\n",
       "    <tr>\n",
       "      <th>1</th>\n",
       "      <td>2018-10-27</td>\n",
       "      <td>4yNy14y4yN12d42dT</td>\n",
       "      <td>c2TaaayN4</td>\n",
       "      <td>1</td>\n",
       "      <td>500033550</td>\n",
       "      <td>0</td>\n",
       "      <td>0</td>\n",
       "      <td>63553</td>\n",
       "      <td>195</td>\n",
       "      <td>6</td>\n",
       "      <td>...</td>\n",
       "      <td>708</td>\n",
       "      <td>0</td>\n",
       "      <td>6282</td>\n",
       "      <td>68</td>\n",
       "      <td>15</td>\n",
       "      <td>10</td>\n",
       "      <td>9832</td>\n",
       "      <td>0</td>\n",
       "      <td>0</td>\n",
       "      <td>0</td>\n",
       "    </tr>\n",
       "    <tr>\n",
       "      <th>2</th>\n",
       "      <td>2018-10-27</td>\n",
       "      <td>4yNy14y4yN12d42dT</td>\n",
       "      <td>cyyd47dc4</td>\n",
       "      <td>2</td>\n",
       "      <td>500051107</td>\n",
       "      <td>67896661</td>\n",
       "      <td>0</td>\n",
       "      <td>17665</td>\n",
       "      <td>224</td>\n",
       "      <td>11</td>\n",
       "      <td>...</td>\n",
       "      <td>656</td>\n",
       "      <td>0</td>\n",
       "      <td>36102</td>\n",
       "      <td>3560</td>\n",
       "      <td>15</td>\n",
       "      <td>20</td>\n",
       "      <td>39190</td>\n",
       "      <td>0</td>\n",
       "      <td>0</td>\n",
       "      <td>1130</td>\n",
       "    </tr>\n",
       "    <tr>\n",
       "      <th>3</th>\n",
       "      <td>2018-10-27</td>\n",
       "      <td>4yNy14y4yN12d42dT</td>\n",
       "      <td>c2cdc441y</td>\n",
       "      <td>2</td>\n",
       "      <td>0</td>\n",
       "      <td>0</td>\n",
       "      <td>0</td>\n",
       "      <td>11537</td>\n",
       "      <td>381</td>\n",
       "      <td>8</td>\n",
       "      <td>...</td>\n",
       "      <td>1912</td>\n",
       "      <td>387</td>\n",
       "      <td>16317</td>\n",
       "      <td>1678</td>\n",
       "      <td>15</td>\n",
       "      <td>20</td>\n",
       "      <td>7217</td>\n",
       "      <td>0</td>\n",
       "      <td>0</td>\n",
       "      <td>0</td>\n",
       "    </tr>\n",
       "    <tr>\n",
       "      <th>4</th>\n",
       "      <td>2018-10-27</td>\n",
       "      <td>4yNy14y4yN12d42dT</td>\n",
       "      <td>cdT7cTT21</td>\n",
       "      <td>1</td>\n",
       "      <td>0</td>\n",
       "      <td>0</td>\n",
       "      <td>0</td>\n",
       "      <td>7937</td>\n",
       "      <td>198</td>\n",
       "      <td>5</td>\n",
       "      <td>...</td>\n",
       "      <td>507</td>\n",
       "      <td>0</td>\n",
       "      <td>11620</td>\n",
       "      <td>232</td>\n",
       "      <td>15</td>\n",
       "      <td>10</td>\n",
       "      <td>9532</td>\n",
       "      <td>0</td>\n",
       "      <td>0</td>\n",
       "      <td>0</td>\n",
       "    </tr>\n",
       "  </tbody>\n",
       "</table>\n",
       "<p>5 rows × 34 columns</p>\n",
       "</div>"
      ],
      "text/plain": [
       "          dt           arena_id account_db_id  team_id clan_db_id  \\\n",
       "0 2018-10-27  4yNy14y4yN12d42dT     c42c4aydT        2          0   \n",
       "1 2018-10-27  4yNy14y4yN12d42dT     c2TaaayN4        1  500033550   \n",
       "2 2018-10-27  4yNy14y4yN12d42dT     cyyd47dc4        2  500051107   \n",
       "3 2018-10-27  4yNy14y4yN12d42dT     c2cdc441y        2          0   \n",
       "4 2018-10-27  4yNy14y4yN12d42dT     cdT7cTT21        1          0   \n",
       "\n",
       "  prebattle_id is_prebattle_creator vehicle_type_cd  life_time_sec  shots  \\\n",
       "0            0                    0            2849            132      3   \n",
       "1            0                    0           63553            195      6   \n",
       "2     67896661                    0           17665            224     11   \n",
       "3            0                    0           11537            381      8   \n",
       "4            0                    0            7937            198      5   \n",
       "\n",
       "   ...  mileage_meter  remained_hp  original_credits  original_xp  \\\n",
       "0  ...            459           -3             27279         1084   \n",
       "1  ...            708            0              6282           68   \n",
       "2  ...            656            0             36102         3560   \n",
       "3  ...           1912          387             16317         1678   \n",
       "4  ...            507            0             11620          232   \n",
       "\n",
       "   premium_xp_factor  daily_xp_factor  battle_num  damage_blocked_by_armor  \\\n",
       "0                 15               20       11956                        0   \n",
       "1                 15               10        9832                        0   \n",
       "2                 15               20       39190                        0   \n",
       "3                 15               20        7217                        0   \n",
       "4                 15               10        9532                        0   \n",
       "\n",
       "   booster_bonus_credits  booster_bonus_xp  \n",
       "0                      0                 0  \n",
       "1                      0                 0  \n",
       "2                      0              1130  \n",
       "3                      0                 0  \n",
       "4                      0                 0  \n",
       "\n",
       "[5 rows x 34 columns]"
      ]
     },
     "execution_count": 46,
     "metadata": {},
     "output_type": "execute_result"
    }
   ],
   "source": [
    "data.head()"
   ]
  },
  {
   "cell_type": "code",
   "execution_count": 51,
   "metadata": {
    "ExecuteTime": {
     "end_time": "2020-04-23T10:42:03.847946Z",
     "start_time": "2020-04-23T10:42:03.814039Z"
    }
   },
   "outputs": [],
   "source": [
    "def normalize_feature(target_feature, norm_feature):\n",
    "    if norm_feature != 0:\n",
    "        return target_feature / norm_feature\n",
    "    else:\n",
    "        return 0\n",
    "\n",
    "def is_warrior(kills):\n",
    "    return kills >= 6\n",
    "\n",
    "def is_steel_wall(remained_hp, shots_received, damage_blocked_by_armor, damage_received):\n",
    "    return remained_hp > 0 and shots_received >= 11 and damage_blocked_by_armor + damage_received >= 1000\n",
    "\n",
    "def calculate_winner_team_id(df):\n",
    "    def calc_winner(row):\n",
    "        winner = 0\n",
    "        if row['num_tanks_pos_1'] != 0 and row['num_tanks_pos_2'] == 0:\n",
    "            winner = 1\n",
    "        elif row['num_tanks_pos_2'] != 0 and row['num_tanks_pos_1'] == 0:\n",
    "            winner = 2\n",
    "        else:\n",
    "            if row['mean_xp_1'] / row['mean_xp_2'] > 2.5:\n",
    "                winner = 1\n",
    "            elif row['mean_xp_2'] / row['mean_xp_1'] > 2.5:\n",
    "                winner = 2\n",
    "            else:\n",
    "                winner = 0     \n",
    "        return winner\n",
    "\n",
    "    print('[FILTERING DATA...]', end='  ')\n",
    "    warriors = df[df.groupby('arena_id')['account_db_id'].transform('count') == 30]\n",
    "    warriors.index = np.arange(len(warriors))\n",
    "    print(f'[FILTERED]: removed {len(df) - len(warriors)} rows!')\n",
    "    \n",
    "    print('[GROUPING BATTLES AND TEAMS...]', end='  ')\n",
    "    battles = warriors.groupby(['arena_id', 'team_id'])\n",
    "    print(f'[GROUPED BATTLES AND TEAMS]: There are {sum(battles[\"account_db_id\"].count() != 15)} not full teams!')\n",
    "\n",
    "    print('[CALCULATING STATS...]', end='  ')\n",
    "    info_df = pd.DataFrame(index = [ind[0] for ind in battles.count().index][::2])\n",
    "    info_df['num_tanks_pos_1'] = battles['is_alive'].sum().iloc[::2].values\n",
    "    info_df['num_tanks_pos_2'] = battles['is_alive'].sum().iloc[1::2].values\n",
    "    info_df['mean_xp_1'] = battles['original_xp'].mean().iloc[::2].values\n",
    "    info_df['mean_xp_2'] = battles['original_xp'].mean().iloc[1::2].values\n",
    "    print(f'[CALCULATED STATS]: There are {len(battles) // 2} restored battles!')\n",
    "    \n",
    "    print('[CALCULATING WINNERS...]', end='  ')\n",
    "    info_df['winner_team_id'] = info_df.apply(calc_winner, axis=1)\n",
    "    print('[CALCULATED WINNERS]')\n",
    "    \n",
    "    print('[JOINING...]', end='  ')\n",
    "    info_df.reset_index(inplace=True)\n",
    "    df = df.merge(info_df[['index', 'winner_team_id']], how='left', left_on='arena_id', right_on='index')\n",
    "    df.drop(columns=['index'], inplace=True, axis=1)\n",
    "    print('[JOINED]')\n",
    "    \n",
    "    return df\n",
    "\n",
    "normalize_feature = np.vectorize(normalize_feature)\n",
    "is_warrior = np.vectorize(is_warrior)\n",
    "is_steel_wall = np.vectorize(is_steel_wall)"
   ]
  },
  {
   "cell_type": "code",
   "execution_count": 52,
   "metadata": {
    "ExecuteTime": {
     "end_time": "2020-04-23T10:42:33.370736Z",
     "start_time": "2020-04-23T10:42:13.376577Z"
    }
   },
   "outputs": [
    {
     "name": "stdout",
     "output_type": "stream",
     "text": [
      "[FILTERING DATA...]  [FILTERED]: removed 38588 rows!\n",
      "[GROUPING BATTLES AND TEAMS...]  [GROUPED BATTLES AND TEAMS]: There are 0 not full teams!\n",
      "[CALCULATING STATS...]  [CALCULATED STATS]: There are 45479 restored battles!\n",
      "[CALCULATING WINNERS...]  [CALCULATED WINNERS]\n",
      "[JOINING...]  [JOINED]\n"
     ]
    }
   ],
   "source": [
    "# for players kills/deaths, hit_rate, win_rate?, mean_damage, achievements!\n",
    "\n",
    "\n",
    "# total damage\n",
    "data['total_damage_dealt'] = data['damage_dealt'] + data['damage_assisted_radio'] + \\\n",
    "                             data['damage_assisted_stun'] + data['damage_assisted_track']\n",
    "\n",
    "# hits\n",
    "data['hit_rate'] = normalize_feature(data['hits'], data['shots'])\n",
    "data['pierced_rate'] = normalize_feature(data['pierced'], data['hits'])\n",
    "data['he_hit_rate'] = normalize_feature(data['he_hits'], data['hits'])\n",
    "\n",
    "# achievements\n",
    "data['is_warrior'] = is_warrior(data['kills_made'])\n",
    "data['is_steel_wall'] = is_steel_wall(data['remained_hp'], data['shots_received'], data['damage_blocked_by_armor'], data['damage_received'])\n",
    "\n",
    "# fetures per minute\n",
    "data['life_time_min'] = data['life_time_sec'] / 60\n",
    "\n",
    "data['damage_dealt_per_minute'] = normalize_feature(data['damage_dealt'], data['life_time_min'])\n",
    "data['damage_assisted_radio_per_minute'] = normalize_feature(data['damage_assisted_radio'], data['life_time_min'])\n",
    "data['damage_assisted_stun_per_minute'] = normalize_feature(data['damage_assisted_stun'], data['life_time_min'])\n",
    "data['damage_assisted_track_per_minute'] = normalize_feature(data['damage_assisted_track'], data['life_time_min'])\n",
    "\n",
    "# win_rate\n",
    "data['is_alive'] = data['remained_hp'] > 0\n",
    "data = calculate_winner_team_id(data)"
   ]
  },
  {
   "cell_type": "code",
   "execution_count": null,
   "metadata": {},
   "outputs": [],
   "source": []
  },
  {
   "cell_type": "code",
   "execution_count": null,
   "metadata": {},
   "outputs": [],
   "source": [
    "# players\n",
    "\n",
    "pl = "
   ]
  },
  {
   "cell_type": "code",
   "execution_count": null,
   "metadata": {},
   "outputs": [],
   "source": []
  },
  {
   "cell_type": "code",
   "execution_count": null,
   "metadata": {},
   "outputs": [],
   "source": []
  },
  {
   "cell_type": "code",
   "execution_count": null,
   "metadata": {},
   "outputs": [],
   "source": []
  },
  {
   "cell_type": "code",
   "execution_count": null,
   "metadata": {},
   "outputs": [],
   "source": []
  },
  {
   "cell_type": "markdown",
   "metadata": {},
   "source": [
    "## Calculate additive features"
   ]
  },
  {
   "cell_type": "code",
   "execution_count": null,
   "metadata": {
    "ExecuteTime": {
     "end_time": "2020-04-22T16:54:10.855580Z",
     "start_time": "2020-04-22T16:53:03.498Z"
    }
   },
   "outputs": [],
   "source": [
    "data['total_damage_dealt'] = data['damage_dealt'] + data['damage_assisted_radio'] + \\\n",
    "                             data['damage_assisted_stun'] + data['damage_assisted_track']"
   ]
  },
  {
   "cell_type": "markdown",
   "metadata": {},
   "source": [
    "## Normalize to time"
   ]
  },
  {
   "cell_type": "code",
   "execution_count": null,
   "metadata": {
    "ExecuteTime": {
     "end_time": "2020-04-22T16:54:10.860572Z",
     "start_time": "2020-04-22T16:53:03.502Z"
    }
   },
   "outputs": [],
   "source": [
    "target_features = ['shots', 'hits', 'he_hits', 'pierced', 'damage_dealt',\n",
    "                   'damage_assisted_track', 'damage_assisted_radio',\n",
    "                   'damage_assisted_stun', 'total_damage_dealt',\n",
    "                   'damage_received', 'shots_received',\n",
    "                   'pierced_received', 'spotted',\n",
    "                   'damaged', 'kills_made', 'mileage_meter',\n",
    "                   'damage_blocked_by_armor']\n",
    "\n",
    "for feature in target_features:\n",
    "    new_feature = feature + '_per_sec'\n",
    "    data[new_feature] = normalize_feature(data[feature], data['life_time_sec'])"
   ]
  },
  {
   "cell_type": "code",
   "execution_count": null,
   "metadata": {
    "ExecuteTime": {
     "end_time": "2020-04-22T16:54:10.867548Z",
     "start_time": "2020-04-22T16:53:03.505Z"
    }
   },
   "outputs": [],
   "source": [
    "data['life_time_min'] = data['life_time_sec'] / 60\n",
    "\n",
    "for feature in target_features:\n",
    "    data[feature + '_per_min'] = normalize_feature(data[feature], data['life_time_min'])"
   ]
  },
  {
   "cell_type": "markdown",
   "metadata": {},
   "source": [
    "## Compare distributions before and after normalization"
   ]
  },
  {
   "cell_type": "code",
   "execution_count": null,
   "metadata": {
    "ExecuteTime": {
     "end_time": "2020-04-22T16:54:10.870540Z",
     "start_time": "2020-04-22T16:53:03.511Z"
    },
    "scrolled": true
   },
   "outputs": [],
   "source": [
    "for feature in target_features:\n",
    "    new_feature = feature + '_per_min'\n",
    "\n",
    "    fig, axes = plt.subplots(1, 2, figsize=(16, 6))\n",
    "    \n",
    "    axes[0].hist(data[feature], bins=40)\n",
    "    axes[1].hist(data[new_feature], bins=40)\n",
    "    \n",
    "    axes[0].set_title(feature)\n",
    "    axes[1].set_title(new_feature)"
   ]
  },
  {
   "cell_type": "markdown",
   "metadata": {},
   "source": [
    "## Normalize to hits, shots, etc."
   ]
  },
  {
   "cell_type": "code",
   "execution_count": null,
   "metadata": {
    "ExecuteTime": {
     "end_time": "2020-04-22T16:54:10.872535Z",
     "start_time": "2020-04-22T16:53:03.517Z"
    }
   },
   "outputs": [],
   "source": [
    "features_normalized = ['hit_rate', 'he_hit_rate', 'pierced_rate',\n",
    "                      'damage_per_pierced', 'pierced_received_per_shot', \n",
    "                      'damage_per_enemy', 'damage_per_enemy_per_min', \n",
    "                      'damage_blocked_per_hit', 'damage_blocked_received_ratio']\n",
    "features_num = ['hits', 'he_hits', 'pierced', 'damage_received', \n",
    "               'pierced_received', 'total_damage_dealt', 'total_damage_dealt_per_min', \n",
    "               'damage_blocked_by_armor', 'damage_blocked_by_armor']\n",
    "features_denom = ['shots', 'hits', 'hits', 'pierced_received', 'shots_received', \n",
    "                 'damaged', 'damaged', 'pierced_received', 'damage_received']"
   ]
  },
  {
   "cell_type": "code",
   "execution_count": null,
   "metadata": {
    "ExecuteTime": {
     "end_time": "2020-04-22T16:54:10.881531Z",
     "start_time": "2020-04-22T16:53:03.521Z"
    }
   },
   "outputs": [],
   "source": [
    "for new_feature, feature_num, feature_denom in zip(features_normalized,\n",
    "                                                  features_num, features_denom):\n",
    "    data[new_feature] = normalize_feature(data[feature_num], data[feature_denom])"
   ]
  },
  {
   "cell_type": "code",
   "execution_count": null,
   "metadata": {
    "ExecuteTime": {
     "end_time": "2020-04-22T16:54:10.891488Z",
     "start_time": "2020-04-22T16:53:03.524Z"
    }
   },
   "outputs": [],
   "source": [
    "fig, axes = plt.subplots(nrows=3, ncols=3, figsize=(20, 18))\n",
    "axes = axes.ravel()\n",
    "\n",
    "for index, feature in enumerate(features_normalized):\n",
    "    axes[index].hist(data[feature], bins=20);\n",
    "    axes[index].set_title(feature)"
   ]
  },
  {
   "cell_type": "code",
   "execution_count": null,
   "metadata": {},
   "outputs": [],
   "source": []
  },
  {
   "cell_type": "code",
   "execution_count": null,
   "metadata": {
    "ExecuteTime": {
     "end_time": "2020-04-22T16:54:10.898469Z",
     "start_time": "2020-04-22T16:53:03.529Z"
    }
   },
   "outputs": [],
   "source": [
    "data.info()"
   ]
  },
  {
   "cell_type": "code",
   "execution_count": null,
   "metadata": {},
   "outputs": [],
   "source": []
  },
  {
   "cell_type": "markdown",
   "metadata": {},
   "source": [
    "## Features to be removed from the dataset"
   ]
  },
  {
   "cell_type": "code",
   "execution_count": null,
   "metadata": {
    "ExecuteTime": {
     "end_time": "2020-04-22T16:54:10.901457Z",
     "start_time": "2020-04-22T16:53:03.535Z"
    }
   },
   "outputs": [],
   "source": [
    "redundant_features = ['dt', 'arena_id', 'team_id', 'clan_db_id', 'prebattle_id', \n",
    "                     'is_prebattle_creator', 'premium_xp_factor', \n",
    "                     'daily_xp_factor', 'battle_num'] + target_features"
   ]
  },
  {
   "cell_type": "code",
   "execution_count": null,
   "metadata": {
    "ExecuteTime": {
     "end_time": "2020-04-22T16:54:10.904449Z",
     "start_time": "2020-04-22T16:53:03.540Z"
    }
   },
   "outputs": [],
   "source": [
    "data.drop(redundant_features, axis=1, inplace=True)"
   ]
  },
  {
   "cell_type": "code",
   "execution_count": null,
   "metadata": {
    "ExecuteTime": {
     "end_time": "2020-04-22T16:54:10.906444Z",
     "start_time": "2020-04-22T16:53:03.545Z"
    }
   },
   "outputs": [],
   "source": [
    "data.info()"
   ]
  },
  {
   "cell_type": "markdown",
   "metadata": {
    "heading_collapsed": true
   },
   "source": [
    "# Joining data"
   ]
  },
  {
   "cell_type": "code",
   "execution_count": null,
   "metadata": {
    "ExecuteTime": {
     "end_time": "2020-04-22T16:54:10.909442Z",
     "start_time": "2020-04-22T16:53:03.549Z"
    },
    "hidden": true
   },
   "outputs": [],
   "source": [
    "joined_data = data.merge(catalog, how='left', left_on='vehicle_type_cd', right_on='item_cd')\n",
    "joined_data"
   ]
  },
  {
   "cell_type": "code",
   "execution_count": null,
   "metadata": {
    "ExecuteTime": {
     "end_time": "2020-04-22T16:54:10.912427Z",
     "start_time": "2020-04-22T16:53:03.554Z"
    },
    "hidden": true
   },
   "outputs": [],
   "source": [
    "joined_data.info()"
   ]
  },
  {
   "cell_type": "code",
   "execution_count": null,
   "metadata": {
    "ExecuteTime": {
     "end_time": "2020-04-22T16:54:10.918412Z",
     "start_time": "2020-04-22T16:53:03.560Z"
    },
    "hidden": true
   },
   "outputs": [],
   "source": [
    "joined_data.drop(['item_cd'], axis=1, inplace=True)"
   ]
  },
  {
   "cell_type": "markdown",
   "metadata": {
    "heading_collapsed": true
   },
   "source": [
    "# Correlations"
   ]
  },
  {
   "cell_type": "code",
   "execution_count": null,
   "metadata": {
    "ExecuteTime": {
     "end_time": "2020-04-22T16:54:10.920406Z",
     "start_time": "2020-04-22T16:53:03.567Z"
    },
    "hidden": true
   },
   "outputs": [],
   "source": [
    "sns.set(font_scale=1.2)\n",
    "\n",
    "corr = joined_data.corr()\n",
    "\n",
    "plt.figure(figsize=(16,16))\n",
    "sns.heatmap(corr, square=True, cmap='Blues')\n",
    "\n",
    "plt.show()\n",
    "\n",
    "corr['item_price_gold'].sort_values()"
   ]
  },
  {
   "cell_type": "markdown",
   "metadata": {
    "heading_collapsed": true
   },
   "source": [
    "# Regression model"
   ]
  },
  {
   "cell_type": "code",
   "execution_count": null,
   "metadata": {
    "ExecuteTime": {
     "end_time": "2020-04-22T16:54:10.923399Z",
     "start_time": "2020-04-22T16:53:03.571Z"
    },
    "hidden": true
   },
   "outputs": [],
   "source": [
    "res_data = joined_data.groupby('vehicle_type_cd').mean().reset_index()\n",
    "res_data = res_data[res_data['vehicle_type_cd'] != 9217]\n",
    "\n",
    "features = ['item_level', 'item_class', 'damage_dealt', 'original_xp', 'original_credits', 'kills_made', 'damage_assisted_stun', 'he_hits', 'crew_size', 'hits', 'booster_bonus_credits']\n",
    "target_credit = ['item_price_credit']\n",
    "target_gold = ['item_price_gold']\n",
    "\n",
    "credit_dataset = res_data[res_data['item_price_credit'] != 0][features + target_credit]\n",
    "gold_dataset = res_data[res_data['item_price_gold'] != 0][features + target_gold]\n",
    "\n",
    "gold_dataset"
   ]
  },
  {
   "cell_type": "code",
   "execution_count": null,
   "metadata": {
    "ExecuteTime": {
     "end_time": "2020-04-22T16:54:10.928385Z",
     "start_time": "2020-04-22T16:53:03.575Z"
    },
    "hidden": true
   },
   "outputs": [],
   "source": [
    "credit_scaler = StandardScaler()\n",
    "gold_scaler = StandardScaler()\n",
    "\n",
    "normed_credit_dataset = pd.DataFrame(credit_scaler.fit_transform(credit_dataset), columns=[features + target_credit])\n",
    "normed_gold_dataset = pd.DataFrame(gold_scaler.fit_transform(gold_dataset), columns=[features + target_gold])\n",
    "\n",
    "normed_gold_dataset"
   ]
  },
  {
   "cell_type": "code",
   "execution_count": null,
   "metadata": {
    "ExecuteTime": {
     "end_time": "2020-04-22T16:54:10.932376Z",
     "start_time": "2020-04-22T16:53:03.580Z"
    },
    "hidden": true
   },
   "outputs": [],
   "source": [
    "train_data, train_labels = np.array(normed_gold_dataset[features]), np.array(normed_gold_dataset[target_gold])"
   ]
  },
  {
   "cell_type": "code",
   "execution_count": null,
   "metadata": {
    "ExecuteTime": {
     "end_time": "2020-04-22T16:54:10.934898Z",
     "start_time": "2020-04-22T16:53:03.583Z"
    },
    "hidden": true
   },
   "outputs": [],
   "source": [
    "k = 10\n",
    "epochs = 200\n",
    "\n",
    "models = []\n",
    "for train_index, test_index in KFold(n_splits=k).split(train_data):\n",
    "    x_train, y_train = train_data[train_index], train_labels[train_index]\n",
    "    x_test, y_test = train_data[test_index], train_labels[test_index]\n",
    "    \n",
    "    model = build_model()\n",
    "    history = model.fit(x_train, y_train, \n",
    "                        validation_data=(x_test, y_test),\n",
    "                        epochs=epochs, shuffle=True)\n",
    "    loss = model.evaluate(x_test, y_test)\n",
    "    models.append((model, history, loss))"
   ]
  },
  {
   "cell_type": "code",
   "execution_count": null,
   "metadata": {
    "ExecuteTime": {
     "end_time": "2020-04-22T16:54:10.937891Z",
     "start_time": "2020-04-22T16:53:03.588Z"
    },
    "hidden": true,
    "scrolled": false
   },
   "outputs": [],
   "source": [
    "plot_history(models)"
   ]
  },
  {
   "cell_type": "code",
   "execution_count": null,
   "metadata": {
    "ExecuteTime": {
     "end_time": "2020-04-22T16:54:10.944873Z",
     "start_time": "2020-04-22T16:53:03.592Z"
    },
    "hidden": true
   },
   "outputs": [],
   "source": [
    "mean_mse = get_mean_mse(models)\n",
    "mean_mse"
   ]
  },
  {
   "cell_type": "code",
   "execution_count": null,
   "metadata": {
    "ExecuteTime": {
     "end_time": "2020-04-22T16:54:10.950856Z",
     "start_time": "2020-04-22T16:53:03.596Z"
    },
    "hidden": true
   },
   "outputs": [],
   "source": [
    "#'item_level', 'item_class' 'damage_dealt', 'original_xp', 'original_credits', 'kills_made', 'damage_assisted_stun', 'he_hits', 'crew_size', 'hits', 'booster_bonus_credits'\n",
    "\n",
    "tank_params = [[8, 2, 994.758446, 1051.125426, 41486.045662, 0.614389, 0.0, 0.054945, 4.0, 5.207303, 2978.862081, 5]]\n",
    "\n",
    "best_model = get_best_model(models)\n",
    "\n",
    "x = gold_scaler.transform(tank_params)[:,:len(tank_params[0])-1]\n",
    "test_predictions = best_model.predict(x)\n",
    "xx = np.concatenate((x[0], test_predictions[0]))\n",
    "gold_scaler.inverse_transform(xx)[-1]"
   ]
  },
  {
   "cell_type": "code",
   "execution_count": null,
   "metadata": {
    "ExecuteTime": {
     "end_time": "2020-04-22T16:54:10.952850Z",
     "start_time": "2020-04-22T16:53:03.601Z"
    },
    "hidden": true
   },
   "outputs": [],
   "source": [
    "res_data[res_data['vehicle_type_cd'] == 9217][features]"
   ]
  },
  {
   "cell_type": "code",
   "execution_count": null,
   "metadata": {
    "ExecuteTime": {
     "end_time": "2020-04-22T16:54:10.954844Z",
     "start_time": "2020-04-22T16:53:03.604Z"
    },
    "hidden": true
   },
   "outputs": [],
   "source": [
    "pca = PCA(n_components=2)\n",
    "\n",
    "X = pca.fit_transform(normed_gold_dataset)\n",
    "\n",
    "plt.scatter(X[:, 0], X[:, 1], c=normed_gold_dataset[['item_price_gold']].values, cmap='Blues')\n",
    "\n",
    "plt.show()"
   ]
  }
 ],
 "metadata": {
  "colab": {
   "collapsed_sections": [],
   "name": "WGProject.ipynb",
   "provenance": []
  },
  "hide_input": false,
  "kernelspec": {
   "display_name": "Python 3",
   "language": "python",
   "name": "python3"
  },
  "language_info": {
   "codemirror_mode": {
    "name": "ipython",
    "version": 3
   },
   "file_extension": ".py",
   "mimetype": "text/x-python",
   "name": "python",
   "nbconvert_exporter": "python",
   "pygments_lexer": "ipython3",
   "version": "3.7.0"
  },
  "toc": {
   "base_numbering": 1,
   "nav_menu": {},
   "number_sections": true,
   "sideBar": true,
   "skip_h1_title": false,
   "title_cell": "Table of Contents",
   "title_sidebar": "Contents",
   "toc_cell": false,
   "toc_position": {},
   "toc_section_display": true,
   "toc_window_display": false
  },
  "varInspector": {
   "cols": {
    "lenName": 16,
    "lenType": 16,
    "lenVar": 40
   },
   "kernels_config": {
    "python": {
     "delete_cmd_postfix": "",
     "delete_cmd_prefix": "del ",
     "library": "var_list.py",
     "varRefreshCmd": "print(var_dic_list())"
    },
    "r": {
     "delete_cmd_postfix": ") ",
     "delete_cmd_prefix": "rm(",
     "library": "var_list.r",
     "varRefreshCmd": "cat(var_dic_list()) "
    }
   },
   "types_to_exclude": [
    "module",
    "function",
    "builtin_function_or_method",
    "instance",
    "_Feature"
   ],
   "window_display": false
  }
 },
 "nbformat": 4,
 "nbformat_minor": 1
}
