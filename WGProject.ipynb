{
 "cells": [
  {
   "cell_type": "markdown",
   "metadata": {
    "heading_collapsed": true
   },
   "source": [
    "# Data loading"
   ]
  },
  {
   "cell_type": "code",
   "execution_count": 1,
   "metadata": {
    "ExecuteTime": {
     "end_time": "2020-04-20T17:47:00.672458Z",
     "start_time": "2020-04-20T17:46:52.884392Z"
    },
    "colab": {
     "base_uri": "https://localhost:8080/",
     "height": 71
    },
    "colab_type": "code",
    "hidden": true,
    "id": "nWyYek0FCTXH",
    "outputId": "86de1a4e-fd02-41ae-86d4-13e7ab3d9939"
   },
   "outputs": [],
   "source": [
    "import numpy as np\n",
    "import pandas as pd\n",
    "import matplotlib.pyplot as plt\n",
    "import seaborn as sns\n",
    "\n",
    "from scipy import stats\n",
    "\n",
    "from sklearn.preprocessing import LabelEncoder\n",
    "from sklearn.ensemble import GradientBoostingRegressor\n",
    "from sklearn.preprocessing import StandardScaler\n",
    "from sklearn.model_selection import KFold\n",
    "from sklearn.metrics import mean_squared_error\n",
    "\n",
    "import tensorflow as tf\n",
    "from tensorflow import keras\n",
    "from tensorflow.keras import layers"
   ]
  },
  {
   "cell_type": "code",
   "execution_count": 2,
   "metadata": {},
   "outputs": [],
   "source": [
    "import sklearn\n",
    "from sklearn.ensemble import RandomForestRegressor\n",
    "from sklearn.svm import SVR\n",
    "from sklearn.decomposition import PCA\n",
    "from sklearn.model_selection import train_test_split\n",
    "from sklearn.metrics import r2_score, mean_absolute_error\n",
    "from mlxtend.feature_selection import SequentialFeatureSelector as SFS\n",
    "from sklearn.model_selection import GridSearchCV\n",
    "from sklearn.manifold import TSNE"
   ]
  },
  {
   "cell_type": "code",
   "execution_count": 3,
   "metadata": {
    "ExecuteTime": {
     "end_time": "2020-04-20T17:47:10.932020Z",
     "start_time": "2020-04-20T17:47:00.675450Z"
    },
    "colab": {},
    "colab_type": "code",
    "hidden": true,
    "id": "Ox0njMUsCVlm"
   },
   "outputs": [],
   "source": [
    "catalog = pd.read_csv('data/data_catalogue.csv')\n",
    "data = pd.read_csv('data/data_arena_members.csv')"
   ]
  },
  {
   "cell_type": "code",
   "execution_count": 4,
   "metadata": {
    "ExecuteTime": {
     "end_time": "2020-04-20T19:35:23.133859Z",
     "start_time": "2020-04-20T19:35:23.106895Z"
    },
    "hidden": true
   },
   "outputs": [],
   "source": [
    "def plot_hist2d(x,\n",
    "                y,\n",
    "                title,\n",
    "                xlabel,\n",
    "                ylabel,\n",
    "                ax,\n",
    "                bins=(50,50),\n",
    "                cmap=plt.cm.BuPu):\n",
    "    ax.hist2d(x, y, bins=bins, cmap=cmap)\n",
    "    ax.set_title(title)\n",
    "    ax.set_xlabel(xlabel)\n",
    "    ax.set_ylabel(ylabel)\n",
    "    \n",
    "def price_ditributions(catalog,\n",
    "                       price='creds'):\n",
    "    if not price in ['creds', 'gold']:\n",
    "        raise ValueError('Can display only creds and gold distibutions!')\n",
    "    fig, axs = plt.subplots(nrows=5, ncols=2, figsize=(16,30))\n",
    "    for i, ax in enumerate(axs.flat):\n",
    "        ax.set_title(f'Level {i + 1}')\n",
    "        sns.distplot(catalog[catalog['item_level']==i+1]['item_price_credit' if price=='creds' else 'item_price_gold'].values,\n",
    "                     kde=i!=0 and i!=9, bins=15, ax=ax)\n",
    "    plt.show()\n",
    "    \n",
    "def get_regression_line(x,\n",
    "                        y,\n",
    "                        degree):\n",
    "    params = np.polyfit(x, y, degree)\n",
    "    poly = np.poly1d(params)\n",
    "    x_grid = np.linspace(min(x), max(x), 100)\n",
    "    y_grid = poly(x_grid)\n",
    "    return x_grid, y_grid\n",
    "\n",
    "def build_model():\n",
    "    model = keras.Sequential([\n",
    "        layers.Dense(128, activation='relu', input_shape=[len(features)]),\n",
    "        layers.Dense(64, activation='relu'),\n",
    "        layers.Dense(32, activation='relu'),\n",
    "        layers.Dropout(0.1),\n",
    "        layers.Dense(1)\n",
    "    ])\n",
    "\n",
    "    optimizer = tf.keras.optimizers.RMSprop(0.001)\n",
    "    loss = tf.keras.losses.MSE\n",
    "\n",
    "    model.compile(loss=loss,\n",
    "                  optimizer=optimizer)\n",
    "    return model\n",
    "\n",
    "def plot_history(models):\n",
    "    k = len(models)\n",
    "    \n",
    "    fig, axs = plt.subplots(nrows=(k+1)//2, ncols=2, figsize=(16,30))\n",
    "    \n",
    "    for i, ax in enumerate(axs.flat):\n",
    "        if i >= k:\n",
    "            break\n",
    "        \n",
    "        history = models[i][1]\n",
    "        hist = pd.DataFrame(history.history)\n",
    "        hist['epoch'] = history.epoch\n",
    "    \n",
    "        ax.set_title(f'Model {i+1}')\n",
    "        ax.set_xlabel('Epoch')\n",
    "        ax.set_ylabel('Loss')\n",
    "        \n",
    "        ax.plot(hist['epoch'], hist['loss'], label='Train loss')\n",
    "        ax.plot(hist['epoch'], hist['val_loss'], label='Val loss')\n",
    "        \n",
    "        ax.set_ylim([0,1])\n",
    "        ax.legend()\n",
    "\n",
    "    plt.show()\n",
    "    \n",
    "def get_mean_mse(models):\n",
    "    total_loss = 0\n",
    "    for model in models:\n",
    "        total_loss += model[2]\n",
    "    return total_loss / len(models)\n",
    "\n",
    "def get_best_model(models):\n",
    "    min_loss, ind = float('inf'), -1\n",
    "    for i, model in enumerate(models):\n",
    "        if model[2] < min_loss:\n",
    "            min_loss = model[2]\n",
    "            ind = i\n",
    "    return models[ind][0]"
   ]
  },
  {
   "cell_type": "code",
   "execution_count": 5,
   "metadata": {},
   "outputs": [],
   "source": [
    "def compare_results(targets, y_limits, model_name):\n",
    "    \n",
    "    target = targets[0]\n",
    "    predicted = targets[1]\n",
    "    # Compare target and predicted values\n",
    "    plt.figure(figsize=(10, 6));\n",
    "    sns.regplot(x=target, y=predicted, marker=\"*\", scatter_kws={\"s\": 80}, ci=68);\n",
    "    plt.xlabel('Target price');\n",
    "    plt.ylabel('Predicted price');\n",
    "    plt.title('Predicted vs. target - ' + model_name)\n",
    "    \n",
    "    # Visualize prediction difference\n",
    "    prediction_diff = target - predicted\n",
    "    plt.figure(figsize=(10, 6));\n",
    "    sns.scatterplot(np.arange(prediction_diff.shape[0]), prediction_diff, \n",
    "                    marker=\"*\", s=150);\n",
    "    plt.axhline(y=0, color='r', linestyle='-');\n",
    "    plt.axhline(y=prediction_diff.mean(), color='m', linestyle='--');\n",
    "    plt.ylim(y_limits[0], y_limits[1]);\n",
    "    plt.xlabel('Target price');\n",
    "    plt.ylabel('Target - Prediction');\n",
    "    plt.title('diff(target, prediction) - ' + model_name)\n",
    "    \n",
    "    \n",
    "def visualize_data(pca_data, targets, model_name, dr_type):\n",
    "    \n",
    "    # Visualize first PCs\n",
    "    fig, axes = plt.subplots(1, 2, figsize=(18, 6));\n",
    "    \n",
    "    for idx, axis in enumerate(axes):\n",
    "        sns.scatterplot(pca_data[:, 0], pca_data[:, 1],\n",
    "                        marker=\"o\", hue=targets[idx], s=100, ax=axis);\n",
    "        axis.set_xlabel(dr_type + ' 1');\n",
    "        axis.set_ylabel(dr_type + ' 2');\n",
    "        axis.legend(loc='upper left', bbox_to_anchor=(1, 1), frameon=False);\n",
    "        if idx == 0:\n",
    "            axis.set_title(dr_type + ' scores - target prices')\n",
    "        else:\n",
    "            axis.set_title(dr_type + ' scores - predicted prices, ' + model_name)\n",
    "    \n",
    "    \n",
    "def perform_pca(data):\n",
    "    # Scale data and perform PCA\n",
    "    scaler = StandardScaler()\n",
    "    data_scaled = scaler.fit_transform(data)\n",
    "    \n",
    "    pca_model = PCA(n_components=0.95)\n",
    "    data_pca = pca_model.fit_transform(data_scaled)\n",
    "    return data_pca"
   ]
  },
  {
   "cell_type": "markdown",
   "metadata": {
    "colab": {},
    "colab_type": "code",
    "heading_collapsed": true,
    "id": "eA__2XSuCY49"
   },
   "source": [
    "# Cleaning catalog"
   ]
  },
  {
   "cell_type": "code",
   "execution_count": 6,
   "metadata": {
    "ExecuteTime": {
     "end_time": "2020-04-20T17:47:11.039731Z",
     "start_time": "2020-04-20T17:47:10.970914Z"
    },
    "hidden": true
   },
   "outputs": [
    {
     "name": "stdout",
     "output_type": "stream",
     "text": [
      "[CLEANING BY CREW_SIZE: 2 <= CREW_SIZE <= 6]: removed 7 rows.\n",
      "[CLEANING BY 1 LEVEL: ITEM_PRICE_CREDIT = ITEM_PRICE_GOLD = 0]: removed 9 rows.\n",
      "[CLEANING BY PRICE: ITEM_PRICE_CREDIT > 100 OR ITEM_PRICE_GOLD > 100]: removed 98 rows.\n",
      "[CUSTOM CLEANING BY PRICE 2 LEVEL: 2000 < ITEM_PRICE_CREDIT < 20000]: removed 20 rows.\n",
      "[CUSTOM CLEANING BY PRICE 5 LEVEL: ITEM_PRICE_CREDIT < 500000]: removed 1 rows.\n",
      "\n",
      "Totally removed 135 rows.\n"
     ]
    }
   ],
   "source": [
    "removed_tanks = pd.DataFrame()\n",
    "\n",
    "masks = [\n",
    "    ('cleaning by crew_size: 2 <= crew_size <= 6', \\\n",
    "    (catalog['crew_size'] >= 2) & (catalog['crew_size'] <= 6)),\n",
    "    \n",
    "    ('cleaning by 1 level: item_price_credit = item_price_gold = 0', \\\n",
    "    (catalog['item_level'] != 1) | \\\n",
    "    ((catalog['item_price_credit'] == 0) & (catalog['item_price_gold'] == 0))),\n",
    "    \n",
    "    ('cleaning by price: item_price_credit > 100 or item_price_gold > 100', \\\n",
    "    (catalog['item_level'] == 1) | \\\n",
    "    (((catalog['item_price_credit'] > 100) & (catalog['item_price_gold'] == 0)) | \\\n",
    "    ((catalog['item_price_credit'] == 0) & (catalog['item_price_gold'] > 100)))),\n",
    "    \n",
    "    ('custom cleaning by price 2 level: 2000 < item_price_credit < 20000', \\\n",
    "    (catalog['item_level'] != 2) | (catalog['item_price_gold'] != 0) | \\\n",
    "    (catalog['item_price_credit'] > 2000) & (catalog['item_price_credit'] < 20000)),\n",
    "    \n",
    "    ('custom cleaning by price 5 level: item_price_credit < 500000', \\\n",
    "    (catalog['item_level'] != 5) | \\\n",
    "    (catalog['item_price_gold'] != 0) | (catalog['item_price_credit'] < 500000))\n",
    "]\n",
    "\n",
    "for mask in masks:\n",
    "    N = len(catalog)\n",
    "    \n",
    "    removed_tanks = pd.concat([removed_tanks, catalog.loc[~mask[1]]])\n",
    "    catalog = catalog.loc[mask[1]]\n",
    "\n",
    "    print(f'[{mask[0].upper()}]: removed {N - len(catalog)} rows.')\n",
    "    \n",
    "catalog.index = np.arange(len(catalog))\n",
    "removed_tanks.index = np.arange(len(removed_tanks))\n",
    "\n",
    "print(f'\\nTotally removed {len(removed_tanks)} rows.')"
   ]
  },
  {
   "cell_type": "code",
   "execution_count": 7,
   "metadata": {
    "ExecuteTime": {
     "end_time": "2020-04-20T17:47:11.121512Z",
     "start_time": "2020-04-20T17:47:11.092589Z"
    },
    "hidden": true
   },
   "outputs": [
    {
     "data": {
      "text/html": [
       "<div>\n",
       "<style scoped>\n",
       "    .dataframe tbody tr th:only-of-type {\n",
       "        vertical-align: middle;\n",
       "    }\n",
       "\n",
       "    .dataframe tbody tr th {\n",
       "        vertical-align: top;\n",
       "    }\n",
       "\n",
       "    .dataframe thead th {\n",
       "        text-align: right;\n",
       "    }\n",
       "</style>\n",
       "<table border=\"1\" class=\"dataframe\">\n",
       "  <thead>\n",
       "    <tr style=\"text-align: right;\">\n",
       "      <th></th>\n",
       "      <th>item_cd</th>\n",
       "      <th>item_class</th>\n",
       "      <th>item_price_credit</th>\n",
       "      <th>item_price_gold</th>\n",
       "      <th>item_level</th>\n",
       "      <th>crew_size</th>\n",
       "    </tr>\n",
       "  </thead>\n",
       "  <tbody>\n",
       "    <tr>\n",
       "      <th>0</th>\n",
       "      <td>1</td>\n",
       "      <td>4</td>\n",
       "      <td>356700</td>\n",
       "      <td>0</td>\n",
       "      <td>5</td>\n",
       "      <td>4</td>\n",
       "    </tr>\n",
       "    <tr>\n",
       "      <th>1</th>\n",
       "      <td>17</td>\n",
       "      <td>4</td>\n",
       "      <td>373000</td>\n",
       "      <td>0</td>\n",
       "      <td>5</td>\n",
       "      <td>5</td>\n",
       "    </tr>\n",
       "    <tr>\n",
       "      <th>2</th>\n",
       "      <td>33</td>\n",
       "      <td>2</td>\n",
       "      <td>0</td>\n",
       "      <td>1500</td>\n",
       "      <td>5</td>\n",
       "      <td>5</td>\n",
       "    </tr>\n",
       "    <tr>\n",
       "      <th>3</th>\n",
       "      <td>49</td>\n",
       "      <td>4</td>\n",
       "      <td>0</td>\n",
       "      <td>7500</td>\n",
       "      <td>8</td>\n",
       "      <td>4</td>\n",
       "    </tr>\n",
       "    <tr>\n",
       "      <th>4</th>\n",
       "      <td>81</td>\n",
       "      <td>4</td>\n",
       "      <td>0</td>\n",
       "      <td>0</td>\n",
       "      <td>1</td>\n",
       "      <td>5</td>\n",
       "    </tr>\n",
       "    <tr>\n",
       "      <th>...</th>\n",
       "      <td>...</td>\n",
       "      <td>...</td>\n",
       "      <td>...</td>\n",
       "      <td>...</td>\n",
       "      <td>...</td>\n",
       "      <td>...</td>\n",
       "    </tr>\n",
       "    <tr>\n",
       "      <th>748</th>\n",
       "      <td>64817</td>\n",
       "      <td>3</td>\n",
       "      <td>0</td>\n",
       "      <td>3500</td>\n",
       "      <td>6</td>\n",
       "      <td>5</td>\n",
       "    </tr>\n",
       "    <tr>\n",
       "      <th>749</th>\n",
       "      <td>65041</td>\n",
       "      <td>1</td>\n",
       "      <td>0</td>\n",
       "      <td>0</td>\n",
       "      <td>1</td>\n",
       "      <td>6</td>\n",
       "    </tr>\n",
       "    <tr>\n",
       "      <th>750</th>\n",
       "      <td>65073</td>\n",
       "      <td>2</td>\n",
       "      <td>0</td>\n",
       "      <td>12250</td>\n",
       "      <td>8</td>\n",
       "      <td>4</td>\n",
       "    </tr>\n",
       "    <tr>\n",
       "      <th>751</th>\n",
       "      <td>65297</td>\n",
       "      <td>2</td>\n",
       "      <td>0</td>\n",
       "      <td>12500</td>\n",
       "      <td>8</td>\n",
       "      <td>5</td>\n",
       "    </tr>\n",
       "    <tr>\n",
       "      <th>752</th>\n",
       "      <td>65345</td>\n",
       "      <td>2</td>\n",
       "      <td>0</td>\n",
       "      <td>11700</td>\n",
       "      <td>8</td>\n",
       "      <td>5</td>\n",
       "    </tr>\n",
       "  </tbody>\n",
       "</table>\n",
       "<p>753 rows × 6 columns</p>\n",
       "</div>"
      ],
      "text/plain": [
       "     item_cd  item_class  item_price_credit  item_price_gold  item_level  \\\n",
       "0          1           4             356700                0           5   \n",
       "1         17           4             373000                0           5   \n",
       "2         33           2                  0             1500           5   \n",
       "3         49           4                  0             7500           8   \n",
       "4         81           4                  0                0           1   \n",
       "..       ...         ...                ...              ...         ...   \n",
       "748    64817           3                  0             3500           6   \n",
       "749    65041           1                  0                0           1   \n",
       "750    65073           2                  0            12250           8   \n",
       "751    65297           2                  0            12500           8   \n",
       "752    65345           2                  0            11700           8   \n",
       "\n",
       "     crew_size  \n",
       "0            4  \n",
       "1            5  \n",
       "2            5  \n",
       "3            4  \n",
       "4            5  \n",
       "..         ...  \n",
       "748          5  \n",
       "749          6  \n",
       "750          4  \n",
       "751          5  \n",
       "752          5  \n",
       "\n",
       "[753 rows x 6 columns]"
      ]
     },
     "execution_count": 7,
     "metadata": {},
     "output_type": "execute_result"
    }
   ],
   "source": [
    "classEncoder = LabelEncoder()\n",
    "\n",
    "catalog['item_class'] = classEncoder.fit_transform(catalog['item_class'])\n",
    "catalog"
   ]
  },
  {
   "cell_type": "code",
   "execution_count": 8,
   "metadata": {
    "ExecuteTime": {
     "end_time": "2020-04-20T17:47:20.443816Z",
     "start_time": "2020-04-20T17:47:20.426862Z"
    },
    "hidden": true
   },
   "outputs": [
    {
     "name": "stdout",
     "output_type": "stream",
     "text": [
      "Duplicates:  0\n",
      "Missing values:  item_cd              0\n",
      "item_class           0\n",
      "item_price_credit    0\n",
      "item_price_gold      0\n",
      "item_level           0\n",
      "crew_size            0\n",
      "dtype: int64\n",
      "Catalog shape:  (753, 6)\n"
     ]
    }
   ],
   "source": [
    "print('Duplicates: ', catalog.duplicated().sum())\n",
    "print('Missing values: ', catalog.isnull().sum())\n",
    "print('Catalog shape: ', catalog.shape)"
   ]
  },
  {
   "cell_type": "code",
   "execution_count": 9,
   "metadata": {
    "ExecuteTime": {
     "end_time": "2020-04-20T17:47:20.953487Z",
     "start_time": "2020-04-20T17:47:20.464761Z"
    },
    "hidden": true
   },
   "outputs": [
    {
     "name": "stdout",
     "output_type": "stream",
     "text": [
      "{6225, 13889, 9297, 65281}\n"
     ]
    }
   ],
   "source": [
    "s1 = set(removed_tanks['item_cd'])\n",
    "s2 = set(data['vehicle_type_cd'])\n",
    "\n",
    "removed_ids = s1.intersection(s2)\n",
    "print(removed_ids)"
   ]
  },
  {
   "cell_type": "markdown",
   "metadata": {
    "heading_collapsed": true
   },
   "source": [
    "# Visualizing catalog"
   ]
  },
  {
   "cell_type": "code",
   "execution_count": null,
   "metadata": {
    "ExecuteTime": {
     "end_time": "2020-04-20T17:47:11.962773Z",
     "start_time": "2020-04-20T17:47:11.124504Z"
    },
    "colab": {},
    "colab_type": "code",
    "hidden": true,
    "id": "fW1NXPydCVoC"
   },
   "outputs": [],
   "source": [
    "creds_catalog = catalog[catalog['item_price_gold'] == 0]\n",
    "gold_catalog = catalog[catalog['item_price_credit'] == 0]\n",
    "\n",
    "fig, axs = plt.subplots(nrows=1, ncols=2, figsize=(16,5))\n",
    "\n",
    "degree = 3\n",
    "prices = creds_catalog[['item_level', 'item_price_credit']].values\n",
    "\n",
    "plot_hist2d(x=creds_catalog['item_level'],\n",
    "            y=creds_catalog['item_price_credit'],\n",
    "            title='Price credits distribution by level',\n",
    "            xlabel='Level',\n",
    "            ylabel='Price credits',\n",
    "            ax=axs[0])\n",
    "axs[0].plot(*get_regression_line(prices[:,0], prices[:,1], degree), '-r')\n",
    "\n",
    "degree = 3\n",
    "prices = gold_catalog[['item_level', 'item_price_gold']].values\n",
    "\n",
    "plot_hist2d(x=gold_catalog['item_level'],\n",
    "            y=gold_catalog['item_price_gold'],\n",
    "            title='Price gold distribution by level',\n",
    "            xlabel='Level',\n",
    "            ylabel='Price gold',\n",
    "            ax=axs[1])\n",
    "axs[1].plot(*get_regression_line(prices[:,0], prices[:,1], degree), '-r')\n",
    "\n",
    "plt.show()"
   ]
  },
  {
   "cell_type": "code",
   "execution_count": null,
   "metadata": {
    "ExecuteTime": {
     "end_time": "2020-04-20T17:47:21.104085Z",
     "start_time": "2020-04-20T17:47:21.095102Z"
    },
    "hidden": true
   },
   "outputs": [],
   "source": [
    "for feature in ['item_cd']:\n",
    "    catalog[feature] = pd.Categorical(catalog[feature])"
   ]
  },
  {
   "cell_type": "code",
   "execution_count": null,
   "metadata": {
    "ExecuteTime": {
     "end_time": "2020-04-20T17:47:21.476595Z",
     "start_time": "2020-04-20T17:47:21.107071Z"
    },
    "hidden": true
   },
   "outputs": [],
   "source": [
    "sns.countplot(classEncoder.inverse_transform(catalog['item_class']));"
   ]
  },
  {
   "cell_type": "code",
   "execution_count": null,
   "metadata": {
    "ExecuteTime": {
     "end_time": "2020-04-20T17:47:22.097982Z",
     "start_time": "2020-04-20T17:47:21.481583Z"
    },
    "hidden": true
   },
   "outputs": [],
   "source": [
    "sns.countplot(catalog['item_level']);"
   ]
  },
  {
   "cell_type": "code",
   "execution_count": null,
   "metadata": {
    "ExecuteTime": {
     "end_time": "2020-04-20T17:47:22.451037Z",
     "start_time": "2020-04-20T17:47:22.104964Z"
    },
    "hidden": true
   },
   "outputs": [],
   "source": [
    "sns.countplot(catalog['crew_size']);"
   ]
  },
  {
   "cell_type": "markdown",
   "metadata": {
    "heading_collapsed": true
   },
   "source": [
    "# Cleaning data"
   ]
  },
  {
   "cell_type": "markdown",
   "metadata": {},
   "source": [
    "## Removing entries from \"data\" that corresponds to deleted tanks in \"catalog\""
   ]
  },
  {
   "cell_type": "code",
   "execution_count": 10,
   "metadata": {
    "ExecuteTime": {
     "end_time": "2020-04-20T17:47:23.769053Z",
     "start_time": "2020-04-20T17:47:22.508883Z"
    },
    "hidden": true
   },
   "outputs": [
    {
     "name": "stdout",
     "output_type": "stream",
     "text": [
      "Removed number of rows:  447\n"
     ]
    }
   ],
   "source": [
    "mask = ~data['vehicle_type_cd'].isin(removed_ids)\n",
    "\n",
    "removed_data = data.loc[~mask]\n",
    "data = data.loc[mask]\n",
    "\n",
    "data.reset_index(inplace=True, drop=True)\n",
    "removed_data.reset_index(inplace=True, drop=True)\n",
    "\n",
    "print('Removed number of rows: ', removed_data.shape[0])"
   ]
  },
  {
   "cell_type": "markdown",
   "metadata": {},
   "source": [
    "## Adding Categorical and DateTime features"
   ]
  },
  {
   "cell_type": "code",
   "execution_count": 11,
   "metadata": {
    "ExecuteTime": {
     "end_time": "2020-04-20T17:47:45.155351Z",
     "start_time": "2020-04-20T17:47:37.654675Z"
    },
    "hidden": true
   },
   "outputs": [],
   "source": [
    "# 'arena_id', 'account_db_id'\n",
    "for feature in ['team_id', 'clan_db_id', \n",
    "               'prebattle_id', 'is_prebattle_creator', 'vehicle_type_cd']:\n",
    "    data.loc[:, feature] = pd.Categorical(data[feature])\n",
    "    \n",
    "data.loc[:, 'dt'] = pd.to_datetime(data['dt'])"
   ]
  },
  {
   "cell_type": "markdown",
   "metadata": {},
   "source": [
    "## Checking duplicates and missing values"
   ]
  },
  {
   "cell_type": "code",
   "execution_count": 12,
   "metadata": {
    "ExecuteTime": {
     "end_time": "2020-04-20T17:47:31.268593Z",
     "start_time": "2020-04-20T17:47:23.774041Z"
    },
    "hidden": true
   },
   "outputs": [
    {
     "name": "stdout",
     "output_type": "stream",
     "text": [
      "Duplicates in \"data\":  0\n",
      "Missing values in \"data\":\n",
      " dt                          0\n",
      "arena_id                    0\n",
      "account_db_id               0\n",
      "team_id                     0\n",
      "clan_db_id                  0\n",
      "prebattle_id                0\n",
      "is_prebattle_creator        0\n",
      "vehicle_type_cd             0\n",
      "life_time_sec               0\n",
      "shots                       0\n",
      "hits                        0\n",
      "he_hits                     0\n",
      "pierced                     0\n",
      "damage_dealt                0\n",
      "damage_assisted_radio       0\n",
      "damage_assisted_stun        0\n",
      "damage_assisted_track       0\n",
      "damage_received             0\n",
      "shots_received              0\n",
      "no_damage_shots_received    0\n",
      "pierced_received            0\n",
      "spotted                     0\n",
      "damaged                     0\n",
      "kills_made                  0\n",
      "mileage_meter               0\n",
      "remained_hp                 0\n",
      "original_credits            0\n",
      "original_xp                 0\n",
      "premium_xp_factor           0\n",
      "daily_xp_factor             0\n",
      "battle_num                  0\n",
      "damage_blocked_by_armor     0\n",
      "booster_bonus_credits       0\n",
      "booster_bonus_xp            0\n",
      "dtype: int64\n"
     ]
    }
   ],
   "source": [
    "print('Duplicates in \"data\": ', data.duplicated().sum());\n",
    "print('Missing values in \"data\":\\n', data.isnull().sum());"
   ]
  },
  {
   "cell_type": "markdown",
   "metadata": {},
   "source": [
    "## Checking outliers"
   ]
  },
  {
   "cell_type": "code",
   "execution_count": null,
   "metadata": {},
   "outputs": [],
   "source": [
    "def calculate_z_score(data):\n",
    "    return stats.zscore(data)"
   ]
  },
  {
   "cell_type": "markdown",
   "metadata": {},
   "source": [
    "Something does not work here, check later"
   ]
  },
  {
   "cell_type": "code",
   "execution_count": null,
   "metadata": {},
   "outputs": [],
   "source": [
    "# features = data.columns.values\n",
    "# z_scores = np.zeros((data.shape[0], len(features)))\n",
    "# z_score_threshold = 3\n",
    "\n",
    "# feature_outliers = dict.fromkeys(features)\n",
    "\n",
    "# # z-scores for old features\n",
    "# for index, feature in enumerate(features):\n",
    "#     feature_outliers = calculate_z_score(data[feature])\n",
    "    \n",
    "#     z_scores[:, index] = feature_outliers\n",
    "#     feature_outliers[feature] = data[feature_outliers > z_score_threshold]\n",
    "    \n",
    "#     print(feature, feature_outliers[feature].shape[0])\n",
    "    \n",
    "#     # Plotting feature distribution\n",
    "#     fig, ax = plt.subplots()\n",
    "#     sns.distplot(data[feature], kde=False);\n",
    "#     plt.axvline(feature_outliers[feature][feature].min(), ymin=0, ymax=ax.get_ylim()[1])"
   ]
  },
  {
   "cell_type": "markdown",
   "metadata": {
    "heading_collapsed": true
   },
   "source": [
    "# Visualizing data"
   ]
  },
  {
   "cell_type": "markdown",
   "metadata": {
    "hidden": true
   },
   "source": [
    "## dt\n",
    "\n",
    "All battles took place in October 2018 (between October 1 and October 31)"
   ]
  },
  {
   "cell_type": "code",
   "execution_count": null,
   "metadata": {
    "ExecuteTime": {
     "end_time": "2020-04-20T17:47:45.247112Z",
     "start_time": "2020-04-20T17:47:45.159342Z"
    },
    "hidden": true
   },
   "outputs": [],
   "source": [
    "data['dt'].describe()"
   ]
  },
  {
   "cell_type": "markdown",
   "metadata": {
    "hidden": true
   },
   "source": [
    "## arena_id\n",
    "\n",
    "47.363 unique battles were held.\n",
    "\n",
    "45.479 battles should be 15 vs. 15 players!\n",
    "\n",
    "There were 30 players in most battles (30 -> 20 -> 14). \n",
    "However, in some battles, a number of players was either odd (19, 13) or \n",
    "strangely small (2, 4). Are those battles connected to special events?"
   ]
  },
  {
   "cell_type": "code",
   "execution_count": null,
   "metadata": {
    "ExecuteTime": {
     "end_time": "2020-04-20T17:47:45.622104Z",
     "start_time": "2020-04-20T17:47:45.255085Z"
    },
    "hidden": true
   },
   "outputs": [],
   "source": [
    "battles = data['arena_id'].value_counts()\n",
    "battles"
   ]
  },
  {
   "cell_type": "code",
   "execution_count": null,
   "metadata": {
    "ExecuteTime": {
     "end_time": "2020-04-20T17:47:45.648035Z",
     "start_time": "2020-04-20T17:47:45.626097Z"
    },
    "hidden": true
   },
   "outputs": [],
   "source": [
    "battles.to_frame()['arena_id'].value_counts()"
   ]
  },
  {
   "cell_type": "markdown",
   "metadata": {
    "hidden": true
   },
   "source": [
    "## account_db_id\n",
    "\n",
    "367.685 unique players took part in battles."
   ]
  },
  {
   "cell_type": "code",
   "execution_count": null,
   "metadata": {
    "ExecuteTime": {
     "end_time": "2020-04-20T17:47:48.619091Z",
     "start_time": "2020-04-20T17:47:45.652023Z"
    },
    "hidden": true
   },
   "outputs": [],
   "source": [
    "data['account_db_id'].value_counts()"
   ]
  },
  {
   "cell_type": "markdown",
   "metadata": {
    "hidden": true
   },
   "source": [
    "## life_time_sec"
   ]
  },
  {
   "cell_type": "code",
   "execution_count": null,
   "metadata": {
    "ExecuteTime": {
     "end_time": "2020-04-20T17:48:15.652312Z",
     "start_time": "2020-04-20T17:47:56.056926Z"
    },
    "hidden": true
   },
   "outputs": [],
   "source": [
    "sns.distplot(data['life_time_sec']);"
   ]
  },
  {
   "cell_type": "markdown",
   "metadata": {},
   "source": [
    "## remained_hp"
   ]
  },
  {
   "cell_type": "code",
   "execution_count": null,
   "metadata": {},
   "outputs": [],
   "source": [
    "data_negative_hp = data[data['remained_hp'] < 0]\n",
    "data_negative_hp.shape[0]"
   ]
  },
  {
   "cell_type": "markdown",
   "metadata": {},
   "source": [
    "## damage_dealt (total, assisted, etc.)\n",
    "\n",
    "There are 1549 rows in a dataset that correspond to so-called \"away-from-keyboard\" players"
   ]
  },
  {
   "cell_type": "code",
   "execution_count": null,
   "metadata": {},
   "outputs": [],
   "source": [
    "data['total_damage_dealt'] = data['damage_dealt'] + data['damage_assisted_radio'] + \\\n",
    "    data['damage_assisted_stun'] + data['damage_assisted_track']"
   ]
  },
  {
   "cell_type": "code",
   "execution_count": null,
   "metadata": {},
   "outputs": [],
   "source": [
    "data[(data['mileage_meter'] == 0) & (data['total_damage_dealt'] == 0)]"
   ]
  },
  {
   "cell_type": "markdown",
   "metadata": {},
   "source": [
    "## original_credits, original_xp, booster_bonus_xp, booster_bonus_credits\n",
    "\n",
    "There is one player with original_credits < 0."
   ]
  },
  {
   "cell_type": "code",
   "execution_count": null,
   "metadata": {},
   "outputs": [],
   "source": [
    "data[data['original_credits'] < 0]"
   ]
  },
  {
   "cell_type": "markdown",
   "metadata": {
    "heading_collapsed": true
   },
   "source": [
    "# Create new features (normalized to time/etc) "
   ]
  },
  {
   "cell_type": "code",
   "execution_count": 13,
   "metadata": {
    "ExecuteTime": {
     "end_time": "2020-04-20T17:48:15.668270Z",
     "start_time": "2020-04-20T17:48:15.657298Z"
    },
    "hidden": true
   },
   "outputs": [],
   "source": [
    "def normalize_feature(target_feature, norm_feature):\n",
    "    if norm_feature != 0:\n",
    "        return target_feature / norm_feature\n",
    "    else:\n",
    "        return 0\n",
    "    \n",
    "normalize_feature = np.vectorize(normalize_feature)"
   ]
  },
  {
   "cell_type": "markdown",
   "metadata": {},
   "source": [
    "## Calculate additive features"
   ]
  },
  {
   "cell_type": "code",
   "execution_count": 14,
   "metadata": {},
   "outputs": [],
   "source": [
    "data['total_damage_dealt'] = data['damage_dealt'] + data['damage_assisted_radio'] + \\\n",
    "    data['damage_assisted_stun'] + data['damage_assisted_track']"
   ]
  },
  {
   "cell_type": "markdown",
   "metadata": {},
   "source": [
    "data['damage_shots_received'] = data['shots_received'] - data['no_damage_shots_received']\n",
    "\n",
    "Turns out that data['damage_shots_received'] = data['pierced_received'], so this feature is not added."
   ]
  },
  {
   "cell_type": "markdown",
   "metadata": {},
   "source": [
    "## Normalize to time"
   ]
  },
  {
   "cell_type": "code",
   "execution_count": 15,
   "metadata": {},
   "outputs": [],
   "source": [
    "target_features = ['shots', 'hits', 'he_hits', 'pierced', 'damage_dealt', \n",
    "                   'damage_assisted_track', 'damage_assisted_radio', \n",
    "                   'damage_assisted_stun', 'total_damage_dealt',\n",
    "                   'damage_received', 'shots_received', \n",
    "                   'pierced_received', 'spotted', \n",
    "                   'damaged', 'kills_made', 'mileage_meter',\n",
    "                   'damage_blocked_by_armor']\n",
    "# target_features_normalized_sec = [feature + '_per_sec' for feature in target_features]\n",
    "target_features_normalized_min = [feature + '_per_min' for feature in target_features]"
   ]
  },
  {
   "cell_type": "code",
   "execution_count": 16,
   "metadata": {},
   "outputs": [],
   "source": [
    "data['life_time_min'] = data['life_time_sec'] / 60\n",
    "\n",
    "for feature in target_features:\n",
    "#     data[feature + '_per_sec'] = normalize_feature(data[feature], data['life_time_sec'])\n",
    "    data[feature + '_per_min'] = normalize_feature(data[feature], data['life_time_min'])"
   ]
  },
  {
   "cell_type": "markdown",
   "metadata": {},
   "source": [
    "## Normalize to hits, shots, etc."
   ]
  },
  {
   "cell_type": "code",
   "execution_count": 17,
   "metadata": {},
   "outputs": [],
   "source": [
    "features_normalized = ['hit_rate', 'he_hit_rate', 'pierced_rate',\n",
    "                      'damage_per_pierced', 'pierced_received_per_shot', \n",
    "                      'damage_per_enemy', 'damage_per_enemy_per_min', \n",
    "                      'damage_blocked_per_hit', 'damage_blocked_received_ratio']\n",
    "features_num = ['hits', 'he_hits', 'pierced', 'damage_received', \n",
    "               'pierced_received', 'total_damage_dealt', 'total_damage_dealt_per_min', \n",
    "               'damage_blocked_by_armor', 'damage_blocked_by_armor']\n",
    "features_denom = ['shots', 'hits', 'hits', 'pierced_received', 'shots_received', \n",
    "                 'damaged', 'damaged', 'pierced_received', 'damage_received']"
   ]
  },
  {
   "cell_type": "code",
   "execution_count": 18,
   "metadata": {},
   "outputs": [],
   "source": [
    "for new_feature, feature_num, feature_denom in zip(features_normalized,\n",
    "                                                  features_num, features_denom):\n",
    "    data[new_feature] = normalize_feature(data[feature_num], data[feature_denom])"
   ]
  },
  {
   "cell_type": "markdown",
   "metadata": {},
   "source": [
    "## Compare distributions before and after normalization"
   ]
  },
  {
   "cell_type": "markdown",
   "metadata": {},
   "source": [
    "### Normalized to life_time_min"
   ]
  },
  {
   "cell_type": "code",
   "execution_count": null,
   "metadata": {},
   "outputs": [],
   "source": [
    "for feature in target_features:\n",
    "    new_feature = feature + '_per_min'\n",
    "\n",
    "    fig, axes = plt.subplots(1, 2, figsize=(16, 6))\n",
    "    \n",
    "    axes[0].hist(data[feature], bins=40)\n",
    "    axes[1].hist(data[new_feature], bins=40)\n",
    "    \n",
    "    axes[0].set_title(feature)\n",
    "    axes[1].set_title(new_feature)"
   ]
  },
  {
   "cell_type": "code",
   "execution_count": null,
   "metadata": {},
   "outputs": [],
   "source": [
    "fig, axes = plt.subplots(nrows=3, ncols=3, figsize=(20, 18))\n",
    "axes = axes.ravel()\n",
    "\n",
    "for index, feature in enumerate(features_normalized):\n",
    "    axes[index].hist(data[feature], bins=20);\n",
    "    axes[index].set_title(feature)"
   ]
  },
  {
   "cell_type": "markdown",
   "metadata": {},
   "source": [
    "## Calculate features that are based on winrates"
   ]
  },
  {
   "cell_type": "markdown",
   "metadata": {},
   "source": [
    "### Add is_winner"
   ]
  },
  {
   "cell_type": "code",
   "execution_count": 19,
   "metadata": {},
   "outputs": [],
   "source": [
    "def calc_winner(row):\n",
    "    winner = 0\n",
    "    if row['num_tanks_pos_1'] != 0 and row['num_tanks_pos_2'] == 0:\n",
    "        winner = 1\n",
    "    elif row['num_tanks_pos_2'] != 0 and row['num_tanks_pos_1'] == 0:\n",
    "        winner = 2\n",
    "    else:\n",
    "        if row['mean_xp_1'] / row['mean_xp_2'] > 1.8:\n",
    "            winner = 1\n",
    "        elif row['mean_xp_2'] / row['mean_xp_1'] > 1.8:\n",
    "            winner = 2\n",
    "        else:\n",
    "            winner = 0     \n",
    "    return winner"
   ]
  },
  {
   "cell_type": "code",
   "execution_count": 20,
   "metadata": {},
   "outputs": [],
   "source": [
    "data['is_alive'] = data['remained_hp'] > 0\n",
    "\n",
    "# Getting data on full teams\n",
    "warriors = data[data.groupby('arena_id')['account_db_id'].transform('count') == 30]\n",
    "warriors.index = np.arange(len(warriors))\n",
    "    \n",
    "# Grouping teams by battles\n",
    "battles = warriors.groupby(['arena_id', 'team_id'])\n",
    "# Getting data on 15 vs. 15 battles\n",
    "info_df = pd.DataFrame(index = [ind[0] for ind in battles.count().index][::2])\n",
    "info_df['num_tanks_pos_1'] = battles['is_alive'].sum().iloc[::2].values\n",
    "info_df['num_tanks_pos_2'] = battles['is_alive'].sum().iloc[1::2].values\n",
    "info_df['mean_xp_1'] = battles['original_xp'].mean().iloc[::2].values\n",
    "info_df['mean_xp_2'] = battles['original_xp'].mean().iloc[1::2].values\n",
    "    \n",
    "# Finding winning teams\n",
    "info_df['winner_team_id'] = info_df.apply(calc_winner, axis=1)\n",
    "info_df.reset_index(inplace=True)\n",
    "\n",
    "# Merging winner_team_id with main dataset\n",
    "data = data.merge(info_df[['index', 'winner_team_id']], \n",
    "                  how='left', left_on='arena_id', right_on='index')\n",
    "data.drop(columns=['index'], inplace=True, axis=1)\n",
    "\n",
    "data['is_winner'] = data['team_id'] == data['winner_team_id']"
   ]
  },
  {
   "cell_type": "markdown",
   "metadata": {},
   "source": [
    "## Predict winrates based on original_xp"
   ]
  },
  {
   "cell_type": "markdown",
   "metadata": {},
   "source": [
    "### Specify win_rates for players with >= 10 battles"
   ]
  },
  {
   "cell_type": "code",
   "execution_count": 21,
   "metadata": {},
   "outputs": [
    {
     "data": {
      "text/html": [
       "<div>\n",
       "<style scoped>\n",
       "    .dataframe tbody tr th:only-of-type {\n",
       "        vertical-align: middle;\n",
       "    }\n",
       "\n",
       "    .dataframe tbody tr th {\n",
       "        vertical-align: top;\n",
       "    }\n",
       "\n",
       "    .dataframe thead th {\n",
       "        text-align: right;\n",
       "    }\n",
       "</style>\n",
       "<table border=\"1\" class=\"dataframe\">\n",
       "  <thead>\n",
       "    <tr style=\"text-align: right;\">\n",
       "      <th></th>\n",
       "      <th>account_db_id</th>\n",
       "      <th>original_xp</th>\n",
       "      <th>is_winner</th>\n",
       "    </tr>\n",
       "  </thead>\n",
       "  <tbody>\n",
       "    <tr>\n",
       "      <th>7</th>\n",
       "      <td>cyT1d14N1</td>\n",
       "      <td>2663</td>\n",
       "      <td>True</td>\n",
       "    </tr>\n",
       "    <tr>\n",
       "      <th>16</th>\n",
       "      <td>cdc4N7da7</td>\n",
       "      <td>386</td>\n",
       "      <td>False</td>\n",
       "    </tr>\n",
       "    <tr>\n",
       "      <th>21</th>\n",
       "      <td>cdyNTa2ac</td>\n",
       "      <td>2340</td>\n",
       "      <td>True</td>\n",
       "    </tr>\n",
       "    <tr>\n",
       "      <th>24</th>\n",
       "      <td>cydNTNdT4</td>\n",
       "      <td>1321</td>\n",
       "      <td>True</td>\n",
       "    </tr>\n",
       "    <tr>\n",
       "      <th>27</th>\n",
       "      <td>cdcy1dcaa</td>\n",
       "      <td>1398</td>\n",
       "      <td>True</td>\n",
       "    </tr>\n",
       "    <tr>\n",
       "      <th>...</th>\n",
       "      <td>...</td>\n",
       "      <td>...</td>\n",
       "      <td>...</td>\n",
       "    </tr>\n",
       "    <tr>\n",
       "      <th>1402948</th>\n",
       "      <td>c47NTTc22</td>\n",
       "      <td>1504</td>\n",
       "      <td>False</td>\n",
       "    </tr>\n",
       "    <tr>\n",
       "      <th>1402949</th>\n",
       "      <td>c47dyaNc7</td>\n",
       "      <td>1772</td>\n",
       "      <td>False</td>\n",
       "    </tr>\n",
       "    <tr>\n",
       "      <th>1402952</th>\n",
       "      <td>cd17T2Na7</td>\n",
       "      <td>1254</td>\n",
       "      <td>False</td>\n",
       "    </tr>\n",
       "    <tr>\n",
       "      <th>1402953</th>\n",
       "      <td>cac4aa12N</td>\n",
       "      <td>2532</td>\n",
       "      <td>False</td>\n",
       "    </tr>\n",
       "    <tr>\n",
       "      <th>1402956</th>\n",
       "      <td>cd4a7Tc72</td>\n",
       "      <td>740</td>\n",
       "      <td>False</td>\n",
       "    </tr>\n",
       "  </tbody>\n",
       "</table>\n",
       "<p>383417 rows × 3 columns</p>\n",
       "</div>"
      ],
      "text/plain": [
       "        account_db_id  original_xp  is_winner\n",
       "7           cyT1d14N1         2663       True\n",
       "16          cdc4N7da7          386      False\n",
       "21          cdyNTa2ac         2340       True\n",
       "24          cydNTNdT4         1321       True\n",
       "27          cdcy1dcaa         1398       True\n",
       "...               ...          ...        ...\n",
       "1402948     c47NTTc22         1504      False\n",
       "1402949     c47dyaNc7         1772      False\n",
       "1402952     cd17T2Na7         1254      False\n",
       "1402953     cac4aa12N         2532      False\n",
       "1402956     cd4a7Tc72          740      False\n",
       "\n",
       "[383417 rows x 3 columns]"
      ]
     },
     "execution_count": 21,
     "metadata": {},
     "output_type": "execute_result"
    }
   ],
   "source": [
    "players_for_train = data[data.groupby('account_db_id')\n",
    "                         ['account_db_id'].transform('count') >= 10][['account_db_id',\n",
    "                                                                      'original_xp', \n",
    "                                                                      'is_winner']]\n",
    "players_for_train"
   ]
  },
  {
   "cell_type": "code",
   "execution_count": 22,
   "metadata": {},
   "outputs": [],
   "source": [
    "players_for_train = players_for_train.groupby('account_db_id').agg({'original_xp' : ['mean', 'median'],\n",
    "                                                                    'is_winner' : lambda g: sum(g) / len(g)})\n",
    "players_for_train.columns = ['mean_original_xp', 'median_original_xp', 'player_winrate']\n",
    "players_for_train.dropna(axis=0, inplace=True);"
   ]
  },
  {
   "cell_type": "code",
   "execution_count": 23,
   "metadata": {},
   "outputs": [
    {
     "data": {
      "text/html": [
       "<div>\n",
       "<style scoped>\n",
       "    .dataframe tbody tr th:only-of-type {\n",
       "        vertical-align: middle;\n",
       "    }\n",
       "\n",
       "    .dataframe tbody tr th {\n",
       "        vertical-align: top;\n",
       "    }\n",
       "\n",
       "    .dataframe thead th {\n",
       "        text-align: right;\n",
       "    }\n",
       "</style>\n",
       "<table border=\"1\" class=\"dataframe\">\n",
       "  <thead>\n",
       "    <tr style=\"text-align: right;\">\n",
       "      <th></th>\n",
       "      <th>mean_original_xp</th>\n",
       "      <th>median_original_xp</th>\n",
       "      <th>player_winrate</th>\n",
       "    </tr>\n",
       "    <tr>\n",
       "      <th>account_db_id</th>\n",
       "      <th></th>\n",
       "      <th></th>\n",
       "      <th></th>\n",
       "    </tr>\n",
       "  </thead>\n",
       "  <tbody>\n",
       "    <tr>\n",
       "      <th>c21114Naa</th>\n",
       "      <td>697.769231</td>\n",
       "      <td>597.0</td>\n",
       "      <td>0.538462</td>\n",
       "    </tr>\n",
       "    <tr>\n",
       "      <th>c2111Ncyd</th>\n",
       "      <td>1642.581395</td>\n",
       "      <td>1385.0</td>\n",
       "      <td>0.488372</td>\n",
       "    </tr>\n",
       "    <tr>\n",
       "      <th>c2111TTa7</th>\n",
       "      <td>231.400000</td>\n",
       "      <td>208.5</td>\n",
       "      <td>0.200000</td>\n",
       "    </tr>\n",
       "    <tr>\n",
       "      <th>c2111d217</th>\n",
       "      <td>1713.437500</td>\n",
       "      <td>1411.0</td>\n",
       "      <td>0.625000</td>\n",
       "    </tr>\n",
       "    <tr>\n",
       "      <th>c211212c4</th>\n",
       "      <td>830.400000</td>\n",
       "      <td>525.0</td>\n",
       "      <td>0.533333</td>\n",
       "    </tr>\n",
       "    <tr>\n",
       "      <th>...</th>\n",
       "      <td>...</td>\n",
       "      <td>...</td>\n",
       "      <td>...</td>\n",
       "    </tr>\n",
       "    <tr>\n",
       "      <th>cyyyyTcy4</th>\n",
       "      <td>511.913043</td>\n",
       "      <td>383.0</td>\n",
       "      <td>0.347826</td>\n",
       "    </tr>\n",
       "    <tr>\n",
       "      <th>cyyyya77a</th>\n",
       "      <td>1316.125000</td>\n",
       "      <td>867.0</td>\n",
       "      <td>0.312500</td>\n",
       "    </tr>\n",
       "    <tr>\n",
       "      <th>cyyyyd71y</th>\n",
       "      <td>1557.416667</td>\n",
       "      <td>1149.5</td>\n",
       "      <td>0.500000</td>\n",
       "    </tr>\n",
       "    <tr>\n",
       "      <th>cyyyydyNa</th>\n",
       "      <td>1508.900000</td>\n",
       "      <td>1226.0</td>\n",
       "      <td>0.500000</td>\n",
       "    </tr>\n",
       "    <tr>\n",
       "      <th>cyyyyy2y2</th>\n",
       "      <td>1515.750000</td>\n",
       "      <td>975.5</td>\n",
       "      <td>0.650000</td>\n",
       "    </tr>\n",
       "  </tbody>\n",
       "</table>\n",
       "<p>27223 rows × 3 columns</p>\n",
       "</div>"
      ],
      "text/plain": [
       "               mean_original_xp  median_original_xp  player_winrate\n",
       "account_db_id                                                      \n",
       "c21114Naa            697.769231               597.0        0.538462\n",
       "c2111Ncyd           1642.581395              1385.0        0.488372\n",
       "c2111TTa7            231.400000               208.5        0.200000\n",
       "c2111d217           1713.437500              1411.0        0.625000\n",
       "c211212c4            830.400000               525.0        0.533333\n",
       "...                         ...                 ...             ...\n",
       "cyyyyTcy4            511.913043               383.0        0.347826\n",
       "cyyyya77a           1316.125000               867.0        0.312500\n",
       "cyyyyd71y           1557.416667              1149.5        0.500000\n",
       "cyyyydyNa           1508.900000              1226.0        0.500000\n",
       "cyyyyy2y2           1515.750000               975.5        0.650000\n",
       "\n",
       "[27223 rows x 3 columns]"
      ]
     },
     "execution_count": 23,
     "metadata": {},
     "output_type": "execute_result"
    }
   ],
   "source": [
    "players_for_train"
   ]
  },
  {
   "cell_type": "code",
   "execution_count": 24,
   "metadata": {},
   "outputs": [],
   "source": [
    "mean_scaler = StandardScaler()\n",
    "median_scaler = StandardScaler()\n",
    "\n",
    "Xn_mean = mean_scaler.fit_transform(players_for_train[['mean_original_xp']])\n",
    "Xn_median = median_scaler.fit_transform(players_for_train[['median_original_xp']])\n",
    "\n",
    "Yn = players_for_train[['player_winrate']].values"
   ]
  },
  {
   "cell_type": "markdown",
   "metadata": {},
   "source": [
    "Gradient Boosting model with mean"
   ]
  },
  {
   "cell_type": "code",
   "execution_count": 62,
   "metadata": {},
   "outputs": [],
   "source": [
    "from sklearn.externals.six import StringIO"
   ]
  },
  {
   "cell_type": "code",
   "execution_count": 69,
   "metadata": {},
   "outputs": [
    {
     "data": {
      "image/png": "[encoded data removed]",
      "text/plain": [
       "<Figure size 432x288 with 1 Axes>"
      ]
     },
     "metadata": {
      "needs_background": "light"
     },
     "output_type": "display_data"
    },
    {
     "name": "stdout",
     "output_type": "stream",
     "text": [
      "0.008190818839912704\n"
     ]
    },
    {
     "data": {
      "image/png": "[encoded data removed]",
      "text/plain": [
       "<Figure size 432x288 with 1 Axes>"
      ]
     },
     "metadata": {
      "needs_background": "light"
     },
     "output_type": "display_data"
    }
   ],
   "source": [
    "mean_model = GradientBoostingRegressor(n_estimators=200, max_depth=16)\n",
    "fitted_mean_model = mean_model.fit(Xn_mean, Yn.reshape(len(Yn),))\n",
    "\n",
    "preds_mean = mean_model.predict(Xn_mean)\n",
    "\n",
    "plt.scatter(Xn_mean, Yn, color='gray')\n",
    "plt.scatter(Xn_mean, preds_mean, color='red')\n",
    "plt.title('GB - mean');\n",
    "plt.show()\n",
    "\n",
    "sns.distplot(preds_mean, kde=False, bins=50);\n",
    "plt.title('GB - mean');\n",
    "\n",
    "print(mean_squared_error(Yn, preds_mean));"
   ]
  },
  {
   "cell_type": "markdown",
   "metadata": {},
   "source": [
    "Gradient Boosting with median"
   ]
  },
  {
   "cell_type": "code",
   "execution_count": 70,
   "metadata": {},
   "outputs": [
    {
     "data": {
      "image/png": "[encoded data removed]",
      "text/plain": [
       "<Figure size 432x288 with 1 Axes>"
      ]
     },
     "metadata": {
      "needs_background": "light"
     },
     "output_type": "display_data"
    },
    {
     "name": "stdout",
     "output_type": "stream",
     "text": [
      "0.012190139189833906\n"
     ]
    },
    {
     "data": {
      "image/png": "[encoded data removed]",
      "text/plain": [
       "<Figure size 432x288 with 1 Axes>"
      ]
     },
     "metadata": {
      "needs_background": "light"
     },
     "output_type": "display_data"
    }
   ],
   "source": [
    "median_model = GradientBoostingRegressor(n_estimators=200, max_depth=16)\n",
    "median_model.fit(Xn_median, Yn.reshape(len(Yn),))\n",
    "\n",
    "preds_median = median_model.predict(Xn_median)\n",
    "\n",
    "plt.scatter(Xn_median, Yn, color='gray')\n",
    "plt.scatter(Xn_median, preds_median, color='red')\n",
    "plt.show()\n",
    "\n",
    "sns.distplot(preds_median, kde=False, bins=50);\n",
    "plt.title('GB - median');\n",
    "\n",
    "print(mean_squared_error(Yn, preds_median));"
   ]
  },
  {
   "cell_type": "markdown",
   "metadata": {},
   "source": [
    "Gradient Boosting with GridSearch"
   ]
  },
  {
   "cell_type": "code",
   "execution_count": 72,
   "metadata": {},
   "outputs": [
    {
     "name": "stdout",
     "output_type": "stream",
     "text": [
      "Fitting 10 folds for each of 40 candidates, totalling 400 fits\n"
     ]
    },
    {
     "name": "stderr",
     "output_type": "stream",
     "text": [
      "[Parallel(n_jobs=1)]: Using backend SequentialBackend with 1 concurrent workers.\n",
      "[Parallel(n_jobs=1)]: Done 400 out of 400 | elapsed: 41.4min finished\n"
     ]
    },
    {
     "name": "stdout",
     "output_type": "stream",
     "text": [
      "mean_wr {'max_depth': 8, 'min_samples_split': 8, 'n_estimators': 100}\n",
      "mean_wr model finished\n",
      "Fitting 10 folds for each of 40 candidates, totalling 400 fits\n"
     ]
    },
    {
     "name": "stderr",
     "output_type": "stream",
     "text": [
      "[Parallel(n_jobs=1)]: Using backend SequentialBackend with 1 concurrent workers.\n",
      "[Parallel(n_jobs=1)]: Done 400 out of 400 | elapsed: 37.6min finished\n"
     ]
    },
    {
     "name": "stdout",
     "output_type": "stream",
     "text": [
      "median_wr {'max_depth': 8, 'min_samples_split': 6, 'n_estimators': 100}\n",
      "median_wr model finished\n"
     ]
    }
   ],
   "source": [
    "data_types = ['mean_wr', 'median_wr']\n",
    "X_train = [Xn_mean, Xn_median]\n",
    "Y_train = Yn\n",
    "Y_predicted = dict.fromkeys(data_types)\n",
    "models = dict.fromkeys(data_types)\n",
    "\n",
    "# Define a grid for GB parameters\n",
    "gb_model = GradientBoostingRegressor()\n",
    "gb_parameters = [\n",
    "    {\n",
    "        'n_estimators': [100, 200, 300, 400, 500], \n",
    "        'max_depth': [8, 16],\n",
    "        'min_samples_split': [2, 4, 6, 8]\n",
    "    }\n",
    "]\n",
    "\n",
    "for idx, data_type in enumerate(data_types):\n",
    "    gc_model = GridSearchCV(estimator=gb_model, \n",
    "                            param_grid=gb_parameters,\n",
    "                            cv=10,\n",
    "                            refit=True,\n",
    "                            scoring='neg_mean_squared_error',\n",
    "                            iid=False,\n",
    "                            verbose=True)\n",
    "    gc_model.fit(X_train[idx], Y_train.reshape(len(Y_train),))\n",
    "    \n",
    "    best_model = gc_model.best_estimator_\n",
    "    model_params[data_type] = best_model\n",
    "    print(data_type, gc_model.best_params_)\n",
    "    \n",
    "    # Use model with the best parameters to train on the whole dataset\n",
    "    best_model.fit(X_train[idx], Y_train.reshape(len(Y_train),))        \n",
    "    Y_pred = best_model.predict(X_train[idx])\n",
    "    Y_predicted[data_type] = Y_pred\n",
    "    \n",
    "    print(data_type + ' model finished')"
   ]
  },
  {
   "cell_type": "code",
   "execution_count": 79,
   "metadata": {},
   "outputs": [
    {
     "data": {
      "image/png": "[encoded data removed]",
      "text/plain": [
       "<Figure size 432x288 with 1 Axes>"
      ]
     },
     "metadata": {
      "needs_background": "light"
     },
     "output_type": "display_data"
    },
    {
     "data": {
      "image/png": "[encoded data removed]",
      "text/plain": [
       "<Figure size 432x288 with 1 Axes>"
      ]
     },
     "metadata": {
      "needs_background": "light"
     },
     "output_type": "display_data"
    }
   ],
   "source": [
    "mean_gb_model = model_params['mean_wr']\n",
    "mean_gb_model.fit(Xn_mean, Yn.reshape(len(Y_train),))\n",
    "mean_predictions = mean_gb_model.predict(Xn_mean)\n",
    "\n",
    "plt.scatter(Xn_mean, Yn, color='gray')\n",
    "plt.scatter(Xn_mean, mean_predictions, color='red')\n",
    "plt.show();\n",
    "\n",
    "sns.distplot(mean_predictions, kde=False, bins=100);\n",
    "plt.title('GB - mean');"
   ]
  },
  {
   "cell_type": "code",
   "execution_count": 80,
   "metadata": {},
   "outputs": [
    {
     "data": {
      "image/png": "[encoded data removed]",
      "text/plain": [
       "<Figure size 432x288 with 1 Axes>"
      ]
     },
     "metadata": {
      "needs_background": "light"
     },
     "output_type": "display_data"
    },
    {
     "data": {
      "image/png": "[encoded data removed]",
      "text/plain": [
       "<Figure size 432x288 with 1 Axes>"
      ]
     },
     "metadata": {
      "needs_background": "light"
     },
     "output_type": "display_data"
    }
   ],
   "source": [
    "median_gb_model = model_params['median_wr']\n",
    "median_gb_model.fit(Xn_median, Yn.reshape(len(Y_train),))\n",
    "median_predictions = median_gb_model.predict(Xn_median)\n",
    "\n",
    "plt.scatter(Xn_median, Yn, color='gray')\n",
    "plt.scatter(Xn_median, median_predictions, color='red')\n",
    "plt.show();\n",
    "\n",
    "sns.distplot(median_predictions, kde=False, bins=100);\n",
    "plt.title('GB - median');"
   ]
  },
  {
   "cell_type": "markdown",
   "metadata": {},
   "source": [
    "### Predict win_rates for players with < 10 battles"
   ]
  },
  {
   "cell_type": "code",
   "execution_count": 55,
   "metadata": {},
   "outputs": [
    {
     "data": {
      "text/html": [
       "<div>\n",
       "<style scoped>\n",
       "    .dataframe tbody tr th:only-of-type {\n",
       "        vertical-align: middle;\n",
       "    }\n",
       "\n",
       "    .dataframe tbody tr th {\n",
       "        vertical-align: top;\n",
       "    }\n",
       "\n",
       "    .dataframe thead th {\n",
       "        text-align: right;\n",
       "    }\n",
       "</style>\n",
       "<table border=\"1\" class=\"dataframe\">\n",
       "  <thead>\n",
       "    <tr style=\"text-align: right;\">\n",
       "      <th></th>\n",
       "      <th>mean_original_xp</th>\n",
       "      <th>median_original_xp</th>\n",
       "      <th>player_winrate</th>\n",
       "    </tr>\n",
       "    <tr>\n",
       "      <th>account_db_id</th>\n",
       "      <th></th>\n",
       "      <th></th>\n",
       "      <th></th>\n",
       "    </tr>\n",
       "  </thead>\n",
       "  <tbody>\n",
       "    <tr>\n",
       "      <th>c2111224a</th>\n",
       "      <td>828.000000</td>\n",
       "      <td>828.0</td>\n",
       "      <td>0.00</td>\n",
       "    </tr>\n",
       "    <tr>\n",
       "      <th>c211122N4</th>\n",
       "      <td>797.000000</td>\n",
       "      <td>797.0</td>\n",
       "      <td>0.00</td>\n",
       "    </tr>\n",
       "    <tr>\n",
       "      <th>c21112TT1</th>\n",
       "      <td>424.750000</td>\n",
       "      <td>267.0</td>\n",
       "      <td>0.25</td>\n",
       "    </tr>\n",
       "    <tr>\n",
       "      <th>c21112aa2</th>\n",
       "      <td>1943.000000</td>\n",
       "      <td>1943.0</td>\n",
       "      <td>1.00</td>\n",
       "    </tr>\n",
       "    <tr>\n",
       "      <th>c21112yNT</th>\n",
       "      <td>755.000000</td>\n",
       "      <td>755.0</td>\n",
       "      <td>1.00</td>\n",
       "    </tr>\n",
       "    <tr>\n",
       "      <th>...</th>\n",
       "      <td>...</td>\n",
       "      <td>...</td>\n",
       "      <td>...</td>\n",
       "    </tr>\n",
       "    <tr>\n",
       "      <th>cyyyyyT74</th>\n",
       "      <td>1019.333333</td>\n",
       "      <td>797.5</td>\n",
       "      <td>0.50</td>\n",
       "    </tr>\n",
       "    <tr>\n",
       "      <th>cyyyyya7c</th>\n",
       "      <td>1894.250000</td>\n",
       "      <td>1379.5</td>\n",
       "      <td>0.50</td>\n",
       "    </tr>\n",
       "    <tr>\n",
       "      <th>cyyyyyd1a</th>\n",
       "      <td>221.000000</td>\n",
       "      <td>221.0</td>\n",
       "      <td>0.00</td>\n",
       "    </tr>\n",
       "    <tr>\n",
       "      <th>cyyyyyd1c</th>\n",
       "      <td>1608.000000</td>\n",
       "      <td>1608.0</td>\n",
       "      <td>1.00</td>\n",
       "    </tr>\n",
       "    <tr>\n",
       "      <th>cyyyyyd77</th>\n",
       "      <td>686.000000</td>\n",
       "      <td>686.0</td>\n",
       "      <td>0.50</td>\n",
       "    </tr>\n",
       "  </tbody>\n",
       "</table>\n",
       "<p>340462 rows × 3 columns</p>\n",
       "</div>"
      ],
      "text/plain": [
       "               mean_original_xp  median_original_xp  player_winrate\n",
       "account_db_id                                                      \n",
       "c2111224a            828.000000               828.0            0.00\n",
       "c211122N4            797.000000               797.0            0.00\n",
       "c21112TT1            424.750000               267.0            0.25\n",
       "c21112aa2           1943.000000              1943.0            1.00\n",
       "c21112yNT            755.000000               755.0            1.00\n",
       "...                         ...                 ...             ...\n",
       "cyyyyyT74           1019.333333               797.5            0.50\n",
       "cyyyyya7c           1894.250000              1379.5            0.50\n",
       "cyyyyyd1a            221.000000               221.0            0.00\n",
       "cyyyyyd1c           1608.000000              1608.0            1.00\n",
       "cyyyyyd77            686.000000               686.0            0.50\n",
       "\n",
       "[340462 rows x 3 columns]"
      ]
     },
     "execution_count": 55,
     "metadata": {},
     "output_type": "execute_result"
    }
   ],
   "source": [
    "players_for_test = data[data.groupby('account_db_id')\n",
    "                        ['account_db_id'].transform('count') < 10][['account_db_id',\n",
    "                                                                    'original_xp', \n",
    "                                                                    'is_winner']]\n",
    "players_for_test = players_for_test.groupby('account_db_id').agg({\n",
    "    'original_xp' : ['mean', 'median'],\n",
    "    'is_winner' : lambda g: sum(g) / len(g)})\n",
    "players_for_test.columns = ['mean_original_xp', 'median_original_xp', 'player_winrate']\n",
    "players_for_test.dropna(axis=0, inplace=True)\n",
    "players_for_test"
   ]
  },
  {
   "cell_type": "code",
   "execution_count": 81,
   "metadata": {},
   "outputs": [],
   "source": [
    "# Predict using mean values\n",
    "Xn_mean_test = mean_scaler.transform(players_for_test[['mean_original_xp']])\n",
    "Yn_mean_predicted = mean_gb_model.predict(Xn_mean_test)\n",
    "\n",
    "# Predict using median values\n",
    "Xn_median_test = median_scaler.transform(players_for_test[['median_original_xp']])\n",
    "Yn_median_predicted = median_gb_model.predict(Xn_median_test)"
   ]
  },
  {
   "cell_type": "code",
   "execution_count": 82,
   "metadata": {},
   "outputs": [
    {
     "data": {
      "image/png": "[encoded data removed]",
      "text/plain": [
       "<Figure size 432x288 with 1 Axes>"
      ]
     },
     "metadata": {
      "needs_background": "light"
     },
     "output_type": "display_data"
    }
   ],
   "source": [
    "sns.distplot(Yn_mean_predicted, kde=False, bins=50);"
   ]
  },
  {
   "cell_type": "code",
   "execution_count": 83,
   "metadata": {},
   "outputs": [
    {
     "data": {
      "image/png": "[encoded data removed]",
      "text/plain": [
       "<Figure size 432x288 with 1 Axes>"
      ]
     },
     "metadata": {
      "needs_background": "light"
     },
     "output_type": "display_data"
    }
   ],
   "source": [
    "sns.distplot(Yn_median_predicted, kde=False, bins=50);"
   ]
  },
  {
   "cell_type": "markdown",
   "metadata": {},
   "source": [
    "Compare results from learning on mean and median values"
   ]
  },
  {
   "cell_type": "code",
   "execution_count": 84,
   "metadata": {},
   "outputs": [],
   "source": [
    "players_for_train['player_winrate_mean'] = preds_mean\n",
    "players_for_test['player_winrate_mean'] = Yn_mean_predicted\n",
    "\n",
    "players_for_train['player_winrate_median'] = preds_median\n",
    "players_for_test['player_winrate_median'] = Yn_median_predicted"
   ]
  },
  {
   "cell_type": "code",
   "execution_count": 85,
   "metadata": {},
   "outputs": [],
   "source": [
    "players_data = pd.concat([players_for_train, players_for_test])\n",
    "data = data.merge(players_data[['player_winrate_mean', \n",
    "                                'player_winrate_median']], how='left', on='account_db_id')"
   ]
  },
  {
   "cell_type": "code",
   "execution_count": 86,
   "metadata": {},
   "outputs": [
    {
     "data": {
      "image/png": "[encoded data removed]",
      "text/plain": [
       "<Figure size 432x288 with 1 Axes>"
      ]
     },
     "metadata": {
      "needs_background": "light"
     },
     "output_type": "display_data"
    }
   ],
   "source": [
    "plt.hist(players_data['player_winrate_mean'], bins=50)\n",
    "plt.show();"
   ]
  },
  {
   "cell_type": "code",
   "execution_count": 87,
   "metadata": {},
   "outputs": [
    {
     "data": {
      "image/png": "[encoded data removed]",
      "text/plain": [
       "<Figure size 432x288 with 1 Axes>"
      ]
     },
     "metadata": {
      "needs_background": "light"
     },
     "output_type": "display_data"
    }
   ],
   "source": [
    "plt.hist(players_data['player_winrate_median'], bins=50)\n",
    "plt.show();"
   ]
  },
  {
   "cell_type": "code",
   "execution_count": 88,
   "metadata": {},
   "outputs": [
    {
     "name": "stdout",
     "output_type": "stream",
     "text": [
      "<class 'pandas.core.frame.DataFrame'>\n",
      "Int64Index: 1402958 entries, 0 to 1402957\n",
      "Data columns (total 67 columns):\n",
      " #   Column                           Non-Null Count    Dtype         \n",
      "---  ------                           --------------    -----         \n",
      " 0   dt                               1402958 non-null  datetime64[ns]\n",
      " 1   arena_id                         1402958 non-null  object        \n",
      " 2   account_db_id                    1402958 non-null  object        \n",
      " 3   team_id                          1402958 non-null  category      \n",
      " 4   clan_db_id                       1402958 non-null  category      \n",
      " 5   prebattle_id                     1402958 non-null  category      \n",
      " 6   is_prebattle_creator             1402958 non-null  category      \n",
      " 7   vehicle_type_cd                  1402958 non-null  category      \n",
      " 8   life_time_sec                    1402958 non-null  int64         \n",
      " 9   shots                            1402958 non-null  int64         \n",
      " 10  hits                             1402958 non-null  int64         \n",
      " 11  he_hits                          1402958 non-null  int64         \n",
      " 12  pierced                          1402958 non-null  int64         \n",
      " 13  damage_dealt                     1402958 non-null  int64         \n",
      " 14  damage_assisted_radio            1402958 non-null  int64         \n",
      " 15  damage_assisted_stun             1402958 non-null  int64         \n",
      " 16  damage_assisted_track            1402958 non-null  int64         \n",
      " 17  damage_received                  1402958 non-null  int64         \n",
      " 18  shots_received                   1402958 non-null  int64         \n",
      " 19  no_damage_shots_received         1402958 non-null  int64         \n",
      " 20  pierced_received                 1402958 non-null  int64         \n",
      " 21  spotted                          1402958 non-null  int64         \n",
      " 22  damaged                          1402958 non-null  int64         \n",
      " 23  kills_made                       1402958 non-null  int64         \n",
      " 24  mileage_meter                    1402958 non-null  int64         \n",
      " 25  remained_hp                      1402958 non-null  int64         \n",
      " 26  original_credits                 1402958 non-null  int64         \n",
      " 27  original_xp                      1402958 non-null  int64         \n",
      " 28  premium_xp_factor                1402958 non-null  int64         \n",
      " 29  daily_xp_factor                  1402958 non-null  int64         \n",
      " 30  battle_num                       1402958 non-null  int64         \n",
      " 31  damage_blocked_by_armor          1402958 non-null  int64         \n",
      " 32  booster_bonus_credits            1402958 non-null  int64         \n",
      " 33  booster_bonus_xp                 1402958 non-null  int64         \n",
      " 34  total_damage_dealt               1402958 non-null  int64         \n",
      " 35  life_time_min                    1402958 non-null  float64       \n",
      " 36  shots_per_min                    1402958 non-null  float64       \n",
      " 37  hits_per_min                     1402958 non-null  float64       \n",
      " 38  he_hits_per_min                  1402958 non-null  float64       \n",
      " 39  pierced_per_min                  1402958 non-null  float64       \n",
      " 40  damage_dealt_per_min             1402958 non-null  float64       \n",
      " 41  damage_assisted_track_per_min    1402958 non-null  float64       \n",
      " 42  damage_assisted_radio_per_min    1402958 non-null  float64       \n",
      " 43  damage_assisted_stun_per_min     1402958 non-null  float64       \n",
      " 44  total_damage_dealt_per_min       1402958 non-null  float64       \n",
      " 45  damage_received_per_min          1402958 non-null  float64       \n",
      " 46  shots_received_per_min           1402958 non-null  float64       \n",
      " 47  pierced_received_per_min         1402958 non-null  float64       \n",
      " 48  spotted_per_min                  1402958 non-null  float64       \n",
      " 49  damaged_per_min                  1402958 non-null  float64       \n",
      " 50  kills_made_per_min               1402958 non-null  float64       \n",
      " 51  mileage_meter_per_min            1402958 non-null  float64       \n",
      " 52  damage_blocked_by_armor_per_min  1402958 non-null  float64       \n",
      " 53  hit_rate                         1402958 non-null  float64       \n",
      " 54  he_hit_rate                      1402958 non-null  float64       \n",
      " 55  pierced_rate                     1402958 non-null  float64       \n",
      " 56  damage_per_pierced               1402958 non-null  float64       \n",
      " 57  pierced_received_per_shot        1402958 non-null  float64       \n",
      " 58  damage_per_enemy                 1402958 non-null  float64       \n",
      " 59  damage_per_enemy_per_min         1402958 non-null  float64       \n",
      " 60  damage_blocked_per_hit           1402958 non-null  float64       \n",
      " 61  damage_blocked_received_ratio    1402958 non-null  float64       \n",
      " 62  is_alive                         1402958 non-null  bool          \n",
      " 63  winner_team_id                   1364370 non-null  float64       \n",
      " 64  is_winner                        1402958 non-null  bool          \n",
      " 65  player_winrate_mean              1402958 non-null  float64       \n",
      " 66  player_winrate_median            1402958 non-null  float64       \n",
      "dtypes: bool(2), category(5), datetime64[ns](1), float64(30), int64(27), object(2)\n",
      "memory usage: 673.7+ MB\n"
     ]
    }
   ],
   "source": [
    "data.info()"
   ]
  },
  {
   "cell_type": "markdown",
   "metadata": {},
   "source": [
    "Check what should be the minimum number of battles for every player so that there are no outliers in the win_rate distribution"
   ]
  },
  {
   "cell_type": "code",
   "execution_count": 93,
   "metadata": {},
   "outputs": [
    {
     "data": {
      "image/png": "[encoded data removed]",
      "text/plain": [
       "<Figure size 432x288 with 1 Axes>"
      ]
     },
     "metadata": {
      "needs_background": "light"
     },
     "output_type": "display_data"
    },
    {
     "data": {
      "image/png": "[encoded data removed]",
      "text/plain": [
       "<Figure size 432x288 with 1 Axes>"
      ]
     },
     "metadata": {
      "needs_background": "light"
     },
     "output_type": "display_data"
    },
    {
     "data": {
      "image/png": "[encoded data removed]",
      "text/plain": [
       "<Figure size 432x288 with 1 Axes>"
      ]
     },
     "metadata": {
      "needs_background": "light"
     },
     "output_type": "display_data"
    },
    {
     "data": {
      "image/png": "[encoded data removed]",
      "text/plain": [
       "<Figure size 432x288 with 1 Axes>"
      ]
     },
     "metadata": {
      "needs_background": "light"
     },
     "output_type": "display_data"
    },
    {
     "data": {
      "image/png": "[encoded data removed]",
      "text/plain": [
       "<Figure size 432x288 with 1 Axes>"
      ]
     },
     "metadata": {
      "needs_background": "light"
     },
     "output_type": "display_data"
    },
    {
     "data": {
      "image/png": "[encoded data removed]",
      "text/plain": [
       "<Figure size 432x288 with 1 Axes>"
      ]
     },
     "metadata": {
      "needs_background": "light"
     },
     "output_type": "display_data"
    },
    {
     "data": {
      "image/png": "[encoded data removed]",
      "text/plain": [
       "<Figure size 432x288 with 1 Axes>"
      ]
     },
     "metadata": {
      "needs_background": "light"
     },
     "output_type": "display_data"
    },
    {
     "data": {
      "image/png": "[encoded data removed]",
      "text/plain": [
       "<Figure size 432x288 with 1 Axes>"
      ]
     },
     "metadata": {
      "needs_background": "light"
     },
     "output_type": "display_data"
    },
    {
     "data": {
      "image/png": "[encoded data removed]",
      "text/plain": [
       "<Figure size 432x288 with 1 Axes>"
      ]
     },
     "metadata": {
      "needs_background": "light"
     },
     "output_type": "display_data"
    },
    {
     "data": {
      "image/png": "[encoded data removed]",
      "text/plain": [
       "<Figure size 432x288 with 1 Axes>"
      ]
     },
     "metadata": {
      "needs_background": "light"
     },
     "output_type": "display_data"
    },
    {
     "data": {
      "image/png": "[encoded data removed]",
      "text/plain": [
       "<Figure size 432x288 with 1 Axes>"
      ]
     },
     "metadata": {
      "needs_background": "light"
     },
     "output_type": "display_data"
    },
    {
     "data": {
      "image/png": "[encoded data removed]",
      "text/plain": [
       "<Figure size 432x288 with 1 Axes>"
      ]
     },
     "metadata": {
      "needs_background": "light"
     },
     "output_type": "display_data"
    },
    {
     "data": {
      "image/png": "[encoded data removed]",
      "text/plain": [
       "<Figure size 432x288 with 1 Axes>"
      ]
     },
     "metadata": {
      "needs_background": "light"
     },
     "output_type": "display_data"
    },
    {
     "data": {
      "image/png": "[encoded data removed]",
      "text/plain": [
       "<Figure size 432x288 with 1 Axes>"
      ]
     },
     "metadata": {
      "needs_background": "light"
     },
     "output_type": "display_data"
    },
    {
     "data": {
      "image/png": "[encoded data removed]",
      "text/plain": [
       "<Figure size 432x288 with 1 Axes>"
      ]
     },
     "metadata": {
      "needs_background": "light"
     },
     "output_type": "display_data"
    },
    {
     "data": {
      "image/png": "[encoded data removed]",
      "text/plain": [
       "<Figure size 432x288 with 1 Axes>"
      ]
     },
     "metadata": {
      "needs_background": "light"
     },
     "output_type": "display_data"
    },
    {
     "data": {
      "image/png": "[encoded data removed]",
      "text/plain": [
       "<Figure size 432x288 with 1 Axes>"
      ]
     },
     "metadata": {
      "needs_background": "light"
     },
     "output_type": "display_data"
    },
    {
     "data": {
      "image/png": "[encoded data removed]",
      "text/plain": [
       "<Figure size 432x288 with 1 Axes>"
      ]
     },
     "metadata": {
      "needs_background": "light"
     },
     "output_type": "display_data"
    },
    {
     "data": {
      "image/png": "[encoded data removed]",
      "text/plain": [
       "<Figure size 432x288 with 1 Axes>"
      ]
     },
     "metadata": {
      "needs_background": "light"
     },
     "output_type": "display_data"
    },
    {
     "data": {
      "image/png": "[encoded data removed]",
      "text/plain": [
       "<Figure size 432x288 with 1 Axes>"
      ]
     },
     "metadata": {
      "needs_background": "light"
     },
     "output_type": "display_data"
    },
    {
     "data": {
      "image/png": "[encoded data removed]",
      "text/plain": [
       "<Figure size 432x288 with 1 Axes>"
      ]
     },
     "metadata": {
      "needs_background": "light"
     },
     "output_type": "display_data"
    },
    {
     "data": {
      "image/png": "[encoded data removed]",
      "text/plain": [
       "<Figure size 432x288 with 1 Axes>"
      ]
     },
     "metadata": {
      "needs_background": "light"
     },
     "output_type": "display_data"
    }
   ],
   "source": [
    "battle_thresholds = np.arange(11)\n",
    "\n",
    "for battle_threshold in battle_thresholds:\n",
    "    new_mean_data = data[data.groupby('account_db_id')\n",
    "                         ['account_db_id'].\n",
    "                         transform('count') >= battle_threshold]['player_winrate_mean']\n",
    "    plt.hist(new_mean_data, bins=50);\n",
    "    plt.title('Battle threshold = ' + str(battle_threshold));\n",
    "    plt.show();\n",
    "\n",
    "    new_data_median = data[data.groupby('account_db_id')\n",
    "                           ['account_db_id'].\n",
    "                           transform('count') >= battle_threshold]['player_winrate_median']\n",
    "    plt.hist(new_data_median, bins=50);\n",
    "    plt.title('Battle threshold = ' + str(battle_threshold));\n",
    "    plt.show();"
   ]
  },
  {
   "cell_type": "markdown",
   "metadata": {},
   "source": [
    "## Calculate tank win_rates"
   ]
  },
  {
   "cell_type": "code",
   "execution_count": 90,
   "metadata": {},
   "outputs": [],
   "source": [
    "data = data[data.groupby('vehicle_type_cd')['vehicle_type_cd'].transform('count') >= 100]"
   ]
  },
  {
   "cell_type": "code",
   "execution_count": 91,
   "metadata": {},
   "outputs": [
    {
     "data": {
      "image/png": "[encoded data removed]",
      "text/plain": [
       "<Figure size 432x288 with 1 Axes>"
      ]
     },
     "metadata": {
      "needs_background": "light"
     },
     "output_type": "display_data"
    }
   ],
   "source": [
    "plt.hist(data['player_winrate_median'], bins=50)\n",
    "plt.show();"
   ]
  },
  {
   "cell_type": "code",
   "execution_count": 92,
   "metadata": {},
   "outputs": [
    {
     "data": {
      "image/png": "[encoded data removed]",
      "text/plain": [
       "<Figure size 432x288 with 1 Axes>"
      ]
     },
     "metadata": {
      "needs_background": "light"
     },
     "output_type": "display_data"
    }
   ],
   "source": [
    "plt.hist(data['player_winrate_mean'], bins=50)\n",
    "plt.show();"
   ]
  },
  {
   "cell_type": "code",
   "execution_count": null,
   "metadata": {},
   "outputs": [],
   "source": [
    "tanks_data = data.groupby('vehicle_type_cd')[['original_xp',\n",
    "                                              'is_winner']].agg({'original_xp' : ['mean', 'median'],\n",
    "                                                                 'is_winner' : lambda g: sum(g) / len(g)})\n",
    "tanks_data.columns = ['mean_original_xp', 'median_original_xp', 'tank_winrate']\n",
    "tanks_data.dropna(axis=0, inplace=True)\n",
    "tanks_data"
   ]
  },
  {
   "cell_type": "code",
   "execution_count": null,
   "metadata": {},
   "outputs": [],
   "source": [
    "plt.hist(tanks_data['tank_winrate'], bins=50)\n",
    "plt.show();"
   ]
  },
  {
   "cell_type": "markdown",
   "metadata": {},
   "source": [
    "## Create new features (normalized to win_rate)"
   ]
  },
  {
   "cell_type": "code",
   "execution_count": null,
   "metadata": {},
   "outputs": [],
   "source": [
    "normed_win_rate = 1 - data['player_winrate_median']\n",
    "normed_win_rate"
   ]
  },
  {
   "cell_type": "code",
   "execution_count": null,
   "metadata": {},
   "outputs": [],
   "source": [
    "data.info()"
   ]
  },
  {
   "cell_type": "code",
   "execution_count": null,
   "metadata": {},
   "outputs": [],
   "source": [
    "data.loc[:, 'normed_damage_dealt'] = normed_win_rate * data['damage_dealt']\n",
    "data.loc[:, 'normed_damage_assisted_stun'] = normed_win_rate * data['damage_assisted_stun']\n",
    "data.loc[:, 'normed_damage_assisted_track'] = normed_win_rate * data['damage_assisted_track']\n",
    "data.loc[:, 'normed_damage_blocked_by_armor'] = normed_win_rate * data['damage_blocked_by_armor']\n",
    "\n",
    "# Additional features\n",
    "# data['normed_damage_assisted_radio'] = normed_win_rate * data['damage_assisted_radio']\n",
    "# data['normed_hits_per_min'] = normed_win_rate * data['hits_per_min']"
   ]
  },
  {
   "cell_type": "code",
   "execution_count": null,
   "metadata": {},
   "outputs": [],
   "source": [
    "sns.distplot(data['damage_dealt'], kde=False, bins=40);\n",
    "sns.distplot(data['normed_damage_dealt'], kde=False, bins=40);"
   ]
  },
  {
   "cell_type": "code",
   "execution_count": null,
   "metadata": {},
   "outputs": [],
   "source": [
    "tanks_catalog = catalog.merge(tanks_data, how='left', left_on='item_cd', right_on=tanks_data.index)\n",
    "tanks_catalog.dropna(axis=0, inplace=True)"
   ]
  },
  {
   "cell_type": "code",
   "execution_count": null,
   "metadata": {},
   "outputs": [],
   "source": [
    "tanks_catalog"
   ]
  },
  {
   "cell_type": "code",
   "execution_count": null,
   "metadata": {},
   "outputs": [],
   "source": [
    "data = data.merge(tanks_catalog, how='left', left_on='vehicle_type_cd', right_on='item_cd')\n",
    "data.drop(['item_cd'], axis=1, inplace=True)"
   ]
  },
  {
   "cell_type": "code",
   "execution_count": null,
   "metadata": {},
   "outputs": [],
   "source": [
    "dataset = data[['vehicle_type_cd', 'item_class', 'item_level', 'tank_winrate',\n",
    "                'normed_damage_dealt', 'normed_damage_assisted_track', \n",
    "                'normed_damage_blocked_by_armor',\n",
    "                'item_price_credit', 'item_price_gold']]\n",
    "dataset"
   ]
  },
  {
   "cell_type": "code",
   "execution_count": null,
   "metadata": {},
   "outputs": [],
   "source": [
    "new_data = data[data.groupby('account_db_id')['vehicle_type_cd'].transform('count') >= 10]\n",
    "new_data"
   ]
  },
  {
   "cell_type": "code",
   "execution_count": null,
   "metadata": {},
   "outputs": [],
   "source": [
    "new_data[(new_data['item_price_credit'] == 0) &\n",
    "         (new_data['item_price_gold'] != 0)]['vehicle_type_cd'].nunique()"
   ]
  },
  {
   "cell_type": "markdown",
   "metadata": {},
   "source": [
    "# Removing redundant features and outlier rows"
   ]
  },
  {
   "cell_type": "markdown",
   "metadata": {},
   "source": [
    "## Redundant features"
   ]
  },
  {
   "cell_type": "code",
   "execution_count": null,
   "metadata": {},
   "outputs": [],
   "source": [
    "redundant_features = ['premium_xp_factor', 'daily_xp_factor', 'is_prebattle_creator']\n",
    "data.drop(redundant_features, axis=1, inplace=True)"
   ]
  },
  {
   "cell_type": "code",
   "execution_count": null,
   "metadata": {},
   "outputs": [],
   "source": [
    "data.info()"
   ]
  },
  {
   "cell_type": "code",
   "execution_count": null,
   "metadata": {},
   "outputs": [],
   "source": [
    "new_dataset.drop('Unnamed: 0', axis=1, inplace=True)"
   ]
  },
  {
   "cell_type": "markdown",
   "metadata": {},
   "source": [
    "## Outliers"
   ]
  },
  {
   "cell_type": "code",
   "execution_count": null,
   "metadata": {},
   "outputs": [],
   "source": [
    "# Removing \"away-from-keyboard\" players\n",
    "afk_players = (data['mileage_meter'] == 0) & (data['total_damage_dealt'] == 0)\n",
    "data = data.loc[~afk_players]\n",
    "data.reset_index(inplace=True, drop=True)"
   ]
  },
  {
   "cell_type": "markdown",
   "metadata": {},
   "source": [
    "# Preparing data for regression"
   ]
  },
  {
   "cell_type": "markdown",
   "metadata": {},
   "source": [
    "## Creating features and targets"
   ]
  },
  {
   "cell_type": "code",
   "execution_count": null,
   "metadata": {},
   "outputs": [],
   "source": [
    "regression_dataset = dataset.groupby('vehicle_type_cd').mean()"
   ]
  },
  {
   "cell_type": "markdown",
   "metadata": {},
   "source": [
    "## Regression model (Egor)"
   ]
  },
  {
   "cell_type": "code",
   "execution_count": null,
   "metadata": {},
   "outputs": [],
   "source": [
    "res_data = joined_data.groupby('vehicle_type_cd').mean().reset_index()\n",
    "res_data = res_data[res_data['vehicle_type_cd'] != 9217]\n",
    "\n",
    "features = ['item_level', 'item_class', 'damage_dealt', 'original_xp', 'original_credits', 'kills_made', 'damage_assisted_stun', 'he_hits', 'crew_size', 'hits', 'booster_bonus_credits']\n",
    "target_credit = ['item_price_credit']\n",
    "target_gold = ['item_price_gold']\n",
    "\n",
    "credit_dataset = res_data[res_data['item_price_credit'] != 0][features + target_credit]\n",
    "gold_dataset = res_data[res_data['item_price_gold'] != 0][features + target_gold]\n",
    "\n",
    "gold_dataset"
   ]
  },
  {
   "cell_type": "code",
   "execution_count": null,
   "metadata": {},
   "outputs": [],
   "source": [
    "credit_scaler = StandardScaler()\n",
    "gold_scaler = StandardScaler()\n",
    "\n",
    "normed_credit_dataset = pd.DataFrame(credit_scaler.fit_transform(credit_dataset), columns=[features + target_credit])\n",
    "normed_gold_dataset = pd.DataFrame(gold_scaler.fit_transform(gold_dataset), columns=[features + target_gold])\n",
    "\n",
    "normed_gold_dataset"
   ]
  },
  {
   "cell_type": "code",
   "execution_count": null,
   "metadata": {
    "ExecuteTime": {
     "end_time": "2020-04-20T19:25:18.193693Z",
     "start_time": "2020-04-20T19:25:18.180728Z"
    }
   },
   "outputs": [],
   "source": [
    "train_data, train_labels = np.array(normed_gold_dataset[features]), np.array(normed_gold_dataset[target_gold])"
   ]
  },
  {
   "cell_type": "code",
   "execution_count": null,
   "metadata": {},
   "outputs": [],
   "source": [
    "k = 10\n",
    "epochs = 100\n",
    "\n",
    "models = []\n",
    "for train_index, test_index in KFold(n_splits=k).split(train_data):\n",
    "    x_train, y_train = train_data[train_index], train_labels[train_index]\n",
    "    x_test, y_test = train_data[test_index], train_labels[test_index]\n",
    "    \n",
    "    model = build_model()\n",
    "    history = model.fit(x_train, y_train, \n",
    "                        validation_data=(x_test, y_test),\n",
    "                        epochs=epochs, shuffle=True, verbose=0)\n",
    "    loss = model.evaluate(x_test, y_test)\n",
    "    models.append((model, history, loss))"
   ]
  },
  {
   "cell_type": "code",
   "execution_count": null,
   "metadata": {},
   "outputs": [],
   "source": [
    "plot_history(models)"
   ]
  },
  {
   "cell_type": "code",
   "execution_count": null,
   "metadata": {},
   "outputs": [],
   "source": [
    "mean_mse = get_mean_mse(models)\n",
    "mean_mse"
   ]
  },
  {
   "cell_type": "code",
   "execution_count": null,
   "metadata": {
    "ExecuteTime": {
     "end_time": "2020-04-20T19:38:50.558981Z",
     "start_time": "2020-04-20T19:38:50.502137Z"
    }
   },
   "outputs": [],
   "source": [
    "#'item_level', 'item_class' 'damage_dealt', 'original_xp', 'original_credits', 'kills_made', 'damage_assisted_stun', 'he_hits', 'crew_size', 'hits', 'booster_bonus_credits'\n",
    "\n",
    "tank_params = [[8, 2, 994.758446, 1051.125426, 41486.045662, 0.614389, 0.0, 0.054945, 4.0, 5.207303, 2978.862081, 5]]\n",
    "\n",
    "best_model = get_best_model(models)\n",
    "\n",
    "x = gold_scaler.transform(tank_params)[:,:len(tank_params[0])-1]\n",
    "test_predictions = best_model.predict(x)\n",
    "xx = np.concatenate((x[0], test_predictions[0]))\n",
    "gold_scaler.inverse_transform(xx)[-1]"
   ]
  },
  {
   "cell_type": "code",
   "execution_count": null,
   "metadata": {},
   "outputs": [],
   "source": [
    "res_data[res_data['vehicle_type_cd'] == 9217][features]"
   ]
  },
  {
   "cell_type": "markdown",
   "metadata": {},
   "source": [
    "## Regression models (Dasha)"
   ]
  },
  {
   "cell_type": "markdown",
   "metadata": {},
   "source": [
    "## Create different models"
   ]
  },
  {
   "cell_type": "code",
   "execution_count": null,
   "metadata": {},
   "outputs": [],
   "source": [
    "regression_dataset"
   ]
  },
  {
   "cell_type": "code",
   "execution_count": null,
   "metadata": {},
   "outputs": [],
   "source": [
    "key_tank_id = 9217\n",
    "\n",
    "regression_gold_dataset = regression_dataset[regression_dataset['item_price_gold'] > 0]\n",
    "\n",
    "regression_gold_target = regression_gold_dataset['item_price_gold']\n",
    "regression_gold_features = regression_gold_dataset.drop(['item_price_gold', 'item_price_credit'], axis=1)\n",
    "\n",
    "# Select only data that corresponds to tank_id = 9217\n",
    "key_tank_features = regression_gold_features[regression_gold_features.index == \n",
    "                                            key_tank_id]\n",
    "key_tank_target = regression_gold_target[regression_gold_target.index == \n",
    "                                          key_tank_id]\n",
    "# Remove this selection from the regression dataset\n",
    "regression_features = regression_gold_features[regression_gold_features.index != \n",
    "                                               key_tank_id]\n",
    "regression_target = regression_gold_target[regression_gold_target.index != \n",
    "                                           key_tank_id]"
   ]
  },
  {
   "cell_type": "markdown",
   "metadata": {},
   "source": [
    "Introducing different regression models"
   ]
  },
  {
   "cell_type": "code",
   "execution_count": null,
   "metadata": {},
   "outputs": [],
   "source": [
    "models = [RandomForestRegressor(), \n",
    "          GradientBoostingRegressor(),\n",
    "          SVR(),\n",
    "          SVR(),\n",
    "          SVR()]\n",
    "\n",
    "parameters = [\n",
    "    {'n_estimators': [10, 50, 100, 500, 1000], 'max_depth': [2, 4, 6, 8, 10]},\n",
    "    {'n_estimators': [10, 50, 100, 500, 1000], 'max_depth': [2, 4, 6, 8, 10]},\n",
    "    {'C': [1, 10, 100, 1000], 'kernel': ['linear']},\n",
    "    {'C': [1, 10, 100, 1000], 'gamma': [0.01, 0.001, 0.0001, 0.00001], \n",
    "     'kernel': ['rbf']},\n",
    "    {'C': [1, 10, 100, 1000], 'gamma': [0.01, 0.001, 0.0001, 0.00001], \n",
    "     'degree': [2, 3], 'coef0': [0, 1, 10, 100], 'kernel': ['poly']}\n",
    " ]\n",
    "\n",
    "model_names = ['RandomForest', 'GradientBoost', 'SVM_linear', 'SVM_rbf', 'SVM_poly']"
   ]
  },
  {
   "cell_type": "code",
   "execution_count": null,
   "metadata": {},
   "outputs": [],
   "source": [
    "is_target_scaled=True\n",
    "is_pca_used=True\n",
    "\n",
    "scores = ['MSE', 'RMSE', 'MAE']\n",
    "regression_scores = np.zeros((len(models), len(scores)))\n",
    "\n",
    "# Starting regression analysis\n",
    "x_train = regression_features\n",
    "y_train = regression_target\n",
    "x_test = key_tank_features\n",
    "y_test = key_tank_target\n",
    "\n",
    "scaler = StandardScaler()\n",
    "# Scaling features\n",
    "x_train_scaled = scaler.fit_transform(x_train)\n",
    "x_test_scaled = scaler.transform(x_test)\n",
    "\n",
    "if is_target_scaled:\n",
    "    y_train_scaled = scaler.fit_transform(y_train.values.reshape(-1, 1)).ravel()\n",
    "    y_test_scaled = scaler.transform(y_test.values.reshape(-1, 1)).ravel()\n",
    "else:\n",
    "    y_train_scaled = y_train\n",
    "    y_test_scaled = y_test\n",
    "\n",
    "# Removing collinearity between features\n",
    "if is_pca_used:\n",
    "    pca_model = PCA(n_components=0.95)\n",
    "    x_train_pca = pca_model.fit_transform(x_train_scaled)\n",
    "    x_test_pca = pca_model.transform(x_test_scaled)\n",
    "else:\n",
    "    x_train_pca = x_train_scaled\n",
    "    x_test_pca = x_test_scaled\n",
    "    \n",
    "results = y_test_scaled.reshape(-1, 1)\n",
    "for idx, model in enumerate(models):\n",
    "    gc_model = GridSearchCV(estimator=model, \n",
    "                            param_grid=parameters[idx],\n",
    "                            cv=10,\n",
    "                            refit=True,\n",
    "                            scoring='neg_mean_squared_error',\n",
    "                            iid=False)\n",
    "    gc_model.fit(x_train_pca, y_train_scaled)\n",
    "    \n",
    "    best_model = gc_model.best_estimator_\n",
    "    print(model_names[idx], gc_model.best_params_)\n",
    "    \n",
    "    # Use model with the best parameters to train on the whole dataset\n",
    "    best_model.fit(x_train_pca, y_train_scaled)        \n",
    "    y_predicted = best_model.predict(x_test_pca)\n",
    "        \n",
    "    # Saving prediction results\n",
    "    if is_target_scaled:\n",
    "        results = np.hstack((results, scaler.inverse_transform(y_predicted).reshape(-1, 1)))\n",
    "    else:\n",
    "        results = np.hstack((results, y_predicted.reshape(-1, 1)))\n",
    "    \n",
    "    # Saving accuracy scores\n",
    "    regression_scores[idx, 0] = mean_squared_error(y_test_scaled, y_predicted)\n",
    "    regression_scores[idx, 1] = np.sqrt(mean_squared_error(y_test_scaled, y_predicted))\n",
    "    regression_scores[idx, 2] = mean_absolute_error(y_test_scaled, y_predicted)\n",
    "    \n",
    "# Saving prediction results\n",
    "regression_results = pd.DataFrame(data=results, index=x_test.index.values,\n",
    "                                  columns=['y'] + model_names)\n",
    "regression_scores = pd.DataFrame(data=regression_scores, index=model_names,\n",
    "                                 columns=scores)"
   ]
  },
  {
   "cell_type": "code",
   "execution_count": null,
   "metadata": {},
   "outputs": [],
   "source": [
    "regression_results"
   ]
  },
  {
   "cell_type": "code",
   "execution_count": null,
   "metadata": {},
   "outputs": [],
   "source": [
    "regression_scores"
   ]
  },
  {
   "cell_type": "markdown",
   "metadata": {},
   "source": [
    "Visualize best predictions"
   ]
  },
  {
   "cell_type": "code",
   "execution_count": null,
   "metadata": {
    "ExecuteTime": {
     "end_time": "2020-04-20T19:23:56.783844Z",
     "start_time": "2020-04-20T19:23:56.759877Z"
    }
   },
   "outputs": [],
   "source": [
    "for model in model_names:\n",
    "    best_prediction = mse_scores[model].idxmin()\n",
    "\n",
    "    targets = [regression_results[best_prediction]['y'],\n",
    "               regression_results[best_prediction][model]]\n",
    "\n",
    "    compare_results(targets, [-6_000, 6_000], model)\n",
    "    \n",
    "    # Perform PCA and visualize results\n",
    "    items = regression_features.loc[regression_results[best_prediction][model].index]\n",
    "    pca_items = perform_pca(items)\n",
    "\n",
    "    visualize_data(pca_items, targets, model, dr_type='PCA')\n",
    "    \n",
    "    # Perform TSNE and visualize results\n",
    "    tsne_items = TSNE(n_components=2, perplexity=5, learning_rate=10, init='pca').fit_transform(pca_items)\n",
    "    \n",
    "    visualize_data(tsne_items, targets, model, dr_type='t-SNE')"
   ]
  },
  {
   "cell_type": "markdown",
   "metadata": {},
   "source": [
    "## Check battle levels"
   ]
  },
  {
   "cell_type": "code",
   "execution_count": null,
   "metadata": {},
   "outputs": [],
   "source": [
    "# Create a dataframe with \n",
    "battle_players = full_battles_data.groupby('arena_id')['item_level'].agg(levels=lambda x: sorted(list(x.unique())), \n",
    "                                                                         level_count=pd.Series.nunique)"
   ]
  },
  {
   "cell_type": "code",
   "execution_count": null,
   "metadata": {},
   "outputs": [],
   "source": [
    "battle_players.dropna(axis=0, inplace=True)"
   ]
  },
  {
   "cell_type": "code",
   "execution_count": null,
   "metadata": {},
   "outputs": [],
   "source": [
    "battle_players"
   ]
  },
  {
   "cell_type": "markdown",
   "metadata": {},
   "source": [
    "The following options are possible:\n",
    "> level_count = 3: [7, 8, 9], [8, 9, 10], [6, 7, 8]\n",
    "\n",
    "> level_count = 2: [7, 8], [8, 9]\n",
    "\n",
    "> level_count = 1: [8]"
   ]
  },
  {
   "cell_type": "code",
   "execution_count": null,
   "metadata": {},
   "outputs": [],
   "source": [
    "battle_players[battle_players['level_count'] == 3]['levels'].value_counts()"
   ]
  },
  {
   "cell_type": "code",
   "execution_count": null,
   "metadata": {},
   "outputs": [],
   "source": [
    "battle_players['battle_level'] = battle_players['levels'].apply(lambda row: max(row))"
   ]
  },
  {
   "cell_type": "code",
   "execution_count": null,
   "metadata": {},
   "outputs": [],
   "source": [
    "new_battle_data = full_battles_data.merge(battle_players['battle_level'], how='left', \n",
    "                                          left_on='arena_id', right_on=battle_players.index)"
   ]
  },
  {
   "cell_type": "markdown",
   "metadata": {},
   "source": [
    "Check mean battle_level for each tank"
   ]
  },
  {
   "cell_type": "code",
   "execution_count": null,
   "metadata": {},
   "outputs": [],
   "source": [
    "tanks = new_battle_data['vehicle_type_cd'].unique()"
   ]
  },
  {
   "cell_type": "code",
   "execution_count": null,
   "metadata": {},
   "outputs": [],
   "source": [
    "tank_params = pd.DataFrame(data=tanks, columns=['tank_id'])\n",
    "tank_params = tank_params.merge(catalog, how='left',\n",
    "                               left_on='tank_id', right_on='item_cd')\n",
    "tank_params.drop(['item_cd'], axis=1, inplace=True)"
   ]
  },
  {
   "cell_type": "code",
   "execution_count": null,
   "metadata": {},
   "outputs": [],
   "source": [
    "tank_params"
   ]
  },
  {
   "cell_type": "code",
   "execution_count": null,
   "metadata": {},
   "outputs": [],
   "source": [
    "mean_battle_levels = new_battle_data.groupby('vehicle_type_cd')['battle_level'].agg(mean_battle_level=np.mean)\n",
    "new_battle_data = new_battle_data.merge(mean_battle_levels, how='left', \n",
    "                                        left_on='vehicle_type_cd', right_on=mean_battle_levels.index)"
   ]
  },
  {
   "cell_type": "code",
   "execution_count": null,
   "metadata": {},
   "outputs": [],
   "source": [
    "new_battle_data.head()"
   ]
  },
  {
   "cell_type": "code",
   "execution_count": null,
   "metadata": {},
   "outputs": [],
   "source": [
    "tank_params = tank_params.merge(mean_battle_levels, how='left', \n",
    "                                left_on='tank_id', right_on=mean_battle_levels.index)\n",
    "tank_params"
   ]
  },
  {
   "cell_type": "code",
   "execution_count": null,
   "metadata": {},
   "outputs": [],
   "source": [
    "sns.scatterplot(x=tank_params['item_level'], y=tank_params['mean_battle_level']);"
   ]
  },
  {
   "cell_type": "markdown",
   "metadata": {},
   "source": [
    "Check item_level = mean_battle_level = 1\n",
    "\n",
    "<br> This tank can be removed from the dataset!"
   ]
  },
  {
   "cell_type": "code",
   "execution_count": null,
   "metadata": {},
   "outputs": [],
   "source": [
    "tank_params[(tank_params['item_level'] == 8) & (tank_params['mean_battle_level'] == 8)]"
   ]
  },
  {
   "cell_type": "code",
   "execution_count": null,
   "metadata": {},
   "outputs": [],
   "source": [
    "new_battle_data[new_battle_data['vehicle_type_cd'] == 62481]"
   ]
  },
  {
   "cell_type": "markdown",
   "metadata": {},
   "source": [
    "What if players used to play in platoons?"
   ]
  },
  {
   "cell_type": "code",
   "execution_count": null,
   "metadata": {},
   "outputs": [],
   "source": [
    "premium_battle_data = new_battle_data[(new_battle_data['item_price_credit'] == 0) & \n",
    "                                      (new_battle_data['item_price_gold'] != 0)]"
   ]
  },
  {
   "cell_type": "code",
   "execution_count": null,
   "metadata": {},
   "outputs": [],
   "source": [
    "premium_battle_data.groupby('vehicle_type_cd')['arena_id'].count().sort_values(ascending=False)"
   ]
  },
  {
   "cell_type": "code",
   "execution_count": null,
   "metadata": {},
   "outputs": [],
   "source": []
  },
  {
   "cell_type": "code",
   "execution_count": null,
   "metadata": {},
   "outputs": [],
   "source": []
  },
  {
   "cell_type": "code",
   "execution_count": null,
   "metadata": {},
   "outputs": [],
   "source": [
    "players.dropna(inplace=True)"
   ]
  },
  {
   "cell_type": "code",
   "execution_count": null,
   "metadata": {},
   "outputs": [],
   "source": [
    "player_features = ['hit_rate', 'pierced_rate', 'damage_per_enemy', \n",
    "                  'damage_blocked_received_ratio', 'kills_made_per_min',\n",
    "                  'total_damage_dealt']\n",
    "players_data = players[player_features]"
   ]
  },
  {
   "cell_type": "markdown",
   "metadata": {},
   "source": [
    "## Check \"battle_num\""
   ]
  },
  {
   "cell_type": "code",
   "execution_count": null,
   "metadata": {},
   "outputs": [],
   "source": [
    "plt.figure(figsize=(8, 6));\n",
    "sns.distplot(joined_data['battle_num'], kde=False, bins=50);"
   ]
  },
  {
   "cell_type": "code",
   "execution_count": null,
   "metadata": {},
   "outputs": [],
   "source": [
    "def calc_diff(data):\n",
    "    return data.max() - data.min()"
   ]
  },
  {
   "cell_type": "code",
   "execution_count": null,
   "metadata": {},
   "outputs": [],
   "source": [
    "battle_nums = joined_data.groupby('account_db_id')['battle_num'].agg(['min', 'max', calc_diff, 'count'])\n",
    "battle_nums['battles_per_day'] = battle_nums['calc_diff'] / 31"
   ]
  },
  {
   "cell_type": "code",
   "execution_count": null,
   "metadata": {},
   "outputs": [],
   "source": [
    "joined_data[joined_]"
   ]
  },
  {
   "cell_type": "code",
   "execution_count": null,
   "metadata": {},
   "outputs": [],
   "source": [
    "battle_nums['calc_diff'].max()"
   ]
  },
  {
   "cell_type": "code",
   "execution_count": null,
   "metadata": {},
   "outputs": [],
   "source": [
    "plt.figure(figsize=(8, 6));\n",
    "sns.distplot(battle_nums['count'], kde=False, bins=50, norm_hist=True, color='tab:blue');\n",
    "# sns.distplot(battle_nums['calc_diff'], kde=False, bins=50, norm_hist=True, color='tab:orange');\n",
    "sns.distplot(battle_nums['battles_per_day'], kde=False, bins=50, norm_hist=True, color='tab:purple');"
   ]
  },
  {
   "cell_type": "code",
   "execution_count": null,
   "metadata": {},
   "outputs": [],
   "source": [
    "nonzero_damage = joined_data[joined_data['total_damage_dealt'] > 0][['account_db_id',\n",
    "                                                                    'total_damage_dealt', \n",
    "                                                                    'total_damage_dealt_per_min']]"
   ]
  },
  {
   "cell_type": "code",
   "execution_count": null,
   "metadata": {},
   "outputs": [],
   "source": [
    "sns.scatterplot(battle_nums['battles_per_day'], \n",
    "                nonzero_damage.groupby('account_db_id')['total_damage_dealt'].mean())"
   ]
  },
  {
   "cell_type": "code",
   "execution_count": null,
   "metadata": {},
   "outputs": [],
   "source": [
    "bot_players = battle_nums[battle_nums['calc_diff'] > 5000].index.values"
   ]
  },
  {
   "cell_type": "code",
   "execution_count": null,
   "metadata": {},
   "outputs": [],
   "source": [
    "data[data['account_db_id'].isin(bot_players)]['dt'].value_counts()"
   ]
  },
  {
   "cell_type": "code",
   "execution_count": null,
   "metadata": {},
   "outputs": [],
   "source": []
  },
  {
   "cell_type": "code",
   "execution_count": null,
   "metadata": {},
   "outputs": [],
   "source": []
  },
  {
   "cell_type": "code",
   "execution_count": null,
   "metadata": {},
   "outputs": [],
   "source": []
  }
 ],
 "metadata": {
  "colab": {
   "collapsed_sections": [],
   "name": "WGProject.ipynb",
   "provenance": []
  },
  "hide_input": false,
  "kernelspec": {
   "display_name": "Python 3",
   "language": "python",
   "name": "python3"
  },
  "language_info": {
   "codemirror_mode": {
    "name": "ipython",
    "version": 3
   },
   "file_extension": ".py",
   "mimetype": "text/x-python",
   "name": "python",
   "nbconvert_exporter": "python",
   "pygments_lexer": "ipython3",
   "version": "3.7.4"
  },
  "toc": {
   "base_numbering": 1,
   "nav_menu": {},
   "number_sections": true,
   "sideBar": true,
   "skip_h1_title": false,
   "title_cell": "Table of Contents",
   "title_sidebar": "Contents",
   "toc_cell": false,
   "toc_position": {
    "height": "calc(100% - 180px)",
    "left": "10px",
    "top": "150px",
    "width": "213.917px"
   },
   "toc_section_display": true,
   "toc_window_display": true
  },
  "varInspector": {
   "cols": {
    "lenName": 16,
    "lenType": 16,
    "lenVar": 40
   },
   "kernels_config": {
    "python": {
     "delete_cmd_postfix": "",
     "delete_cmd_prefix": "del ",
     "library": "var_list.py",
     "varRefreshCmd": "print(var_dic_list())"
    },
    "r": {
     "delete_cmd_postfix": ") ",
     "delete_cmd_prefix": "rm(",
     "library": "var_list.r",
     "varRefreshCmd": "cat(var_dic_list()) "
    }
   },
   "types_to_exclude": [
    "module",
    "function",
    "builtin_function_or_method",
    "instance",
    "_Feature"
   ],
   "window_display": false
  }
 },
 "nbformat": 4,
 "nbformat_minor": 1
}
